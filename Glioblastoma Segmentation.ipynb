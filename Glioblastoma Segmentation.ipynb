{
 "cells": [
  {
   "attachments": {},
   "cell_type": "markdown",
   "metadata": {},
   "source": [
    "# 3D Segmentation of Brain Tumor\n",
    "\n",
    "This document is to propose a 2D methodology instead of treating it as a 3D input.\n",
    "\n",
    "\n",
    "## Loading the Dataset\n",
    "The dataset used is the BraTS 2020 Dataset.\n",
    "\n",
    "The Dataset Contains the Following Scans per case:\n",
    "\n",
    "T1: T1-weighted, native image, sagittal or axial 2D acquisitions, with 1–6 mm slice thickness.\n",
    "\n",
    "T1c: T1-weighted, contrast-enhanced (Gadolinium) image, with 3D acquisition and 1 mm isotropic voxel size for most patients.\n",
    "\n",
    "T2: T2-weighted image, axial 2D acquisition, with 2–6 mm slice thickness.\n",
    "\n",
    "FLAIR: T2-weighted FLAIR image, axial, coronal, or sagittal 2D acquisitions, 2–6 mm slice thickness.\n",
    "\n",
    "So for training T1ce, T2 and FLAIR will be used."
   ]
  },
  {
   "attachments": {},
   "cell_type": "markdown",
   "metadata": {},
   "source": [
    "### Importing all dependencies"
   ]
  },
  {
   "cell_type": "code",
   "execution_count": 1,
   "metadata": {},
   "outputs": [
    {
     "name": "stderr",
     "output_type": "stream",
     "text": [
      "c:\\Users\\ibrah\\miniconda3\\envs\\fyp\\lib\\site-packages\\tqdm\\auto.py:22: TqdmWarning: IProgress not found. Please update jupyter and ipywidgets. See https://ipywidgets.readthedocs.io/en/stable/user_install.html\n",
      "  from .autonotebook import tqdm as notebook_tqdm\n"
     ]
    }
   ],
   "source": [
    "# Previewing the MRI Data\n",
    "# TODO: Collect all imports later and add notes next to them\n",
    "import numpy as np\n",
    "from datetime import datetime\n",
    "import matplotlib.pyplot as plt\n",
    "from os import path, listdir\n",
    "from monai.data import Dataset, list_data_collate, DataLoader, decollate_batch\n",
    "from monai.transforms import (\n",
    "    LoadImaged,\n",
    "    Compose,\n",
    "    MapTransform,\n",
    "    Orientationd,\n",
    "    EnsureTyped,\n",
    "    ToMetaTensord,  # ? same as ensuretyped?\n",
    "    EnsureChannelFirstd,\n",
    "    NormalizeIntensityd,\n",
    "    Spacingd,\n",
    "    DivisiblePadd,  # ? For UNet needs to be divisible by?\n",
    "    RandCropByPosNegLabeld,\n",
    "    RandFlipd,\n",
    "    RandScaleIntensityd,\n",
    "    RandShiftIntensityd,\n",
    "    Activations,\n",
    "    AsDiscrete,\n",
    ")\n",
    "\n",
    "from monai.networks.nets import SegResNet, UNet, UNETR\n",
    "from monai.losses import DiceLoss, DiceCELoss\n",
    "from monai.metrics import DiceMetric, MeanIoU, compute_meaniou\n",
    "from monai.inferers import sliding_window_inference\n",
    "\n",
    "from pytorch_lightning import seed_everything\n",
    "import torch\n",
    "from utilities.split_data import train_val_test_dataset\n",
    "\n",
    "from monai.utils.misc import first\n",
    "\n",
    "from tqdm import tqdm\n"
   ]
  },
  {
   "cell_type": "code",
   "execution_count": 2,
   "metadata": {},
   "outputs": [
    {
     "name": "stdout",
     "output_type": "stream",
     "text": [
      "2023-01-15 13:47:52,758 - Global seed set to 1607\n"
     ]
    },
    {
     "data": {
      "text/plain": [
       "1607"
      ]
     },
     "execution_count": 2,
     "metadata": {},
     "output_type": "execute_result"
    }
   ],
   "source": [
    "seed_everything(1607)"
   ]
  },
  {
   "cell_type": "code",
   "execution_count": 3,
   "metadata": {},
   "outputs": [],
   "source": [
    "import gc\n",
    "\n",
    "def clear_gpu_cache():\n",
    "    \"\"\"Clear the PyTorch GPU Allocation if an OOM error occurs.\n",
    "    \"\"\"\n",
    "\n",
    "    try:\n",
    "        print(\"Deleting Model\")\n",
    "        global model\n",
    "        del model\n",
    "    except NameError as e:\n",
    "        print(f\"Model Already Cleared\")\n",
    "\n",
    "    print(\"Collecting Garbage\")\n",
    "    gc.collect()\n",
    "    print(\"Clearing CUDA Cache\")\n",
    "    torch.cuda.empty_cache()\n",
    "    print(\"Done\")\n"
   ]
  },
  {
   "attachments": {},
   "cell_type": "markdown",
   "metadata": {},
   "source": [
    "## Preparing the Dataset\n",
    "\n",
    "As per [University of Pennsylvania](https://www.med.upenn.edu/cbica/brats2020/data.html):\n",
    "\n",
    "All BraTS multimodal scans are available as NIfTI files (.nii.gz) and describe a) native (T1) and b) post-contrast T1-weighted (T1Gd), c) T2-weighted (T2), and d) T2 Fluid Attenuated Inversion Recovery (T2-FLAIR) volumes, and were acquired with different clinical protocols and various scanners from multiple (n=19) institutions, mentioned as data contributors here.\n",
    "\n",
    "All the imaging datasets have been segmented manually, by one to four raters, following the same annotation protocol, and their annotations were approved by experienced neuro-radiologists. Annotations comprise the GD-enhancing tumor (ET — label 4), the peritumoral edema (ED — label 2), and the necrotic and non-enhancing tumor core (NCR/NET — label 1), as described both in the BraTS 2012-2013 TMI paper(opens in a new window) and in the latest BraTS summarizing paper. The provided data are distributed after their pre-processing, i.e., *co-registered to the same anatomical template*, interpolated to the *same resolution (1 mm^3)* and *skull-stripped*."
   ]
  },
  {
   "cell_type": "code",
   "execution_count": 4,
   "metadata": {},
   "outputs": [
    {
     "name": "stdout",
     "output_type": "stream",
     "text": [
      "\n",
      "          Ratio of Classes -> HGG/Total\n",
      "          - Training 0.80\t| 265 Cases.\n",
      "          - Validation 0.79\t| 67 Cases.\n",
      "          - Testing 0.78\t| 37 Cases.\n",
      "          \n",
      "          Total Cases: 369\n",
      "          \n"
     ]
    }
   ],
   "source": [
    "# Prepare list of All training Cases\n",
    "TRAINING_DATASET_PATH = r\"./MICCAI_BraTS2020_TrainingData\"\n",
    "NAME_MAPPING = r\"./MICCAI_BraTS2020_TrainingData/name_mapping.csv\"\n",
    "\n",
    "# Function returns names of cases to be used\n",
    "train_cases, val_cases, test_cases = train_val_test_dataset(NAME_MAPPING)\n",
    "\n"
   ]
  },
  {
   "cell_type": "code",
   "execution_count": 5,
   "metadata": {},
   "outputs": [],
   "source": [
    "# prepare mapping to convert into PyTorch Dataset\n",
    "train_cases = [\n",
    "    {\n",
    "        \"image\": [\n",
    "            path.join(TRAINING_DATASET_PATH, case, f\"{case}_t1.nii.gz\"),\n",
    "            path.join(TRAINING_DATASET_PATH, case, f\"{case}_t1ce.nii.gz\"),\n",
    "            path.join(TRAINING_DATASET_PATH, case, f\"{case}_t2.nii.gz\"),\n",
    "            path.join(TRAINING_DATASET_PATH, case, f\"{case}_flair.nii.gz\"),\n",
    "        ],\n",
    "        \"seg\": path.join(\n",
    "            TRAINING_DATASET_PATH, case, f\"{path.split(case)[-1]}_seg.nii.gz\"\n",
    "        ),\n",
    "    }\n",
    "    for case in train_cases\n",
    "]\n",
    "\n",
    "val_cases = [\n",
    "    {\n",
    "        \"image\": [\n",
    "            path.join(TRAINING_DATASET_PATH, case, f\"{case}_t1.nii.gz\"),\n",
    "            path.join(TRAINING_DATASET_PATH, case, f\"{case}_t1ce.nii.gz\"),\n",
    "            path.join(TRAINING_DATASET_PATH, case, f\"{case}_t2.nii.gz\"),\n",
    "            path.join(TRAINING_DATASET_PATH, case, f\"{case}_flair.nii.gz\"),\n",
    "        ],\n",
    "        \"seg\": path.join(\n",
    "            TRAINING_DATASET_PATH, case, f\"{path.split(case)[-1]}_seg.nii.gz\"\n",
    "        ),\n",
    "    }\n",
    "    for case in val_cases\n",
    "]\n",
    "\n",
    "#TODO : Test cases can be merged with val\n",
    "test_cases = [\n",
    "    {\n",
    "        \"image\": [\n",
    "            path.join(TRAINING_DATASET_PATH, case, f\"{case}_t1.nii.gz\"),\n",
    "            path.join(TRAINING_DATASET_PATH, case, f\"{case}_t1ce.nii.gz\"),\n",
    "            path.join(TRAINING_DATASET_PATH, case, f\"{case}_t2.nii.gz\"),\n",
    "            path.join(TRAINING_DATASET_PATH, case, f\"{case}_flair.nii.gz\"),\n",
    "        ],\n",
    "        \"seg\": path.join(\n",
    "            TRAINING_DATASET_PATH, case, f\"{path.split(case)[-1]}_seg.nii.gz\"\n",
    "        ),\n",
    "    }\n",
    "    for case in test_cases\n",
    "]\n"
   ]
  },
  {
   "cell_type": "code",
   "execution_count": 6,
   "metadata": {},
   "outputs": [],
   "source": [
    "# One Hot Encoding for Tumor as 3 is skipped in the segmentation masks.\n",
    "# class ConvertLabelsIntoOneHotd(MapTransform):\n",
    "#     def __call__(self, data):\n",
    "#         data_dict = dict(data)\n",
    "#         for key in self.keys:\n",
    "#             print(data_dict[key].shape)\n",
    "#             one_hot_encode_array = [\n",
    "#                 data_dict[key] == 1,  # Non Enhancing Tumor Core\n",
    "#                 data_dict[key] == 2,  # Edema Core\n",
    "#                 data_dict[key] == 4,  # Enhancing Tumor Core\n",
    "#             ]\n",
    "#             data_dict[key] = np.stack(one_hot_encode_array, axis=0).astype(np.float32)\n",
    "#         return data_dict\n",
    "\n",
    "\n",
    "class ConvertLabelsIntoOneHotd(MapTransform):\n",
    "    \"\"\"Takes input tensor of segmentation which contains\n",
    "    values in set (0,1,2,4) where\\n\n",
    "    0 -> Background/Normal\\n\n",
    "    1 -> Non- Enhancing Tumor Core\\n\n",
    "    2 -> Edema\\n\n",
    "    4 -> Enhancing tumor core\\n\n",
    "\n",
    "    and returns a one hot encoded 3 channel tensor where\n",
    "    1st Channel -> Whole tumor (1,2 and 4)\n",
    "    2nd Channel -> Tumor Core (1 and 4)\n",
    "    3rd Channel -> Enhancing Tumor core (4)\n",
    "    \"\"\"\n",
    "    def __call__(self, data):\n",
    "        data_dict = dict(data)\n",
    "        for key in self.keys:\n",
    "            one_hot_encode_array = [\n",
    "                torch.logical_or(\n",
    "                    torch.logical_or(data_dict[key] == 1, data_dict[key] == 2),\n",
    "                    data_dict[key] == 4,\n",
    "                ), # Whole Tumor\n",
    "                torch.logical_or(data_dict[key] == 1, data_dict[key] == 4), # Tumor Core\n",
    "                data_dict[key] == 4, # Enhancing Core\n",
    "            ]\n",
    "            data_dict[key] = torch.stack(one_hot_encode_array, axis=0).astype(torch.float32)\n",
    "        return data_dict\n"
   ]
  },
  {
   "cell_type": "code",
   "execution_count": 7,
   "metadata": {},
   "outputs": [],
   "source": [
    "# Transform data such as from niftii into Tensors\n",
    "transform_training_dataset = Compose(\n",
    "    [\n",
    "        LoadImaged(keys=[\"image\", \"seg\"]),\n",
    "        EnsureChannelFirstd(keys=[\"image\"]),\n",
    "        EnsureTyped(keys=[\"image\", \"seg\"]),\n",
    "        ConvertLabelsIntoOneHotd(keys=\"seg\"),\n",
    "        # Orientationd(keys=[\"image\", \"seg\"],axcodes='RAS'),\n",
    "        #! Causes misalignment on Mask Orientationd\n",
    "        # Spacingd(\n",
    "        #     keys=[\"image\", \"seg\"],\n",
    "        #     pixdim=(1.0, 1.0, 1.0),\n",
    "        #     mode=(\"bilinear\", \"nearest\"),\n",
    "        # ),\n",
    "        #! Training Dataset Already set to Pixel Dimension of 1mm^3\n",
    "        NormalizeIntensityd(keys=\"image\", nonzero=True, channel_wise=True),\n",
    "        RandCropByPosNegLabeld(\n",
    "            keys=[\"image\", \"seg\"],\n",
    "            spatial_size=(96,96,96),\n",
    "            label_key=\"seg\",\n",
    "            neg=0,\n",
    "            num_samples=3\n",
    "        ),\n",
    "        # RandFlipd(keys=[\"image\", \"seg\"], prob=0.5, spatial_axis=0),\n",
    "        # RandFlipd(keys=[\"image\", \"seg\"], prob=0.5, spatial_axis=1),\n",
    "        # RandFlipd(keys=[\"image\", \"seg\"], prob=0.5, spatial_axis=2),\n",
    "        RandScaleIntensityd(keys=\"image\", factors=0.1, prob=1.0),\n",
    "        RandShiftIntensityd(keys=\"image\", offsets=0.1, prob=1.0),\n",
    "        # DivisiblePadd(keys=[\"image\", \"seg\"], k=16),\n",
    "    ]\n",
    ")\n",
    "\n",
    "transform_validation_dataset = Compose(\n",
    "    [\n",
    "        LoadImaged(keys=[\"image\", \"seg\"]),\n",
    "        EnsureChannelFirstd(keys=[\"image\"]),\n",
    "        EnsureTyped(keys=[\"image\", \"seg\"]),\n",
    "        ConvertLabelsIntoOneHotd(keys=\"seg\"),\n",
    "        # Orientationd(keys=[\"image\", \"seg\"],axcodes='RAS'),\n",
    "        #! Causes misalignment on Mask Orientationd\n",
    "        # Spacingd(\n",
    "        #     keys=[\"image\", \"seg\"],\n",
    "        #     pixdim=(1.0, 1.0, 1.0),\n",
    "        #     mode=(\"bilinear\", \"nearest\"),\n",
    "        # ),\n",
    "        #! Training Dataset Already set to Pixel Dimension of 1mm^3\n",
    "        NormalizeIntensityd(keys=\"image\", nonzero=True, channel_wise=True),\n",
    "    ]\n",
    ")\n",
    "\n"
   ]
  },
  {
   "cell_type": "code",
   "execution_count": 29,
   "metadata": {},
   "outputs": [],
   "source": [
    "# Prepare the training Dataset with all transformations\n",
    "# Optional: Can replace Dataset Class with Cache Dataset\n",
    "dataset_training = Dataset(train_cases, transform_training_dataset)\n"
   ]
  },
  {
   "cell_type": "code",
   "execution_count": null,
   "metadata": {},
   "outputs": [],
   "source": [
    "print(dataset_training[0][0][\"image\"].shape)\n",
    "print(dataset_training[0][0][\"seg\"].shape)"
   ]
  },
  {
   "attachments": {},
   "cell_type": "markdown",
   "metadata": {},
   "source": [
    "Dataset Produced in the following format\n",
    "```\n",
    "[list of patient][list of dictionary: samples from a patient] -> [0][0] for first patient first sample\n",
    "    - mri scan [\"image\"] -> [3,80,80,80] [Torch.Tensor]\n",
    "    - seg mask [\"seg] -> [3,80,80,80] [Torch.Tensor]\n",
    "    For T1-CE, FLAIR and T2\n",
    "```\n",
    "\n",
    "Where `[3,80,80,80]` refers to `[Channel,Dims..]`\n"
   ]
  },
  {
   "attachments": {},
   "cell_type": "markdown",
   "metadata": {},
   "source": [
    "## Visualising the Training Dataset"
   ]
  },
  {
   "cell_type": "code",
   "execution_count": null,
   "metadata": {},
   "outputs": [
    {
     "data": {
      "text/plain": [
       "Text(0.5, 1.0, 'GD-enhancing tumor')"
      ]
     },
     "execution_count": 14,
     "metadata": {},
     "output_type": "execute_result"
    },
    {
     "data": {
      "image/png": "[encoded data removed]",
      "text/plain": [
       "<Figure size 640x480 with 6 Axes>"
      ]
     },
     "metadata": {},
     "output_type": "display_data"
    }
   ],
   "source": [
    "# Visualising the Training Dataset per case\n",
    "\n",
    "#! Misalignment of Seg and Image Tensors when using Orientationd\n",
    "\n",
    "patient = 10  # Refers to a folder in the training dataset such as \"./MICCAI_BraTS2020_TrainingData/BraTS20_Training_001/\"\n",
    "\n",
    "slice = 40  # Refers to a slice in the 3D Tensor. For visualisation one of the 3 axis must be limited\n",
    "\n",
    "sample = 0 # multiple random samples are taken per patient\n",
    "\n",
    "to_plot_case = dataset_training[patient][sample]\n",
    "\n",
    "fig, ax = plt.subplots(2, 3, sharey=True, sharex=True)\n",
    "\n",
    "ax[0, 0].imshow(to_plot_case[\"image\"][0][:, :, slice], cmap=\"gray\",interpolation = 'antialiased')\n",
    "ax[0, 0].set_title(\"T1\")\n",
    "\n",
    "ax[0, 1].imshow(to_plot_case[\"image\"][1][:, :, slice], cmap=\"gray\",interpolation = 'antialiased')\n",
    "ax[0, 1].set_title(\"T1-CE\")\n",
    "\n",
    "ax[0, 2].imshow(to_plot_case[\"image\"][2][:, :, slice], cmap=\"gray\",interpolation = 'antialiased')\n",
    "ax[0, 2].set_title(\"T2\")\n",
    "\n",
    "\n",
    "ax[1, 0].imshow(to_plot_case[\"seg\"][0][:, :, slice])\n",
    "ax[1, 0].set_title(\"Whole Tumor\")\n",
    "\n",
    "ax[1, 1].imshow(to_plot_case[\"seg\"][1][:, :, slice])\n",
    "ax[1, 1].set_title(\"Tumor Core\")\n",
    "\n",
    "ax[1, 2].imshow(to_plot_case[\"seg\"][2][:, :, slice])\n",
    "ax[1, 2].set_title(\"GD-enhancing tumor\")\n"
   ]
  },
  {
   "cell_type": "code",
   "execution_count": null,
   "metadata": {},
   "outputs": [],
   "source": [
    "del(dataset_training)"
   ]
  },
  {
   "attachments": {},
   "cell_type": "markdown",
   "metadata": {},
   "source": [
    "# Training and Validation of Model"
   ]
  },
  {
   "attachments": {},
   "cell_type": "markdown",
   "metadata": {},
   "source": [
    "### Preparing the Data Loaders"
   ]
  },
  {
   "cell_type": "code",
   "execution_count": 8,
   "metadata": {},
   "outputs": [],
   "source": [
    "train_data_loader = DataLoader(\n",
    "    Dataset(train_cases, transform_training_dataset),\n",
    "    shuffle=True,\n",
    "    batch_size=1,\n",
    "    \n",
    ")\n",
    "\n",
    "#! transformation in validation dataset\n",
    "val_data_loader = DataLoader(\n",
    "    Dataset(val_cases[:30], transform_validation_dataset),\n",
    "    shuffle=True,\n",
    "    batch_size=1,\n",
    ")\n"
   ]
  },
  {
   "attachments": {},
   "cell_type": "markdown",
   "metadata": {},
   "source": [
    "### Initialising the Model and Other Parameters"
   ]
  },
  {
   "cell_type": "code",
   "execution_count": 9,
   "metadata": {},
   "outputs": [
    {
     "name": "stdout",
     "output_type": "stream",
     "text": [
      "Deleting Model\n",
      "Model Already Cleared\n",
      "Collecting Garbage\n",
      "Clearing CUDA Cache\n",
      "Done\n",
      "Training will be done on cuda:0\n"
     ]
    }
   ],
   "source": [
    "#! Pure Pytorch Training Loop:\n",
    "# Ref: https://github.com/Project-MONAI/tutorials/blob/main/3d_segmentation/brats_segmentation_3d.ipynb\n",
    "# Ref: https://github.com/Project-MONAI/tutorials/blob/main/2d_segmentation/torch/unet_training_dict.py\n",
    "\n",
    "clear_gpu_cache()\n",
    "\n",
    "device = torch.device(\"cuda:0\") if torch.cuda.is_available() else \"cpu\"\n",
    "print(f\"Training will be done on {device}\")\n",
    "\n",
    "#! Update with proper values\n",
    "max_epochs = 50\n",
    "val_interval = 4\n",
    "\n",
    "# model = SegResNet(\n",
    "#     blocks_down=[1, 2, 2, 4],\n",
    "#     blocks_up=[1, 1, 1],\n",
    "#     init_filters=16,\n",
    "#     in_channels=4,\n",
    "#     out_channels=3,\n",
    "#     dropout_prob=0.2,\n",
    "#     spatial_dims=3,\n",
    "# ).to(device)\n",
    "\n",
    "model = UNet(\n",
    "    spatial_dims=3,\n",
    "    in_channels=4,\n",
    "    out_channels=3,\n",
    "    strides=(2, 2, 2),\n",
    "    channels=(12, 24, 48, 96),\n",
    ").to(device)\n",
    "\n",
    "model_name = \"UNet\"\n",
    "\n",
    "\n",
    "initial_lr = 1e-3\n",
    "\n",
    "optimizer = torch.optim.Adam(model.parameters(), initial_lr, weight_decay=1e-5)\n",
    "# optimizer = torch.optim.SGD(model.parameters(), initial_lr)\n",
    "\n",
    "scaler = torch.cuda.amp.GradScaler()\n",
    "\n",
    "lr_scheduler = torch.optim.lr_scheduler.CosineAnnealingLR(\n",
    "    optimizer, T_max=max_epochs, eta_min=1e-4\n",
    ")\n",
    "\n",
    "# loss_function = DiceLoss(\n",
    "#     smooth_nr=0, smooth_dr=1e-5, squared_pred=False, to_onehot_y=False, softmax=True\n",
    "# )\n",
    "\n",
    "loss_function = DiceCELoss(sigmoid=True, squared_pred=True)\n",
    "\n",
    "# ? Check inferer parameters and tweak\n",
    "def inference(input):\n",
    "    \"\"\"Do Sliding Window Inference on input tensor\n",
    "    To avoid OOM Error, Input Model done on CPU.\n",
    "    Patch taken from input and its inference done on GPU\n",
    "    to speed up inference time.\n",
    "\n",
    "    Args:\n",
    "        input: Full input to pass in the model. For the case\n",
    "        of this project size => (3,240,240,155)\n",
    "    \"\"\"\n",
    "\n",
    "    def _compute(input):\n",
    "        return sliding_window_inference(\n",
    "            inputs=input.to(\"cpu\"),\n",
    "            roi_size=(96, 96, 96),\n",
    "            sw_batch_size=1,\n",
    "            predictor=model,\n",
    "            overlap=0.5,\n",
    "            padding_mode=\"constant\",\n",
    "            sw_device=\"cuda:0\",\n",
    "            device=\"cpu\",\n",
    "        )\n",
    "\n",
    "    with torch.cuda.amp.autocast():\n",
    "        return _compute(input)\n",
    "\n",
    "\n",
    "post_processing_validation = Compose(\n",
    "    [Activations(sigmoid=True), AsDiscrete(threshold=0.5)]\n",
    ")\n",
    "\n",
    "dice_metric = DiceMetric(include_background=True, reduction=\"mean\")\n",
    "# dice_metric_batch = DiceMetric(include_background=True, reduction=\"mean_batch\")\n",
    "# iou_metric = MeanIoU(include_background=True, reduction=\"mean_batch\")\n"
   ]
  },
  {
   "attachments": {},
   "cell_type": "markdown",
   "metadata": {},
   "source": [
    "### Load saved state from prev training to continue and initialise training parameters"
   ]
  },
  {
   "cell_type": "code",
   "execution_count": 10,
   "metadata": {},
   "outputs": [],
   "source": [
    "\n",
    "# Set name to False if not loading\n",
    "NAME_CHECKPOINT_FILE = \"./checkpoint/best_metric_UNet_2023-01-15.pth\"\n",
    "\n",
    "try:\n",
    "    checkpoint = torch.load(NAME_CHECKPOINT_FILE)\n",
    "\n",
    "    #load the weights into the model, if the architecture has changed this will not work\n",
    "    model.load_state_dict(checkpoint['model_state_dict'])\n",
    "\n",
    "    #load the state of the optimiser, if the optimiser has changed this will not work\n",
    "    optimizer.load_state_dict(checkpoint['optimiser_state_dict'])\n",
    "except Exception:\n",
    "    checkpoint = {}\n",
    "\n",
    "epoch_continue = checkpoint.get(\"epoch\",0)\n",
    "epoch_loss_values = checkpoint.get(\"loss_per_epoch\",[])\n",
    "metric_values =  checkpoint.get(\"dice_metric_per_epoch\",[])\n",
    "best_metric = checkpoint.get(\"best_metric\",-1)\n",
    "best_metric_epoch = checkpoint.get(\"best_metric_epoch\",0)\n"
   ]
  },
  {
   "cell_type": "code",
   "execution_count": 11,
   "metadata": {},
   "outputs": [
    {
     "name": "stdout",
     "output_type": "stream",
     "text": [
      "Beginning Training for UNet_2023-01-15\n",
      "----------\n",
      "Epoch 4/50\n"
     ]
    },
    {
     "name": "stderr",
     "output_type": "stream",
     "text": [
      "100%|██████████| 265/265 [04:26<00:00,  1.00s/it]\n"
     ]
    },
    {
     "name": "stdout",
     "output_type": "stream",
     "text": [
      "epoch 4 average loss: 0.3997\n",
      "\n",
      "Validating Training at 4 Epochs\n"
     ]
    },
    {
     "name": "stderr",
     "output_type": "stream",
     "text": [
      "100%|██████████| 30/30 [02:46<00:00,  5.54s/it]\n"
     ]
    },
    {
     "name": "stdout",
     "output_type": "stream",
     "text": [
      "current epoch: 4 current mean dice: 0.5542\n",
      "best mean dice: 0.5544 at epoch: 3\n",
      "----------\n",
      "Epoch 5/50\n"
     ]
    },
    {
     "name": "stderr",
     "output_type": "stream",
     "text": [
      "100%|██████████| 265/265 [03:54<00:00,  1.13it/s]\n"
     ]
    },
    {
     "name": "stdout",
     "output_type": "stream",
     "text": [
      "epoch 5 average loss: 0.3770\n",
      "\n",
      "----------\n",
      "Epoch 6/50\n"
     ]
    },
    {
     "name": "stderr",
     "output_type": "stream",
     "text": [
      "100%|██████████| 265/265 [03:56<00:00,  1.12it/s]\n"
     ]
    },
    {
     "name": "stdout",
     "output_type": "stream",
     "text": [
      "epoch 6 average loss: 0.3623\n",
      "\n",
      "----------\n",
      "Epoch 7/50\n"
     ]
    },
    {
     "name": "stderr",
     "output_type": "stream",
     "text": [
      "100%|██████████| 265/265 [03:56<00:00,  1.12it/s]\n"
     ]
    },
    {
     "name": "stdout",
     "output_type": "stream",
     "text": [
      "epoch 7 average loss: 0.3518\n",
      "\n",
      "----------\n",
      "Epoch 8/50\n"
     ]
    },
    {
     "name": "stderr",
     "output_type": "stream",
     "text": [
      "100%|██████████| 265/265 [03:55<00:00,  1.12it/s]\n"
     ]
    },
    {
     "name": "stdout",
     "output_type": "stream",
     "text": [
      "epoch 8 average loss: 0.3423\n",
      "\n",
      "Validating Training at 8 Epochs\n"
     ]
    },
    {
     "name": "stderr",
     "output_type": "stream",
     "text": [
      "100%|██████████| 30/30 [02:46<00:00,  5.56s/it]\n"
     ]
    },
    {
     "name": "stdout",
     "output_type": "stream",
     "text": [
      "saved new best metric model\n",
      "current epoch: 8 current mean dice: 0.6613\n",
      "best mean dice: 0.6613 at epoch: 7\n",
      "----------\n",
      "Epoch 9/50\n"
     ]
    },
    {
     "name": "stderr",
     "output_type": "stream",
     "text": [
      "100%|██████████| 265/265 [03:53<00:00,  1.13it/s]\n"
     ]
    },
    {
     "name": "stdout",
     "output_type": "stream",
     "text": [
      "epoch 9 average loss: 0.3425\n",
      "\n",
      "----------\n",
      "Epoch 10/50\n"
     ]
    },
    {
     "name": "stderr",
     "output_type": "stream",
     "text": [
      "100%|██████████| 265/265 [03:53<00:00,  1.13it/s]\n"
     ]
    },
    {
     "name": "stdout",
     "output_type": "stream",
     "text": [
      "epoch 10 average loss: 0.3306\n",
      "\n",
      "----------\n",
      "Epoch 11/50\n"
     ]
    },
    {
     "name": "stderr",
     "output_type": "stream",
     "text": [
      "100%|██████████| 265/265 [03:55<00:00,  1.12it/s]\n"
     ]
    },
    {
     "name": "stdout",
     "output_type": "stream",
     "text": [
      "epoch 11 average loss: 0.3221\n",
      "\n",
      "----------\n",
      "Epoch 12/50\n"
     ]
    },
    {
     "name": "stderr",
     "output_type": "stream",
     "text": [
      "100%|██████████| 265/265 [03:55<00:00,  1.13it/s]\n"
     ]
    },
    {
     "name": "stdout",
     "output_type": "stream",
     "text": [
      "epoch 12 average loss: 0.3165\n",
      "\n",
      "Validating Training at 12 Epochs\n"
     ]
    },
    {
     "name": "stderr",
     "output_type": "stream",
     "text": [
      "100%|██████████| 30/30 [02:43<00:00,  5.44s/it]\n"
     ]
    },
    {
     "name": "stdout",
     "output_type": "stream",
     "text": [
      "saved new best metric model\n",
      "current epoch: 12 current mean dice: 0.6946\n",
      "best mean dice: 0.6946 at epoch: 11\n",
      "----------\n",
      "Epoch 13/50\n"
     ]
    },
    {
     "name": "stderr",
     "output_type": "stream",
     "text": [
      "100%|██████████| 265/265 [03:54<00:00,  1.13it/s]\n"
     ]
    },
    {
     "name": "stdout",
     "output_type": "stream",
     "text": [
      "epoch 13 average loss: 0.3129\n",
      "\n",
      "----------\n",
      "Epoch 14/50\n"
     ]
    },
    {
     "name": "stderr",
     "output_type": "stream",
     "text": [
      "100%|██████████| 265/265 [03:54<00:00,  1.13it/s]\n"
     ]
    },
    {
     "name": "stdout",
     "output_type": "stream",
     "text": [
      "epoch 14 average loss: 0.3077\n",
      "\n",
      "----------\n",
      "Epoch 15/50\n"
     ]
    },
    {
     "name": "stderr",
     "output_type": "stream",
     "text": [
      "100%|██████████| 265/265 [03:54<00:00,  1.13it/s]\n"
     ]
    },
    {
     "name": "stdout",
     "output_type": "stream",
     "text": [
      "epoch 15 average loss: 0.3008\n",
      "\n",
      "----------\n",
      "Epoch 16/50\n"
     ]
    },
    {
     "name": "stderr",
     "output_type": "stream",
     "text": [
      "100%|██████████| 265/265 [03:54<00:00,  1.13it/s]\n"
     ]
    },
    {
     "name": "stdout",
     "output_type": "stream",
     "text": [
      "epoch 16 average loss: 0.2994\n",
      "\n",
      "Validating Training at 16 Epochs\n"
     ]
    },
    {
     "name": "stderr",
     "output_type": "stream",
     "text": [
      "100%|██████████| 30/30 [02:44<00:00,  5.49s/it]\n"
     ]
    },
    {
     "name": "stdout",
     "output_type": "stream",
     "text": [
      "saved new best metric model\n",
      "current epoch: 16 current mean dice: 0.7423\n",
      "best mean dice: 0.7423 at epoch: 15\n",
      "----------\n",
      "Epoch 17/50\n"
     ]
    },
    {
     "name": "stderr",
     "output_type": "stream",
     "text": [
      "100%|██████████| 265/265 [03:57<00:00,  1.11it/s]\n"
     ]
    },
    {
     "name": "stdout",
     "output_type": "stream",
     "text": [
      "epoch 17 average loss: 0.3066\n",
      "\n",
      "----------\n",
      "Epoch 18/50\n"
     ]
    },
    {
     "name": "stderr",
     "output_type": "stream",
     "text": [
      "100%|██████████| 265/265 [03:56<00:00,  1.12it/s]\n"
     ]
    },
    {
     "name": "stdout",
     "output_type": "stream",
     "text": [
      "epoch 18 average loss: 0.2881\n",
      "\n",
      "----------\n",
      "Epoch 19/50\n"
     ]
    },
    {
     "name": "stderr",
     "output_type": "stream",
     "text": [
      "100%|██████████| 265/265 [03:54<00:00,  1.13it/s]\n"
     ]
    },
    {
     "name": "stdout",
     "output_type": "stream",
     "text": [
      "epoch 19 average loss: 0.2834\n",
      "\n",
      "----------\n",
      "Epoch 20/50\n"
     ]
    },
    {
     "name": "stderr",
     "output_type": "stream",
     "text": [
      "100%|██████████| 265/265 [03:54<00:00,  1.13it/s]\n"
     ]
    },
    {
     "name": "stdout",
     "output_type": "stream",
     "text": [
      "epoch 20 average loss: 0.2841\n",
      "\n",
      "Validating Training at 20 Epochs\n"
     ]
    },
    {
     "name": "stderr",
     "output_type": "stream",
     "text": [
      "100%|██████████| 30/30 [02:43<00:00,  5.44s/it]\n"
     ]
    },
    {
     "name": "stdout",
     "output_type": "stream",
     "text": [
      "current epoch: 20 current mean dice: 0.7188\n",
      "best mean dice: 0.7423 at epoch: 15\n",
      "----------\n",
      "Epoch 21/50\n"
     ]
    },
    {
     "name": "stderr",
     "output_type": "stream",
     "text": [
      "100%|██████████| 265/265 [03:54<00:00,  1.13it/s]\n"
     ]
    },
    {
     "name": "stdout",
     "output_type": "stream",
     "text": [
      "epoch 21 average loss: 0.2821\n",
      "\n",
      "----------\n",
      "Epoch 22/50\n"
     ]
    },
    {
     "name": "stderr",
     "output_type": "stream",
     "text": [
      "100%|██████████| 265/265 [03:53<00:00,  1.13it/s]\n"
     ]
    },
    {
     "name": "stdout",
     "output_type": "stream",
     "text": [
      "epoch 22 average loss: 0.2774\n",
      "\n",
      "----------\n",
      "Epoch 23/50\n"
     ]
    },
    {
     "name": "stderr",
     "output_type": "stream",
     "text": [
      "100%|██████████| 265/265 [03:54<00:00,  1.13it/s]\n"
     ]
    },
    {
     "name": "stdout",
     "output_type": "stream",
     "text": [
      "epoch 23 average loss: 0.2734\n",
      "\n",
      "----------\n",
      "Epoch 24/50\n"
     ]
    },
    {
     "name": "stderr",
     "output_type": "stream",
     "text": [
      "100%|██████████| 265/265 [03:55<00:00,  1.13it/s]\n"
     ]
    },
    {
     "name": "stdout",
     "output_type": "stream",
     "text": [
      "epoch 24 average loss: 0.2718\n",
      "\n",
      "Validating Training at 24 Epochs\n"
     ]
    },
    {
     "name": "stderr",
     "output_type": "stream",
     "text": [
      "100%|██████████| 30/30 [02:46<00:00,  5.56s/it]\n"
     ]
    },
    {
     "name": "stdout",
     "output_type": "stream",
     "text": [
      "saved new best metric model\n",
      "current epoch: 24 current mean dice: 0.7817\n",
      "best mean dice: 0.7817 at epoch: 23\n",
      "----------\n",
      "Epoch 25/50\n"
     ]
    },
    {
     "name": "stderr",
     "output_type": "stream",
     "text": [
      "100%|██████████| 265/265 [03:54<00:00,  1.13it/s]\n"
     ]
    },
    {
     "name": "stdout",
     "output_type": "stream",
     "text": [
      "epoch 25 average loss: 0.2670\n",
      "\n",
      "----------\n",
      "Epoch 26/50\n"
     ]
    },
    {
     "name": "stderr",
     "output_type": "stream",
     "text": [
      "100%|██████████| 265/265 [03:54<00:00,  1.13it/s]\n"
     ]
    },
    {
     "name": "stdout",
     "output_type": "stream",
     "text": [
      "epoch 26 average loss: 0.2639\n",
      "\n",
      "----------\n",
      "Epoch 27/50\n"
     ]
    },
    {
     "name": "stderr",
     "output_type": "stream",
     "text": [
      "100%|██████████| 265/265 [03:55<00:00,  1.12it/s]\n"
     ]
    },
    {
     "name": "stdout",
     "output_type": "stream",
     "text": [
      "epoch 27 average loss: 0.2627\n",
      "\n",
      "----------\n",
      "Epoch 28/50\n"
     ]
    },
    {
     "name": "stderr",
     "output_type": "stream",
     "text": [
      "100%|██████████| 265/265 [03:56<00:00,  1.12it/s]\n"
     ]
    },
    {
     "name": "stdout",
     "output_type": "stream",
     "text": [
      "epoch 28 average loss: 0.2633\n",
      "\n",
      "Validating Training at 28 Epochs\n"
     ]
    },
    {
     "name": "stderr",
     "output_type": "stream",
     "text": [
      "100%|██████████| 30/30 [02:46<00:00,  5.55s/it]\n"
     ]
    },
    {
     "name": "stdout",
     "output_type": "stream",
     "text": [
      "current epoch: 28 current mean dice: 0.7358\n",
      "best mean dice: 0.7817 at epoch: 23\n",
      "----------\n",
      "Epoch 29/50\n"
     ]
    },
    {
     "name": "stderr",
     "output_type": "stream",
     "text": [
      "100%|██████████| 265/265 [03:56<00:00,  1.12it/s]\n"
     ]
    },
    {
     "name": "stdout",
     "output_type": "stream",
     "text": [
      "epoch 29 average loss: 0.2585\n",
      "\n",
      "----------\n",
      "Epoch 30/50\n"
     ]
    },
    {
     "name": "stderr",
     "output_type": "stream",
     "text": [
      "100%|██████████| 265/265 [03:57<00:00,  1.12it/s]\n"
     ]
    },
    {
     "name": "stdout",
     "output_type": "stream",
     "text": [
      "epoch 30 average loss: 0.2538\n",
      "\n",
      "----------\n",
      "Epoch 31/50\n"
     ]
    },
    {
     "name": "stderr",
     "output_type": "stream",
     "text": [
      "100%|██████████| 265/265 [03:55<00:00,  1.13it/s]\n"
     ]
    },
    {
     "name": "stdout",
     "output_type": "stream",
     "text": [
      "epoch 31 average loss: 0.2533\n",
      "\n",
      "----------\n",
      "Epoch 32/50\n"
     ]
    },
    {
     "name": "stderr",
     "output_type": "stream",
     "text": [
      "100%|██████████| 265/265 [03:53<00:00,  1.13it/s]\n"
     ]
    },
    {
     "name": "stdout",
     "output_type": "stream",
     "text": [
      "epoch 32 average loss: 0.2505\n",
      "\n",
      "Validating Training at 32 Epochs\n"
     ]
    },
    {
     "name": "stderr",
     "output_type": "stream",
     "text": [
      "100%|██████████| 30/30 [02:43<00:00,  5.45s/it]\n"
     ]
    },
    {
     "name": "stdout",
     "output_type": "stream",
     "text": [
      "current epoch: 32 current mean dice: 0.7732\n",
      "best mean dice: 0.7817 at epoch: 23\n",
      "----------\n",
      "Epoch 33/50\n"
     ]
    },
    {
     "name": "stderr",
     "output_type": "stream",
     "text": [
      "100%|██████████| 265/265 [03:54<00:00,  1.13it/s]\n"
     ]
    },
    {
     "name": "stdout",
     "output_type": "stream",
     "text": [
      "epoch 33 average loss: 0.2492\n",
      "\n",
      "----------\n",
      "Epoch 34/50\n"
     ]
    },
    {
     "name": "stderr",
     "output_type": "stream",
     "text": [
      "100%|██████████| 265/265 [03:54<00:00,  1.13it/s]\n"
     ]
    },
    {
     "name": "stdout",
     "output_type": "stream",
     "text": [
      "epoch 34 average loss: 0.2485\n",
      "\n",
      "----------\n",
      "Epoch 35/50\n"
     ]
    },
    {
     "name": "stderr",
     "output_type": "stream",
     "text": [
      "100%|██████████| 265/265 [03:54<00:00,  1.13it/s]\n"
     ]
    },
    {
     "name": "stdout",
     "output_type": "stream",
     "text": [
      "epoch 35 average loss: 0.2463\n",
      "\n",
      "----------\n",
      "Epoch 36/50\n"
     ]
    },
    {
     "name": "stderr",
     "output_type": "stream",
     "text": [
      "100%|██████████| 265/265 [03:54<00:00,  1.13it/s]\n"
     ]
    },
    {
     "name": "stdout",
     "output_type": "stream",
     "text": [
      "epoch 36 average loss: 0.2453\n",
      "\n",
      "Validating Training at 36 Epochs\n"
     ]
    },
    {
     "name": "stderr",
     "output_type": "stream",
     "text": [
      "100%|██████████| 30/30 [02:44<00:00,  5.49s/it]\n"
     ]
    },
    {
     "name": "stdout",
     "output_type": "stream",
     "text": [
      "current epoch: 36 current mean dice: 0.7812\n",
      "best mean dice: 0.7817 at epoch: 23\n",
      "----------\n",
      "Epoch 37/50\n"
     ]
    },
    {
     "name": "stderr",
     "output_type": "stream",
     "text": [
      "100%|██████████| 265/265 [03:58<00:00,  1.11it/s]\n"
     ]
    },
    {
     "name": "stdout",
     "output_type": "stream",
     "text": [
      "epoch 37 average loss: 0.2438\n",
      "\n",
      "----------\n",
      "Epoch 38/50\n"
     ]
    },
    {
     "name": "stderr",
     "output_type": "stream",
     "text": [
      "100%|██████████| 265/265 [03:56<00:00,  1.12it/s]\n"
     ]
    },
    {
     "name": "stdout",
     "output_type": "stream",
     "text": [
      "epoch 38 average loss: 0.2411\n",
      "\n",
      "----------\n",
      "Epoch 39/50\n"
     ]
    },
    {
     "name": "stderr",
     "output_type": "stream",
     "text": [
      "100%|██████████| 265/265 [03:54<00:00,  1.13it/s]\n"
     ]
    },
    {
     "name": "stdout",
     "output_type": "stream",
     "text": [
      "epoch 39 average loss: 0.2401\n",
      "\n",
      "----------\n",
      "Epoch 40/50\n"
     ]
    },
    {
     "name": "stderr",
     "output_type": "stream",
     "text": [
      "100%|██████████| 265/265 [03:54<00:00,  1.13it/s]\n"
     ]
    },
    {
     "name": "stdout",
     "output_type": "stream",
     "text": [
      "epoch 40 average loss: 0.2390\n",
      "\n",
      "Validating Training at 40 Epochs\n"
     ]
    },
    {
     "name": "stderr",
     "output_type": "stream",
     "text": [
      "100%|██████████| 30/30 [02:43<00:00,  5.46s/it]\n"
     ]
    },
    {
     "name": "stdout",
     "output_type": "stream",
     "text": [
      "current epoch: 40 current mean dice: 0.7772\n",
      "best mean dice: 0.7817 at epoch: 23\n",
      "----------\n",
      "Epoch 41/50\n"
     ]
    },
    {
     "name": "stderr",
     "output_type": "stream",
     "text": [
      "100%|██████████| 265/265 [03:54<00:00,  1.13it/s]\n"
     ]
    },
    {
     "name": "stdout",
     "output_type": "stream",
     "text": [
      "epoch 41 average loss: 0.2383\n",
      "\n",
      "----------\n",
      "Epoch 42/50\n"
     ]
    },
    {
     "name": "stderr",
     "output_type": "stream",
     "text": [
      "100%|██████████| 265/265 [03:55<00:00,  1.13it/s]\n"
     ]
    },
    {
     "name": "stdout",
     "output_type": "stream",
     "text": [
      "epoch 42 average loss: 0.2375\n",
      "\n",
      "----------\n",
      "Epoch 43/50\n"
     ]
    },
    {
     "name": "stderr",
     "output_type": "stream",
     "text": [
      "100%|██████████| 265/265 [03:56<00:00,  1.12it/s]\n"
     ]
    },
    {
     "name": "stdout",
     "output_type": "stream",
     "text": [
      "epoch 43 average loss: 0.2357\n",
      "\n",
      "----------\n",
      "Epoch 44/50\n"
     ]
    },
    {
     "name": "stderr",
     "output_type": "stream",
     "text": [
      "100%|██████████| 265/265 [03:56<00:00,  1.12it/s]\n"
     ]
    },
    {
     "name": "stdout",
     "output_type": "stream",
     "text": [
      "epoch 44 average loss: 0.2352\n",
      "\n",
      "Validating Training at 44 Epochs\n"
     ]
    },
    {
     "name": "stderr",
     "output_type": "stream",
     "text": [
      "100%|██████████| 30/30 [02:46<00:00,  5.54s/it]\n"
     ]
    },
    {
     "name": "stdout",
     "output_type": "stream",
     "text": [
      "current epoch: 44 current mean dice: 0.7795\n",
      "best mean dice: 0.7817 at epoch: 23\n",
      "----------\n",
      "Epoch 45/50\n"
     ]
    },
    {
     "name": "stderr",
     "output_type": "stream",
     "text": [
      "100%|██████████| 265/265 [03:55<00:00,  1.13it/s]\n"
     ]
    },
    {
     "name": "stdout",
     "output_type": "stream",
     "text": [
      "epoch 45 average loss: 0.2335\n",
      "\n",
      "----------\n",
      "Epoch 46/50\n"
     ]
    },
    {
     "name": "stderr",
     "output_type": "stream",
     "text": [
      "100%|██████████| 265/265 [03:56<00:00,  1.12it/s]\n"
     ]
    },
    {
     "name": "stdout",
     "output_type": "stream",
     "text": [
      "epoch 46 average loss: 0.2324\n",
      "\n",
      "----------\n",
      "Epoch 47/50\n"
     ]
    },
    {
     "name": "stderr",
     "output_type": "stream",
     "text": [
      "100%|██████████| 265/265 [03:56<00:00,  1.12it/s]\n"
     ]
    },
    {
     "name": "stdout",
     "output_type": "stream",
     "text": [
      "epoch 47 average loss: 0.2335\n",
      "\n",
      "----------\n",
      "Epoch 48/50\n"
     ]
    },
    {
     "name": "stderr",
     "output_type": "stream",
     "text": [
      "100%|██████████| 265/265 [03:56<00:00,  1.12it/s]\n"
     ]
    },
    {
     "name": "stdout",
     "output_type": "stream",
     "text": [
      "epoch 48 average loss: 0.2320\n",
      "\n",
      "Validating Training at 48 Epochs\n"
     ]
    },
    {
     "name": "stderr",
     "output_type": "stream",
     "text": [
      "100%|██████████| 30/30 [02:43<00:00,  5.46s/it]\n"
     ]
    },
    {
     "name": "stdout",
     "output_type": "stream",
     "text": [
      "saved new best metric model\n",
      "current epoch: 48 current mean dice: 0.7821\n",
      "best mean dice: 0.7821 at epoch: 47\n",
      "----------\n",
      "Epoch 49/50\n"
     ]
    },
    {
     "name": "stderr",
     "output_type": "stream",
     "text": [
      "100%|██████████| 265/265 [03:56<00:00,  1.12it/s]\n"
     ]
    },
    {
     "name": "stdout",
     "output_type": "stream",
     "text": [
      "epoch 49 average loss: 0.2321\n",
      "\n",
      "----------\n",
      "Epoch 50/50\n"
     ]
    },
    {
     "name": "stderr",
     "output_type": "stream",
     "text": [
      "100%|██████████| 265/265 [03:58<00:00,  1.11it/s]"
     ]
    },
    {
     "name": "stdout",
     "output_type": "stream",
     "text": [
      "epoch 50 average loss: 0.2301\n",
      "\n"
     ]
    },
    {
     "name": "stderr",
     "output_type": "stream",
     "text": [
      "\n"
     ]
    }
   ],
   "source": [
    "training_time = datetime.date(datetime.now()).__str__()\n",
    "print(f\"Beginning Training for {model_name}_{training_time}\")\n",
    "\n",
    "\n",
    "for epoch in range(epoch_continue, max_epochs):\n",
    "    print(\"-\" * 10)\n",
    "    print(f\"Epoch {epoch + 1}/{max_epochs}\")\n",
    "    model.train()\n",
    "    epoch_loss = 0\n",
    "    step = 0\n",
    "\n",
    "    for batch_data in tqdm(train_data_loader):\n",
    "\n",
    "        inputs, labels = (\n",
    "            batch_data[\"image\"].to(device),\n",
    "            batch_data[\"seg\"].to(device),\n",
    "        )\n",
    "        optimizer.zero_grad()\n",
    "        with torch.cuda.amp.autocast():\n",
    "            outputs = model(inputs)\n",
    "            loss = loss_function(outputs, labels)\n",
    "\n",
    "        scaler.scale(loss).backward()\n",
    "        scaler.step(optimizer)\n",
    "        scaler.update()\n",
    "        epoch_loss += loss.item()\n",
    "        step += 1\n",
    "\n",
    "    #! Use Learning rate scheduler later for hyperparameter tuning\n",
    "    lr_scheduler.step()\n",
    "    epoch_loss /= step  # average epoch loss\n",
    "    epoch_loss_values.append(epoch_loss)\n",
    "    print(f\"epoch {epoch + 1} average loss: {epoch_loss:.4f}\\n\")\n",
    "\n",
    "    if (epoch + 1) % val_interval == 0:\n",
    "        print(f\"Validating Training at {(epoch + 1)} Epochs\")\n",
    "        model.eval()\n",
    "        with torch.no_grad():\n",
    "            for val_data in tqdm(val_data_loader):\n",
    "                val_inputs, val_labels = (\n",
    "                    val_data[\"image\"],\n",
    "                    val_data[\"seg\"].to(device),\n",
    "                )\n",
    "\n",
    "                val_outputs = inference(val_inputs)\n",
    "\n",
    "                val_outputs = [\n",
    "                    post_processing_validation(i)\n",
    "                    for i in decollate_batch(val_outputs.to(device))\n",
    "                ]\n",
    "                dice_metric(y_pred=val_outputs, y=val_labels)\n",
    "\n",
    "            metric = dice_metric.aggregate().item()\n",
    "            metric_values.append(metric)\n",
    "            # metric_batch = dice_metric_batch.aggregate()\n",
    "            # metric_tc = metric_batch[0].item()\n",
    "            # metric_values_tc.append(metric_tc)\n",
    "            # metric_wt = metric_batch[1].item()\n",
    "            # metric_values_wt.append(metric_wt)\n",
    "            # metric_et = metric_batch[2].item()\n",
    "            # metric_values_et.append(metric_et)\n",
    "            dice_metric.reset()\n",
    "            # dice_metric_batch.reset()\n",
    "\n",
    "            if metric > best_metric:\n",
    "                best_metric = metric\n",
    "                best_metric_epoch = epoch\n",
    "                torch.save(\n",
    "                    {\n",
    "                        \"epoch\": epoch,\n",
    "                        \"model_state_dict\": model.state_dict(),\n",
    "                        \"optimiser_state_dict\": optimizer.state_dict(),\n",
    "                        \"loss_per_epoch\": epoch_loss_values,\n",
    "                        \"dice_metric_per_epoch\": metric_values,\n",
    "                        \"best_metric\": best_metric,\n",
    "                        \"best_metric_epoch\": best_metric_epoch,\n",
    "                    },\n",
    "                    path.join(\n",
    "                        \"./checkpoint\", f\"best_metric_{model_name}_{training_time}.pth\"\n",
    "                    ),\n",
    "                )\n",
    "                print(\"saved new best metric model\")\n",
    "            else:\n",
    "                # Update Num Epochs Trained\n",
    "                # ? Should I just make a json file for each pth?\n",
    "                checkpoint = torch.load(\n",
    "                    f\"./checkpoint/best_metric_{model_name}_{training_time}.pth\"\n",
    "                )\n",
    "                checkpoint[\"epoch\"] = epoch\n",
    "                torch.save(\n",
    "                    checkpoint,\n",
    "                    f\"./checkpoint/best_metric_{model_name}_{training_time}.pth\",\n",
    "                )\n",
    "            print(\n",
    "                f\"current epoch: {epoch + 1} current mean dice: {metric:.4f}\"\n",
    "                # f\" tc: {metric_tc:.4f} wt: {metric_wt:.4f} et: {metric_et:.4f}\"\n",
    "                f\"\\nbest mean dice: {best_metric:.4f}\"\n",
    "                f\" at epoch: {best_metric_epoch}\"\n",
    "            )\n"
   ]
  },
  {
   "cell_type": "code",
   "execution_count": 13,
   "metadata": {},
   "outputs": [
    {
     "data": {
      "text/plain": [
       "[<matplotlib.lines.Line2D at 0x2d31ac44e80>]"
      ]
     },
     "execution_count": 13,
     "metadata": {},
     "output_type": "execute_result"
    },
    {
     "data": {
      "image/png": "[encoded data removed]",
      "text/plain": [
       "<Figure size 640x480 with 1 Axes>"
      ]
     },
     "metadata": {},
     "output_type": "display_data"
    }
   ],
   "source": [
    "fig = plt.axes()\n",
    "fig.plot(epoch_loss_values)\n",
    "fig.plot([x*4 for x in range(len(metric_values))],metric_values)"
   ]
  },
  {
   "cell_type": "code",
   "execution_count": null,
   "metadata": {},
   "outputs": [],
   "source": []
  }
 ],
 "metadata": {
  "kernelspec": {
   "display_name": "fyp",
   "language": "python",
   "name": "python3"
  },
  "language_info": {
   "codemirror_mode": {
    "name": "ipython",
    "version": 3
   },
   "file_extension": ".py",
   "mimetype": "text/x-python",
   "name": "python",
   "nbconvert_exporter": "python",
   "pygments_lexer": "ipython3",
   "version": "3.9.15"
  },
  "orig_nbformat": 4,
  "vscode": {
   "interpreter": {
    "hash": "37bd13aa3d924eb96db98b00aa626978b2fce1020e2653180f4604a647daf9d4"
   }
  }
 },
 "nbformat": 4,
 "nbformat_minor": 2
}
