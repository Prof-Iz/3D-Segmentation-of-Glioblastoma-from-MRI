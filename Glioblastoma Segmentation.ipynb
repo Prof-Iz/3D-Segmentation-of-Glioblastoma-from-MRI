{
 "cells": [
  {
   "attachments": {},
   "cell_type": "markdown",
   "metadata": {},
   "source": [
    "# 3D Segmentation of Brain Tumor\n",
    "\n",
    "This document is to propose a 2D methodology instead of treating it as a 3D input.\n",
    "\n",
    "\n",
    "## Loading the Dataset\n",
    "The dataset used is the BraTS 2020 Dataset.\n",
    "\n",
    "The Dataset Contains the Following Scans per case:\n",
    "\n",
    "T1: T1-weighted, native image, sagittal or axial 2D acquisitions, with 1–6 mm slice thickness.\n",
    "\n",
    "T1c: T1-weighted, contrast-enhanced (Gadolinium) image, with 3D acquisition and 1 mm isotropic voxel size for most patients.\n",
    "\n",
    "T2: T2-weighted image, axial 2D acquisition, with 2–6 mm slice thickness.\n",
    "\n",
    "FLAIR: T2-weighted FLAIR image, axial, coronal, or sagittal 2D acquisitions, 2–6 mm slice thickness.\n",
    "\n",
    "So for training T1ce, T2 and FLAIR will be used."
   ]
  },
  {
   "attachments": {},
   "cell_type": "markdown",
   "metadata": {},
   "source": [
    "### Importing all dependencies"
   ]
  },
  {
   "cell_type": "code",
   "execution_count": 1,
   "metadata": {},
   "outputs": [
    {
     "name": "stderr",
     "output_type": "stream",
     "text": [
      "c:\\Users\\ibrah\\miniconda3\\envs\\fyp\\lib\\site-packages\\tqdm\\auto.py:22: TqdmWarning: IProgress not found. Please update jupyter and ipywidgets. See https://ipywidgets.readthedocs.io/en/stable/user_install.html\n",
      "  from .autonotebook import tqdm as notebook_tqdm\n"
     ]
    }
   ],
   "source": [
    "# Previewing the MRI Data\n",
    "# TODO: Collect all imports later and add notes next to them\n",
    "import numpy as np\n",
    "import matplotlib.pyplot as plt\n",
    "from os import path, listdir\n",
    "from monai.data import Dataset, list_data_collate, DataLoader, decollate_batch\n",
    "from monai.transforms import (\n",
    "    LoadImaged,\n",
    "    Compose,\n",
    "    MapTransform,\n",
    "    Orientationd,\n",
    "    EnsureTyped,\n",
    "    ToMetaTensord,  # ? same as ensuretyped?\n",
    "    EnsureChannelFirstd,\n",
    "    NormalizeIntensityd,\n",
    "    Spacingd,\n",
    "    DivisiblePadd,  # ? For UNet needs to be divisible by?\n",
    "    RandCropByPosNegLabeld,\n",
    "    RandFlipd,\n",
    "    RandScaleIntensityd,\n",
    "    RandShiftIntensityd,\n",
    "    Activations,\n",
    "    AsDiscrete,\n",
    ")\n",
    "\n",
    "from monai.networks.nets import SegResNet, UNet\n",
    "from monai.losses import DiceLoss\n",
    "from monai.metrics import DiceMetric, MeanIoU, compute_meaniou\n",
    "from monai.inferers import sliding_window_inference\n",
    "\n",
    "from pytorch_lightning import seed_everything\n",
    "import torch\n",
    "from utilities.split_data import train_val_test_dataset\n",
    "\n",
    "from monai.utils.misc import first\n",
    "\n",
    "from tqdm import tqdm\n"
   ]
  },
  {
   "cell_type": "code",
   "execution_count": 2,
   "metadata": {},
   "outputs": [
    {
     "name": "stdout",
     "output_type": "stream",
     "text": [
      "2023-01-12 13:29:56,902 - Global seed set to 1607\n"
     ]
    },
    {
     "data": {
      "text/plain": [
       "1607"
      ]
     },
     "execution_count": 2,
     "metadata": {},
     "output_type": "execute_result"
    }
   ],
   "source": [
    "seed_everything(1607)"
   ]
  },
  {
   "cell_type": "code",
   "execution_count": 39,
   "metadata": {},
   "outputs": [],
   "source": [
    "import gc\n",
    "\n",
    "def clear_gpu_cache():\n",
    "    \"\"\"Clear the PyTorch GPU Allocation if an OOM error occurs.\n",
    "    \"\"\"\n",
    "\n",
    "    try:\n",
    "        print(\"Deleting Model\")\n",
    "        global model\n",
    "        del model\n",
    "    except NameError as e:\n",
    "        print(f\"Model Already Cleared\")\n",
    "\n",
    "    print(\"Collecting Garbage\")\n",
    "    gc.collect()\n",
    "    print(\"Clearing CUDA Cache\")\n",
    "    torch.cuda.empty_cache()\n",
    "    print(\"Done\")\n"
   ]
  },
  {
   "attachments": {},
   "cell_type": "markdown",
   "metadata": {},
   "source": [
    "## Preparing the Dataset\n",
    "\n",
    "As per [University of Pennsylvania](https://www.med.upenn.edu/cbica/brats2020/data.html):\n",
    "\n",
    "All BraTS multimodal scans are available as NIfTI files (.nii.gz) and describe a) native (T1) and b) post-contrast T1-weighted (T1Gd), c) T2-weighted (T2), and d) T2 Fluid Attenuated Inversion Recovery (T2-FLAIR) volumes, and were acquired with different clinical protocols and various scanners from multiple (n=19) institutions, mentioned as data contributors here.\n",
    "\n",
    "All the imaging datasets have been segmented manually, by one to four raters, following the same annotation protocol, and their annotations were approved by experienced neuro-radiologists. Annotations comprise the GD-enhancing tumor (ET — label 4), the peritumoral edema (ED — label 2), and the necrotic and non-enhancing tumor core (NCR/NET — label 1), as described both in the BraTS 2012-2013 TMI paper(opens in a new window) and in the latest BraTS summarizing paper. The provided data are distributed after their pre-processing, i.e., *co-registered to the same anatomical template*, interpolated to the *same resolution (1 mm^3)* and *skull-stripped*."
   ]
  },
  {
   "cell_type": "code",
   "execution_count": 3,
   "metadata": {},
   "outputs": [
    {
     "name": "stdout",
     "output_type": "stream",
     "text": [
      "\n",
      "          Ratio of Classes -> HGG/Total\n",
      "          - Training 0.80\t| 265 Cases.\n",
      "          - Validation 0.79\t| 67 Cases.\n",
      "          - Testing 0.78\t| 37 Cases.\n",
      "          \n",
      "          Total Cases: 369\n",
      "          \n"
     ]
    }
   ],
   "source": [
    "# Prepare list of All training Cases\n",
    "TRAINING_DATASET_PATH = r\"./MICCAI_BraTS2020_TrainingData\"\n",
    "NAME_MAPPING = r\"./MICCAI_BraTS2020_TrainingData/name_mapping.csv\"\n",
    "\n",
    "# Function returns names of cases to be used\n",
    "train_cases, val_cases, test_cases = train_val_test_dataset(NAME_MAPPING)\n",
    "\n"
   ]
  },
  {
   "cell_type": "code",
   "execution_count": 4,
   "metadata": {},
   "outputs": [],
   "source": [
    "# prepare mapping to convert into PyTorch Dataset\n",
    "train_cases = [\n",
    "    {\n",
    "        \"image\": [\n",
    "            path.join(TRAINING_DATASET_PATH, case, f\"{case}_t1ce.nii.gz\"),\n",
    "            path.join(TRAINING_DATASET_PATH, case, f\"{case}_t2.nii.gz\"),\n",
    "            path.join(TRAINING_DATASET_PATH, case, f\"{case}_flair.nii.gz\"),\n",
    "        ],\n",
    "        \"seg\": path.join(\n",
    "            TRAINING_DATASET_PATH, case, f\"{path.split(case)[-1]}_seg.nii.gz\"\n",
    "        ),\n",
    "    }\n",
    "    for case in train_cases\n",
    "]\n",
    "\n",
    "val_cases = [\n",
    "    {\n",
    "        \"image\": [\n",
    "            path.join(TRAINING_DATASET_PATH, case, f\"{case}_t1ce.nii.gz\"),\n",
    "            path.join(TRAINING_DATASET_PATH, case, f\"{case}_t2.nii.gz\"),\n",
    "            path.join(TRAINING_DATASET_PATH, case, f\"{case}_flair.nii.gz\"),\n",
    "        ],\n",
    "        \"seg\": path.join(\n",
    "            TRAINING_DATASET_PATH, case, f\"{path.split(case)[-1]}_seg.nii.gz\"\n",
    "        ),\n",
    "    }\n",
    "    for case in val_cases\n",
    "]\n",
    "\n",
    "test_cases = [\n",
    "    {\n",
    "        \"image\": [\n",
    "            path.join(TRAINING_DATASET_PATH, case, f\"{case}_t1ce.nii.gz\"),\n",
    "            path.join(TRAINING_DATASET_PATH, case, f\"{case}_t2.nii.gz\"),\n",
    "            path.join(TRAINING_DATASET_PATH, case, f\"{case}_flair.nii.gz\"),\n",
    "        ],\n",
    "        \"seg\": path.join(\n",
    "            TRAINING_DATASET_PATH, case, f\"{path.split(case)[-1]}_seg.nii.gz\"\n",
    "        ),\n",
    "    }\n",
    "    for case in test_cases\n",
    "]\n"
   ]
  },
  {
   "cell_type": "code",
   "execution_count": 5,
   "metadata": {},
   "outputs": [],
   "source": [
    "# One Hot Encoding for Tumor as 3 is skipped in the segmentation masks.\n",
    "#? : Set Background Class?\n",
    "class ConvertLabelsIntoOneHotd(MapTransform):\n",
    "    def __call__(self, data):\n",
    "        data_dict = dict(data)\n",
    "        for key in self.keys:\n",
    "            one_hot_encode_array = [\n",
    "                data_dict[key] == 1,  # Non Enhancing Tumor Core\n",
    "                data_dict[key] == 2,  # Edema Core\n",
    "                data_dict[key] == 4,  # Enhancing Tumor Core\n",
    "            ]\n",
    "            data_dict[key] = np.stack(one_hot_encode_array, axis=0).astype(np.float32)\n",
    "        return data_dict\n"
   ]
  },
  {
   "cell_type": "code",
   "execution_count": 6,
   "metadata": {},
   "outputs": [],
   "source": [
    "# Transform data such as from niftii into Tensors\n",
    "transform_training_dataset = Compose(\n",
    "    [\n",
    "        LoadImaged(keys=[\"image\", \"seg\"]),\n",
    "        EnsureChannelFirstd(keys=[\"image\"]),\n",
    "        EnsureTyped(keys=[\"image\", \"seg\"]),\n",
    "        ConvertLabelsIntoOneHotd(keys=\"seg\"),\n",
    "        # Orientationd(keys=[\"image\", \"seg\"],axcodes='RAS'),\n",
    "        #! Causes misalignment on Mask Orientationd\n",
    "        # Spacingd(\n",
    "        #     keys=[\"image\", \"seg\"],\n",
    "        #     pixdim=(1.0, 1.0, 1.0),\n",
    "        #     mode=(\"bilinear\", \"nearest\"),\n",
    "        # ),\n",
    "        #! Training Dataset Already set to Pixel Dimension of 1mm^3\n",
    "        NormalizeIntensityd(keys=\"image\", nonzero=True, channel_wise=True),\n",
    "        RandCropByPosNegLabeld(\n",
    "            keys=[\"image\", \"seg\"],\n",
    "            spatial_size=(96,96,96),\n",
    "            label_key=\"seg\",\n",
    "            neg=0,\n",
    "            num_samples=3\n",
    "        ),\n",
    "        # RandFlipd(keys=[\"image\", \"seg\"], prob=0.5, spatial_axis=0),\n",
    "        # RandFlipd(keys=[\"image\", \"seg\"], prob=0.5, spatial_axis=1),\n",
    "        # RandFlipd(keys=[\"image\", \"seg\"], prob=0.5, spatial_axis=2),\n",
    "        RandScaleIntensityd(keys=\"image\", factors=0.1, prob=1.0),\n",
    "        RandShiftIntensityd(keys=\"image\", offsets=0.1, prob=1.0),\n",
    "        # DivisiblePadd(keys=[\"image\", \"seg\"], k=16),\n",
    "    ]\n",
    ")\n",
    "\n",
    "transform_validation_dataset = Compose(\n",
    "    [\n",
    "        LoadImaged(keys=[\"image\", \"seg\"]),\n",
    "        EnsureChannelFirstd(keys=[\"image\"]),\n",
    "        EnsureTyped(keys=[\"image\", \"seg\"]),\n",
    "        ConvertLabelsIntoOneHotd(keys=\"seg\"),\n",
    "        # Orientationd(keys=[\"image\", \"seg\"],axcodes='RAS'),\n",
    "        #! Causes misalignment on Mask Orientationd\n",
    "        # Spacingd(\n",
    "        #     keys=[\"image\", \"seg\"],\n",
    "        #     pixdim=(1.0, 1.0, 1.0),\n",
    "        #     mode=(\"bilinear\", \"nearest\"),\n",
    "        # ),\n",
    "        #! Training Dataset Already set to Pixel Dimension of 1mm^3\n",
    "        NormalizeIntensityd(keys=\"image\", nonzero=True, channel_wise=True),\n",
    "    ]\n",
    ")\n",
    "\n"
   ]
  },
  {
   "cell_type": "code",
   "execution_count": 52,
   "metadata": {},
   "outputs": [],
   "source": [
    "# Prepare the training Dataset with all transformations\n",
    "# Optional: Can replace Dataset Class with Cache Dataset\n",
    "dataset_training = Dataset(train_cases, transform_training_dataset)\n"
   ]
  },
  {
   "cell_type": "code",
   "execution_count": 18,
   "metadata": {},
   "outputs": [
    {
     "name": "stdout",
     "output_type": "stream",
     "text": [
      "torch.Size([3, 80, 80, 80])\n",
      "torch.Size([3, 80, 80, 80])\n"
     ]
    }
   ],
   "source": [
    "print(dataset_training[0][0][\"image\"].shape)\n",
    "print(dataset_training[0][0][\"seg\"].shape)"
   ]
  },
  {
   "attachments": {},
   "cell_type": "markdown",
   "metadata": {},
   "source": [
    "Dataset Produced in the following format\n",
    "```\n",
    "[list of patient][list of dictionary: samples from a patient] -> [0][0] for first patient first sample\n",
    "    - mri scan [\"image\"] -> [3,80,80,80] [Torch.Tensor]\n",
    "    - seg mask [\"seg] -> [3,80,80,80] [Torch.Tensor]\n",
    "    For T1-CE, FLAIR and T2\n",
    "```\n",
    "\n",
    "Where `[3,80,80,80]` refers to `[Channel,Dims..]`\n"
   ]
  },
  {
   "attachments": {},
   "cell_type": "markdown",
   "metadata": {},
   "source": [
    "## Visualising the Training Dataset"
   ]
  },
  {
   "cell_type": "code",
   "execution_count": 53,
   "metadata": {},
   "outputs": [
    {
     "data": {
      "text/plain": [
       "Text(0.5, 1.0, 'Enhancing')"
      ]
     },
     "execution_count": 53,
     "metadata": {},
     "output_type": "execute_result"
    },
    {
     "data": {
      "image/png": "[encoded data removed]",
      "text/plain": [
       "<Figure size 640x480 with 6 Axes>"
      ]
     },
     "metadata": {},
     "output_type": "display_data"
    }
   ],
   "source": [
    "# Visualising the Training Dataset per case\n",
    "\n",
    "#! Misalignment of Seg and Image Tensors when using Orientationd\n",
    "\n",
    "patient = 10  # Refers to a folder in the training dataset such as \"./MICCAI_BraTS2020_TrainingData/BraTS20_Training_001/\"\n",
    "\n",
    "slice = 40  # Refers to a slice in the 3D Tensor. For visualisation one of the 3 axis must be limited\n",
    "\n",
    "sample = 0 # multiple random samples are taken per patient\n",
    "\n",
    "to_plot_case = dataset_training[patient][sample]\n",
    "\n",
    "fig, ax = plt.subplots(2, 3, sharey=True, sharex=True)\n",
    "\n",
    "ax[0, 0].imshow(to_plot_case[\"image\"][0][:, :, slice], cmap=\"gray\",interpolation = 'antialiased')\n",
    "ax[0, 0].set_title(\"T1-CE\")\n",
    "\n",
    "ax[0, 1].imshow(to_plot_case[\"image\"][1][:, :, slice], cmap=\"gray\",interpolation = 'antialiased')\n",
    "ax[0, 1].set_title(\"T2\")\n",
    "\n",
    "ax[0, 2].imshow(to_plot_case[\"image\"][2][:, :, slice], cmap=\"gray\",interpolation = 'antialiased')\n",
    "ax[0, 2].set_title(\"T2-Flair\")\n",
    "\n",
    "\n",
    "ax[1, 0].imshow(to_plot_case[\"seg\"][0][:, :, slice])\n",
    "ax[1, 0].set_title(\"Non-Enhancing\")\n",
    "\n",
    "ax[1, 1].imshow(to_plot_case[\"seg\"][1][:, :, slice])\n",
    "ax[1, 1].set_title(\"Edema Core\")\n",
    "\n",
    "ax[1, 2].imshow(to_plot_case[\"seg\"][2][:, :, slice])\n",
    "ax[1, 2].set_title(\"Enhancing\")\n"
   ]
  },
  {
   "attachments": {},
   "cell_type": "markdown",
   "metadata": {},
   "source": [
    "# Training and Validation of Model"
   ]
  },
  {
   "attachments": {},
   "cell_type": "markdown",
   "metadata": {},
   "source": [
    "### Preparing the Data Loaders"
   ]
  },
  {
   "cell_type": "code",
   "execution_count": 62,
   "metadata": {},
   "outputs": [],
   "source": [
    "train_data_loader = DataLoader(\n",
    "    Dataset(train_cases[:50], transform_training_dataset),\n",
    "    shuffle=True,\n",
    "    batch_size=1,\n",
    "    \n",
    ")\n",
    "\n",
    "#! transformation in validation dataset\n",
    "val_data_loader = DataLoader(\n",
    "    Dataset(val_cases[:10], transform_validation_dataset),\n",
    "    shuffle=True,\n",
    "    batch_size=1,\n",
    ")\n"
   ]
  },
  {
   "attachments": {},
   "cell_type": "markdown",
   "metadata": {},
   "source": [
    "### Initialising the Model and Other Parameters"
   ]
  },
  {
   "cell_type": "code",
   "execution_count": 66,
   "metadata": {},
   "outputs": [],
   "source": [
    "#! Pure Pytorch Training Loop:\n",
    "# Ref: https://github.com/Project-MONAI/tutorials/blob/main/3d_segmentation/brats_segmentation_3d.ipynb\n",
    "# Ref: https://github.com/Project-MONAI/tutorials/blob/main/2d_segmentation/torch/unet_training_dict.py\n",
    "\n",
    "\n",
    "device = torch.device(\"cuda:0\")\n",
    "\n",
    "#! Update with proper values\n",
    "max_epochs = 10\n",
    "val_interval = 5\n",
    "\n",
    "model = SegResNet(\n",
    "    blocks_down=[1, 2, 2, 4],\n",
    "    blocks_up=[1, 1, 1],\n",
    "    init_filters=8,\n",
    "    in_channels=3,\n",
    "    out_channels=3,\n",
    "    dropout_prob=0.2,\n",
    "    spatial_dims=3,\n",
    ").to(device)\n",
    "\n",
    "\n",
    "initial_lr = 1e-3\n",
    "\n",
    "optimizer = torch.optim.Adam(model.parameters(), initial_lr, weight_decay=1e-5)\n",
    "\n",
    "scaler = torch.cuda.amp.GradScaler()\n",
    "\n",
    "lr_scheduler = torch.optim.lr_scheduler.CosineAnnealingLR(\n",
    "    optimizer, T_max=max_epochs, eta_min=1e-4\n",
    ")\n",
    "\n",
    "loss_function = DiceLoss(\n",
    "    smooth_nr=0, smooth_dr=1e-5, squared_pred=False, to_onehot_y=False, softmax=True\n",
    ")\n",
    "\n",
    "# ? Check inferer parameters and tweak\n",
    "def inference(input):\n",
    "    \"\"\"Do Sliding Window Inference on input tensor\n",
    "    To avoid OOM Error, Input Model done on CPU.\n",
    "    Patch taken from input and its inference done on GPU\n",
    "    to speed up inference time.\n",
    "\n",
    "    Args:\n",
    "        input: Full input to pass in the model. For the case\n",
    "        of this project size => (3,240,240,155)\n",
    "    \"\"\"\n",
    "    def _compute(input):\n",
    "        return sliding_window_inference(\n",
    "            inputs=input.to('cpu'),\n",
    "            roi_size=(96, 96, 96),\n",
    "            sw_batch_size=1,\n",
    "            predictor=model,\n",
    "            overlap=0.5,\n",
    "            padding_mode=\"constant\",\n",
    "            sw_device=\"cuda:0\",\n",
    "            device=\"cpu\",\n",
    "        )\n",
    "\n",
    "    with torch.cuda.amp.autocast():\n",
    "        return _compute(input)\n",
    "\n",
    "\n",
    "post_processing_validation = Compose(\n",
    "    [Activations(softmax=True), AsDiscrete(threshold=0.5)]\n",
    ")\n",
    "\n",
    "dice_metric = DiceMetric(include_background=True, reduction=\"mean\")\n",
    "# dice_metric_batch = DiceMetric(include_background=True, reduction=\"mean_batch\")\n",
    "iou_metric = MeanIoU(include_background=True, reduction=\"mean_batch\")\n"
   ]
  },
  {
   "cell_type": "code",
   "execution_count": 60,
   "metadata": {},
   "outputs": [
    {
     "name": "stdout",
     "output_type": "stream",
     "text": [
      "0.06742996722459793\n"
     ]
    }
   ],
   "source": [
    "#! Testing validation DO NOT RUN IN NORMAL SEQ\n",
    "\n",
    "with torch.no_grad():\n",
    "    i = 0\n",
    "    for val_data in val_data_loader:\n",
    "        val_inputs, val_labels = (\n",
    "            val_data[\"image\"], # load to cpu\n",
    "            val_data[\"seg\"].to(device),\n",
    "        )\n",
    "\n",
    "        val_outputs = inference(val_inputs)\n",
    "\n",
    "        val_outputs = [\n",
    "            post_processing_validation(i) for i in decollate_batch(val_outputs.to(device))\n",
    "        ]\n",
    "        dice_metric(y_pred=val_outputs, y=val_labels)\n",
    "        i+= 1\n",
    "        \n",
    "        if i == 4:\n",
    "                break\n",
    "\n",
    "    metric = dice_metric.aggregate().item()\n",
    "    dice_metric.reset()\n",
    "\n",
    "    print(metric)\n",
    "\n",
    "        "
   ]
  },
  {
   "cell_type": "code",
   "execution_count": 65,
   "metadata": {},
   "outputs": [
    {
     "name": "stdout",
     "output_type": "stream",
     "text": [
      "Deleting Model\n",
      "Collecting Garbage\n",
      "Clearing CUDA Cache\n",
      "Done\n"
     ]
    }
   ],
   "source": [
    "clear_gpu_cache()"
   ]
  },
  {
   "attachments": {},
   "cell_type": "markdown",
   "metadata": {},
   "source": [
    "### Training Loop"
   ]
  },
  {
   "cell_type": "code",
   "execution_count": 68,
   "metadata": {},
   "outputs": [
    {
     "name": "stdout",
     "output_type": "stream",
     "text": [
      "----------\n",
      "Epoch 1/10\n"
     ]
    },
    {
     "name": "stderr",
     "output_type": "stream",
     "text": [
      "100%|██████████| 50/50 [01:46<00:00,  2.13s/it]\n"
     ]
    },
    {
     "name": "stdout",
     "output_type": "stream",
     "text": [
      "epoch 1 average loss: 0.9074\n",
      "\n",
      "----------\n",
      "Epoch 2/10\n"
     ]
    },
    {
     "name": "stderr",
     "output_type": "stream",
     "text": [
      "100%|██████████| 50/50 [01:45<00:00,  2.10s/it]\n"
     ]
    },
    {
     "name": "stdout",
     "output_type": "stream",
     "text": [
      "epoch 2 average loss: 0.8747\n",
      "\n",
      "----------\n",
      "Epoch 3/10\n"
     ]
    },
    {
     "name": "stderr",
     "output_type": "stream",
     "text": [
      "100%|██████████| 50/50 [01:45<00:00,  2.10s/it]\n"
     ]
    },
    {
     "name": "stdout",
     "output_type": "stream",
     "text": [
      "epoch 3 average loss: 0.8451\n",
      "\n",
      "----------\n",
      "Epoch 4/10\n"
     ]
    },
    {
     "name": "stderr",
     "output_type": "stream",
     "text": [
      "100%|██████████| 50/50 [01:45<00:00,  2.10s/it]\n"
     ]
    },
    {
     "name": "stdout",
     "output_type": "stream",
     "text": [
      "epoch 4 average loss: 0.8019\n",
      "\n",
      "----------\n",
      "Epoch 5/10\n"
     ]
    },
    {
     "name": "stderr",
     "output_type": "stream",
     "text": [
      "100%|██████████| 50/50 [01:47<00:00,  2.14s/it]\n"
     ]
    },
    {
     "name": "stdout",
     "output_type": "stream",
     "text": [
      "epoch 5 average loss: 0.7524\n",
      "\n",
      "Validating Training at 5 Epochs\n"
     ]
    },
    {
     "ename": "UnboundLocalError",
     "evalue": "local variable 'best_metric' referenced before assignment",
     "output_type": "error",
     "traceback": [
      "\u001b[1;31m---------------------------------------------------------------------------\u001b[0m",
      "\u001b[1;31mUnboundLocalError\u001b[0m                         Traceback (most recent call last)",
      "Cell \u001b[1;32mIn[68], line 103\u001b[0m\n\u001b[0;32m     93\u001b[0m                     \u001b[39mprint\u001b[39m(\u001b[39m\"\u001b[39m\u001b[39msaved new best metric model\u001b[39m\u001b[39m\"\u001b[39m)\n\u001b[0;32m     94\u001b[0m                 \u001b[39mprint\u001b[39m(\n\u001b[0;32m     95\u001b[0m                     \u001b[39mf\u001b[39m\u001b[39m\"\u001b[39m\u001b[39mcurrent epoch: \u001b[39m\u001b[39m{\u001b[39;00mepoch \u001b[39m+\u001b[39m \u001b[39m1\u001b[39m\u001b[39m}\u001b[39;00m\u001b[39m current mean dice: \u001b[39m\u001b[39m{\u001b[39;00mmetric\u001b[39m:\u001b[39;00m\u001b[39m.4f\u001b[39m\u001b[39m}\u001b[39;00m\u001b[39m\"\u001b[39m\n\u001b[0;32m     96\u001b[0m                     \u001b[39m# f\" tc: {metric_tc:.4f} wt: {metric_wt:.4f} et: {metric_et:.4f}\"\u001b[39;00m\n\u001b[0;32m     97\u001b[0m                     \u001b[39mf\u001b[39m\u001b[39m\"\u001b[39m\u001b[39m\\n\u001b[39;00m\u001b[39mbest mean dice: \u001b[39m\u001b[39m{\u001b[39;00mbest_metric\u001b[39m:\u001b[39;00m\u001b[39m.4f\u001b[39m\u001b[39m}\u001b[39;00m\u001b[39m\"\u001b[39m\n\u001b[0;32m     98\u001b[0m                     \u001b[39mf\u001b[39m\u001b[39m\"\u001b[39m\u001b[39m at epoch: \u001b[39m\u001b[39m{\u001b[39;00mbest_metric_epoch\u001b[39m}\u001b[39;00m\u001b[39m\"\u001b[39m\n\u001b[0;32m     99\u001b[0m                 )\n\u001b[1;32m--> 103\u001b[0m training()\n",
      "Cell \u001b[1;32mIn[68], line 86\u001b[0m, in \u001b[0;36mtraining\u001b[1;34m()\u001b[0m\n\u001b[0;32m     83\u001b[0m dice_metric\u001b[39m.\u001b[39mreset()\n\u001b[0;32m     84\u001b[0m \u001b[39m# dice_metric_batch.reset()\u001b[39;00m\n\u001b[1;32m---> 86\u001b[0m \u001b[39mif\u001b[39;00m metric \u001b[39m>\u001b[39m best_metric:\n\u001b[0;32m     87\u001b[0m     best_metric \u001b[39m=\u001b[39m metric\n\u001b[0;32m     88\u001b[0m     best_metric_epoch \u001b[39m=\u001b[39m epoch \u001b[39m+\u001b[39m \u001b[39m1\u001b[39m\n",
      "\u001b[1;31mUnboundLocalError\u001b[0m: local variable 'best_metric' referenced before assignment"
     ]
    }
   ],
   "source": [
    "best_metric = -1\n",
    "best_metric_epoch = -1\n",
    "epoch_loss_values = []  # Append avg loss per epoch\n",
    "metric_values = []\n",
    "\n",
    "\n",
    "def training():\n",
    "\n",
    "    for epoch in range(max_epochs):\n",
    "        print(\"-\" * 10)\n",
    "        print(f\"Epoch {epoch + 1}/{max_epochs}\")\n",
    "        model.train()\n",
    "        epoch_loss = 0\n",
    "        step = 0\n",
    "\n",
    "        for batch_data in tqdm(train_data_loader):\n",
    "\n",
    "            inputs, labels = (\n",
    "                batch_data[\"image\"].to(device),\n",
    "                batch_data[\"seg\"].to(device),\n",
    "            )\n",
    "\n",
    "            \"\"\"\n",
    "            Use the commented code if slicing (thin)\n",
    "            \n",
    "            # for slice_idx in range(inputs.size(4)):\n",
    "            #     optimizer.zero_grad()\n",
    "\n",
    "            #     with torch.cuda.amp.autocast():\n",
    "            #         outputs = model(inputs[:, :, :, :, slice_idx])\n",
    "            #         loss = loss_function(outputs, labels[:, :, :, :, slice_idx])\n",
    "\n",
    "            #     scaler.scale(loss).backward()\n",
    "            #     scaler.step(optimizer)\n",
    "            #     scaler.update()\n",
    "            #     epoch_loss += loss.item()\n",
    "            #     step += 1\n",
    "            \"\"\"\n",
    "\n",
    "            with torch.cuda.amp.autocast():\n",
    "                outputs = model(inputs)\n",
    "                loss = loss_function(outputs, labels)\n",
    "\n",
    "                scaler.scale(loss).backward()\n",
    "                scaler.step(optimizer)\n",
    "                scaler.update()\n",
    "                epoch_loss += loss.item()\n",
    "                step += 1\n",
    "\n",
    "        #! Use Learning rate scheduler later for hyperparameter tuning\n",
    "        # lr_scheduler.step()\n",
    "        epoch_loss /= step  # average epoch loss\n",
    "        epoch_loss_values.append(epoch_loss)\n",
    "        print(f\"epoch {epoch + 1} average loss: {epoch_loss:.4f}\\n\")\n",
    "\n",
    "        if (epoch + 1) % val_interval == 0:\n",
    "            print(f\"Validating Training at {(epoch + 1)} Epochs\")\n",
    "            model.eval()\n",
    "            with torch.no_grad():\n",
    "                for val_data in val_data_loader:\n",
    "                    val_inputs, val_labels = (\n",
    "                        val_data[\"image\"],\n",
    "                        val_data[\"seg\"].to(device),\n",
    "                    )\n",
    "\n",
    "                    val_outputs = inference(val_inputs)\n",
    "                    \n",
    "                    val_outputs = [\n",
    "                        post_processing_validation(i)\n",
    "                        for i in decollate_batch(val_outputs.to(device))\n",
    "                    ]\n",
    "                    dice_metric(y_pred=val_outputs, y=val_labels)\n",
    "\n",
    "                metric = dice_metric.aggregate().item()\n",
    "                metric_values.append(metric)\n",
    "                # metric_batch = dice_metric_batch.aggregate()\n",
    "                # metric_tc = metric_batch[0].item()\n",
    "                # metric_values_tc.append(metric_tc)\n",
    "                # metric_wt = metric_batch[1].item()\n",
    "                # metric_values_wt.append(metric_wt)\n",
    "                # metric_et = metric_batch[2].item()\n",
    "                # metric_values_et.append(metric_et)\n",
    "                dice_metric.reset()\n",
    "                # dice_metric_batch.reset()\n",
    "\n",
    "                if metric > best_metric:\n",
    "                    best_metric = metric\n",
    "                    best_metric_epoch = epoch + 1\n",
    "                    torch.save(\n",
    "                        model.state_dict(),\n",
    "                        path.join(\"checkpoint\", \"best_metric_model.pth\"),\n",
    "                    )\n",
    "                    print(\"saved new best metric model\")\n",
    "                print(\n",
    "                    f\"current epoch: {epoch + 1} current mean dice: {metric:.4f}\"\n",
    "                    # f\" tc: {metric_tc:.4f} wt: {metric_wt:.4f} et: {metric_et:.4f}\"\n",
    "                    f\"\\nbest mean dice: {best_metric:.4f}\"\n",
    "                    f\" at epoch: {best_metric_epoch}\"\n",
    "                )\n",
    "\n",
    "                \n",
    "\n",
    "training() \n"
   ]
  },
  {
   "cell_type": "code",
   "execution_count": 81,
   "metadata": {},
   "outputs": [
    {
     "data": {
      "text/plain": [
       "[<matplotlib.lines.Line2D at 0x2109b3fb8e0>]"
      ]
     },
     "execution_count": 81,
     "metadata": {},
     "output_type": "execute_result"
    },
    {
     "data": {
      "image/png": "[encoded data removed]",
      "text/plain": [
       "<Figure size 640x480 with 1 Axes>"
      ]
     },
     "metadata": {},
     "output_type": "display_data"
    }
   ],
   "source": [
    "plt.plot(epoch_loss_values)"
   ]
  },
  {
   "cell_type": "code",
   "execution_count": 46,
   "metadata": {},
   "outputs": [],
   "source": [
    "a = torch.rand(3,240,240,155).to(device)\n"
   ]
  },
  {
   "cell_type": "code",
   "execution_count": 56,
   "metadata": {},
   "outputs": [],
   "source": [
    "dice_metric = DiceMetric(include_background=True, reduction=\"mean\")\n",
    "dice_metric_channel = DiceMetric(include_background=True, reduction=\"mean_batch\")"
   ]
  },
  {
   "cell_type": "code",
   "execution_count": 48,
   "metadata": {},
   "outputs": [],
   "source": [
    "metric = dice_metric(a,a)"
   ]
  },
  {
   "cell_type": "code",
   "execution_count": 49,
   "metadata": {},
   "outputs": [
    {
     "data": {
      "text/plain": [
       "0.6667072176933289"
      ]
     },
     "execution_count": 49,
     "metadata": {},
     "output_type": "execute_result"
    }
   ],
   "source": [
    "dice_metric.aggregate().item()"
   ]
  },
  {
   "cell_type": "code",
   "execution_count": 57,
   "metadata": {},
   "outputs": [],
   "source": [
    "dice_metric.reset()\n",
    "dice_metric_channel.reset()"
   ]
  },
  {
   "cell_type": "code",
   "execution_count": 58,
   "metadata": {},
   "outputs": [
    {
     "name": "stdout",
     "output_type": "stream",
     "text": [
      "torch.Size([3, 240])\n"
     ]
    },
    {
     "data": {
      "text/plain": [
       "tensor(0.6664, device='cuda:0')"
      ]
     },
     "execution_count": 58,
     "metadata": {},
     "output_type": "execute_result"
    }
   ],
   "source": [
    "print(dice_metric_channel(a,a).shape)\n",
    "\n",
    "dice_metric_channel.aggregate()[0]"
   ]
  },
  {
   "cell_type": "code",
   "execution_count": 53,
   "metadata": {},
   "outputs": [
    {
     "ename": "AttributeError",
     "evalue": "'DiceMetric' object has no attribute 'size'",
     "output_type": "error",
     "traceback": [
      "\u001b[1;31m---------------------------------------------------------------------------\u001b[0m",
      "\u001b[1;31mAttributeError\u001b[0m                            Traceback (most recent call last)",
      "Cell \u001b[1;32mIn[53], line 1\u001b[0m\n\u001b[1;32m----> 1\u001b[0m dice_metric_channel\u001b[39m.\u001b[39;49msize\n",
      "\u001b[1;31mAttributeError\u001b[0m: 'DiceMetric' object has no attribute 'size'"
     ]
    }
   ],
   "source": [
    "dice_metric_channel.size"
   ]
  },
  {
   "cell_type": "code",
   "execution_count": null,
   "metadata": {},
   "outputs": [],
   "source": []
  }
 ],
 "metadata": {
  "kernelspec": {
   "display_name": "fyp",
   "language": "python",
   "name": "python3"
  },
  "language_info": {
   "codemirror_mode": {
    "name": "ipython",
    "version": 3
   },
   "file_extension": ".py",
   "mimetype": "text/x-python",
   "name": "python",
   "nbconvert_exporter": "python",
   "pygments_lexer": "ipython3",
   "version": "3.9.15"
  },
  "orig_nbformat": 4,
  "vscode": {
   "interpreter": {
    "hash": "37bd13aa3d924eb96db98b00aa626978b2fce1020e2653180f4604a647daf9d4"
   }
  }
 },
 "nbformat": 4,
 "nbformat_minor": 2
}
