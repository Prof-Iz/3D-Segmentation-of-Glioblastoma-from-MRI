{
 "cells": [
  {
   "attachments": {},
   "cell_type": "markdown",
   "metadata": {},
   "source": [
    "# 3D Segmentation of Brain Tumor\n",
    "\n",
    "This document is to propose a 2D methodology instead of treating it as a 3D input.\n",
    "\n",
    "\n",
    "## Loading the Dataset\n",
    "The dataset used is the BraTS 2020 Dataset.\n",
    "\n",
    "The Dataset Contains the Following Scans per case:\n",
    "\n",
    "T1: T1-weighted, native image, sagittal or axial 2D acquisitions, with 1–6 mm slice thickness.\n",
    "\n",
    "T1c: T1-weighted, contrast-enhanced (Gadolinium) image, with 3D acquisition and 1 mm isotropic voxel size for most patients.\n",
    "\n",
    "T2: T2-weighted image, axial 2D acquisition, with 2–6 mm slice thickness.\n",
    "\n",
    "FLAIR: T2-weighted FLAIR image, axial, coronal, or sagittal 2D acquisitions, 2–6 mm slice thickness.\n",
    "\n",
    "So for training T1ce, T2 and FLAIR will be used."
   ]
  },
  {
   "attachments": {},
   "cell_type": "markdown",
   "metadata": {},
   "source": [
    "### Importing all dependencies"
   ]
  },
  {
   "cell_type": "code",
   "execution_count": 1,
   "metadata": {},
   "outputs": [
    {
     "name": "stderr",
     "output_type": "stream",
     "text": [
      "c:\\Users\\ibrah\\miniconda3\\envs\\fyp\\lib\\site-packages\\tqdm\\auto.py:22: TqdmWarning: IProgress not found. Please update jupyter and ipywidgets. See https://ipywidgets.readthedocs.io/en/stable/user_install.html\n",
      "  from .autonotebook import tqdm as notebook_tqdm\n"
     ]
    }
   ],
   "source": [
    "# Previewing the MRI Data\n",
    "# TODO: Collect all imports later and add notes next to them\n",
    "import numpy as np\n",
    "import matplotlib.pyplot as plt\n",
    "from os import path, listdir\n",
    "from monai.data import Dataset, list_data_collate, DataLoader\n",
    "from monai.transforms import (\n",
    "    LoadImaged,\n",
    "    Compose,\n",
    "    MapTransform,\n",
    "    Orientationd,\n",
    "    EnsureTyped,\n",
    "    ToMetaTensord,  # ? same as ensuretyped?\n",
    "    EnsureChannelFirstd,\n",
    "    NormalizeIntensityd,\n",
    "    Spacingd,\n",
    "    DivisiblePadd # ? For UNet needs to be divisible by?\n",
    ")\n",
    "\n",
    "from monai.networks.nets import SegResNet, UNet\n",
    "from monai.losses import DiceLoss\n",
    "\n",
    "from pytorch_lightning import seed_everything \n",
    "import torch\n",
    "from utilities.split_data import train_val_test_dataset\n",
    "\n",
    "from monai.utils.misc import first"
   ]
  },
  {
   "cell_type": "code",
   "execution_count": 2,
   "metadata": {},
   "outputs": [
    {
     "name": "stdout",
     "output_type": "stream",
     "text": [
      "2023-01-09 20:45:16,321 - Global seed set to 1607\n"
     ]
    },
    {
     "data": {
      "text/plain": [
       "1607"
      ]
     },
     "execution_count": 2,
     "metadata": {},
     "output_type": "execute_result"
    }
   ],
   "source": [
    "seed_everything(1607)"
   ]
  },
  {
   "cell_type": "code",
   "execution_count": 3,
   "metadata": {},
   "outputs": [
    {
     "name": "stdout",
     "output_type": "stream",
     "text": [
      "\n",
      "          Ratio of Classes -> HGG/Total\n",
      "          - Training 0.80\t| 265 Cases.\n",
      "          - Validation 0.79\t| 67 Cases.\n",
      "          - Testing 0.78\t| 37 Cases.\n",
      "          \n",
      "          Total Cases: 369\n",
      "          \n"
     ]
    }
   ],
   "source": [
    "# Prepare list of All training Cases\n",
    "TRAINING_DATASET_PATH = r\"./MICCAI_BraTS2020_TrainingData\"\n",
    "NAME_MAPPING = r\"./MICCAI_BraTS2020_TrainingData/name_mapping.csv\"\n",
    "\n",
    "# Function returns names of cases to be used\n",
    "train_cases, val_cases, test_cases = train_val_test_dataset(NAME_MAPPING)\n",
    "\n"
   ]
  },
  {
   "cell_type": "code",
   "execution_count": 4,
   "metadata": {},
   "outputs": [],
   "source": [
    "# prepare mapping to convert into PyTorch Dataset\n",
    "train_cases = [\n",
    "    {\n",
    "        \"image\": [\n",
    "            path.join(TRAINING_DATASET_PATH, case, f\"{case}_t1ce.nii.gz\"),\n",
    "            path.join(TRAINING_DATASET_PATH, case, f\"{case}_t2.nii.gz\"),\n",
    "            path.join(TRAINING_DATASET_PATH, case, f\"{case}_flair.nii.gz\"),\n",
    "        ],\n",
    "        \"seg\": path.join(\n",
    "            TRAINING_DATASET_PATH, case, f\"{path.split(case)[-1]}_seg.nii.gz\"\n",
    "        ),\n",
    "    }\n",
    "    for case in train_cases\n",
    "]\n",
    "\n",
    "val_cases = [\n",
    "    {\n",
    "        \"image\": [\n",
    "            path.join(TRAINING_DATASET_PATH, case, f\"{case}_t1ce.nii.gz\"),\n",
    "            path.join(TRAINING_DATASET_PATH, case, f\"{case}_t2.nii.gz\"),\n",
    "            path.join(TRAINING_DATASET_PATH, case, f\"{case}_flair.nii.gz\"),\n",
    "        ],\n",
    "        \"seg\": path.join(\n",
    "            TRAINING_DATASET_PATH, case, f\"{path.split(case)[-1]}_seg.nii.gz\"\n",
    "        ),\n",
    "    }\n",
    "    for case in val_cases\n",
    "]\n",
    "\n",
    "test_cases = [\n",
    "    {\n",
    "        \"image\": [\n",
    "            path.join(TRAINING_DATASET_PATH, case, f\"{case}_t1ce.nii.gz\"),\n",
    "            path.join(TRAINING_DATASET_PATH, case, f\"{case}_t2.nii.gz\"),\n",
    "            path.join(TRAINING_DATASET_PATH, case, f\"{case}_flair.nii.gz\"),\n",
    "        ],\n",
    "        \"seg\": path.join(\n",
    "            TRAINING_DATASET_PATH, case, f\"{path.split(case)[-1]}_seg.nii.gz\"\n",
    "        ),\n",
    "    }\n",
    "    for case in test_cases\n",
    "]\n"
   ]
  },
  {
   "cell_type": "code",
   "execution_count": 5,
   "metadata": {},
   "outputs": [],
   "source": [
    "# One Hot Encoding for Tumor as 3 is skipped in the segmentation masks.\n",
    "class ConvertLabelsIntoOneHotd(MapTransform):\n",
    "    def __call__(self, data):\n",
    "        data_dict = dict(data)\n",
    "        for key in self.keys:\n",
    "            one_hot_encode_array = [\n",
    "                data_dict[key] == 1,  # Non Enhancing Tumor Core\n",
    "                data_dict[key] == 2,  # Edema Core\n",
    "                data_dict[key] == 4,  # Enhancing Tumor Core\n",
    "            ]\n",
    "            data_dict[key] = np.stack(one_hot_encode_array, axis=0).astype(np.float32)\n",
    "        return data_dict\n"
   ]
  },
  {
   "cell_type": "code",
   "execution_count": 6,
   "metadata": {},
   "outputs": [],
   "source": [
    "# Transform data such as from niftii into Tensors\n",
    "transform_training_dataset = Compose(\n",
    "    [\n",
    "        LoadImaged(keys=[\"image\", \"seg\"]),\n",
    "        EnsureChannelFirstd(keys=[\"image\"]),\n",
    "        EnsureTyped(keys=[\"image\", \"seg\"]),\n",
    "        ConvertLabelsIntoOneHotd(keys=\"seg\"),\n",
    "        # Orientationd(keys=[\"image\", \"seg\"], axcodes=\"RAS\"),\n",
    "        #! Causes misalignment on Mask\n",
    "        Spacingd(\n",
    "            keys=[\"image\", \"seg\"],\n",
    "            pixdim=(1.0, 1.0, 1.0),\n",
    "            mode=(\"bilinear\", \"nearest\"),\n",
    "        ),\n",
    "        NormalizeIntensityd(keys=\"image\", nonzero=True, channel_wise=True),\n",
    "        DivisiblePadd(keys=[\"image\", \"seg\"],k=16)\n",
    "    ]\n",
    ")\n",
    "\n",
    "# TODO: Declare transforms for Testing and Validation Datasets\n"
   ]
  },
  {
   "cell_type": "code",
   "execution_count": 18,
   "metadata": {},
   "outputs": [],
   "source": [
    "# Prepare the training Dataset with all transformations\n",
    "# Optional: Can replace Dataset Class with Cache Dataset\n",
    "dataset_training = Dataset(train_cases, transform_training_dataset)\n"
   ]
  },
  {
   "cell_type": "code",
   "execution_count": 19,
   "metadata": {},
   "outputs": [
    {
     "name": "stderr",
     "output_type": "stream",
     "text": [
      "c:\\Users\\ibrah\\miniconda3\\envs\\fyp\\lib\\site-packages\\monai\\transforms\\spatial\\array.py:571: UserWarning: `data_array` is not of type MetaTensor, assuming affine to be identity.\n",
      "  warnings.warn(\"`data_array` is not of type MetaTensor, assuming affine to be identity.\")\n"
     ]
    },
    {
     "name": "stdout",
     "output_type": "stream",
     "text": [
      "torch.Size([3, 240, 240, 160])\n",
      "torch.Size([3, 240, 240, 160])\n"
     ]
    }
   ],
   "source": [
    "print(dataset_training[0][\"image\"].shape)\n",
    "print(dataset_training[0][\"seg\"].shape)"
   ]
  },
  {
   "attachments": {},
   "cell_type": "markdown",
   "metadata": {},
   "source": [
    "Dataset Produced in the following format\n",
    "```\n",
    "[list of dictionaries]\n",
    "    - mri scan [\"image\"] -> [3,240,240,155] [Torch.Tensor]\n",
    "    - seg mask [\"seg] -> [3,240,240,155] [Torch.Tensor]\n",
    "```\n",
    "\n",
    "Where `[3,240,240,155]` refers to `[Channel,Dims..]`\n"
   ]
  },
  {
   "attachments": {},
   "cell_type": "markdown",
   "metadata": {},
   "source": [
    "## Visualising the Training Dataset"
   ]
  },
  {
   "cell_type": "code",
   "execution_count": 334,
   "metadata": {},
   "outputs": [
    {
     "data": {
      "text/plain": [
       "Text(0.5, 1.0, 'Enhancing')"
      ]
     },
     "execution_count": 334,
     "metadata": {},
     "output_type": "execute_result"
    },
    {
     "data": {
      "image/png": "[encoded data removed]",
      "text/plain": [
       "<Figure size 640x480 with 6 Axes>"
      ]
     },
     "metadata": {},
     "output_type": "display_data"
    }
   ],
   "source": [
    "# Visualising the Training Dataset per case\n",
    "\n",
    "#! Misalignment of Seg and Image Tensors when using Orientationd\n",
    "\n",
    "case = 3  # Refers to a folder in the training dataset such as \"./MICCAI_BraTS2020_TrainingData/BraTS20_Training_001/\"\n",
    "\n",
    "slice = 68  # Refers to a slice in the 3D Tensor. For visualisation one of the 3 axis must be limited\n",
    "\n",
    "to_plot_case = dataset_training[case]\n",
    "\n",
    "fig, ax = plt.subplots(2, 3, sharey=True, sharex=True)\n",
    "\n",
    "ax[0, 0].imshow(to_plot_case[\"image\"][0][:, :, slice], cmap=\"gray\")\n",
    "ax[0, 0].set_title(\"T1-CE\")\n",
    "\n",
    "ax[0, 1].imshow(to_plot_case[\"image\"][1][:, :, slice], cmap=\"gray\")\n",
    "ax[0, 1].set_title(\"T2\")\n",
    "\n",
    "ax[0, 2].imshow(to_plot_case[\"image\"][2][:, :, slice], cmap=\"gray\")\n",
    "ax[0, 2].set_title(\"T2-Flair\")\n",
    "\n",
    "\n",
    "ax[1, 0].imshow(to_plot_case[\"seg\"][0][:, :, slice])\n",
    "ax[1, 0].set_title(\"Non-Enhancing\")\n",
    "\n",
    "ax[1, 1].imshow(to_plot_case[\"seg\"][1][:, :, slice])\n",
    "ax[1, 1].set_title(\"Edema Core\")\n",
    "\n",
    "ax[1, 2].imshow(to_plot_case[\"seg\"][2][:, :, slice])\n",
    "ax[1, 2].set_title(\"Enhancing\")\n"
   ]
  },
  {
   "attachments": {},
   "cell_type": "markdown",
   "metadata": {
    "slideshow": {
     "slide_type": "notes"
    }
   },
   "source": [
    "# TODO\n",
    "- Data Preprocessing\n",
    "- ~~Choosing Data Loader -> Slice~~\n",
    "- Choosing Encoder\n",
    "- Choosing Decoder -> Append Encoder\n",
    "\n",
    "add more as you go"
   ]
  },
  {
   "cell_type": "code",
   "execution_count": null,
   "metadata": {},
   "outputs": [],
   "source": [
    "class Segmentation_Model(pl.LightningModule):\n",
    "    def __init__(self) -> None:\n",
    "        super().__init__()\n",
    "        self.batch_size = 1\n",
    "        self.num_workers = 2\n",
    "        self.learning_rate = 1e-4\n",
    "        # TODO: Define Models, Loss Functions and Metrics\n",
    "\n",
    "        # https://docs.monai.io/en/stable/networks.html#segresnet\n",
    "        self.model = SegResNet(\n",
    "            blocks_down=[1, 2, 2, 4],\n",
    "            blocks_up=[1, 1, 1],\n",
    "            init_filters=8,\n",
    "            in_channels=3,\n",
    "            out_channels=3,\n",
    "            dropout_prob=0.2,\n",
    "            spatial_dims=2\n",
    "        )\n",
    "\n",
    "        self.loss_function = DiceLoss(smooth_nr=0, smooth_dr=1e-5, squared_pred=True, to_onehot_y=False, sigmoid=True)\n",
    "\n",
    "        self.best_val_dice = 0\n",
    "        self.best_val_epoch = 0\n",
    "\n",
    "    # Data preparation\n",
    "    def prepare_data(self):\n",
    "        # Load the dataset once on model is instantiated\n",
    "        self.train_ds = Dataset(train_cases, transform_training_dataset)\n",
    "        # TODO: validation dataset transformations\n",
    "        self.val_ds = Dataset(val_cases, transform_training_dataset)\n",
    "\n",
    "    def train_dataloader(self):\n",
    "        return torch.utils.data.DataLoader(\n",
    "            self.train_ds,\n",
    "            shuffle=True,\n",
    "            batch_size=self.batch_size,\n",
    "        )\n",
    "\n",
    "    def val_dataloader(self):\n",
    "        return torch.utils.data.DataLoader(\n",
    "            self.val_ds,\n",
    "            shuffle=True,\n",
    "            batch_size=self.batch_size,\n",
    "            num_workers=self.num_workers,\n",
    "        )\n",
    "\n",
    "    # Training and Validation\n",
    "    def forward(self, x):\n",
    "        # return self.Model -> Forward Pass\n",
    "        return self.model(x)\n",
    "\n",
    "    def configure_optimizers(self):\n",
    "        return torch.optim.Adam(self.model.parameters(), lr=self.learning_rate)\n",
    "\n",
    "    def training_step(self, batch, batch_idx):\n",
    "        # image, seg = batch[\"image\"], batch[\"seg\"]\n",
    "        # output = self.forward(image)\n",
    "        # loss = self.loss_function(output, seg)\n",
    "        # tensorboard_logs = {\"train_loss\": loss.item()}\n",
    "        # return {\"loss\": loss, \"log\": tensorboard_logs}\n",
    "\n",
    "        \"\"\"\n",
    "        In the traning loop pass slice from the each 3d view\n",
    "        Ex:\n",
    "        for i in range (batch[\"image\"].size(4)):\n",
    "            pass each slice to model\n",
    "\n",
    "        follow models input standard -> [Batch, Channel, Dims]\n",
    "        \"\"\"\n",
    "\n",
    "        batch_loss = []\n",
    "\n",
    "        image, seg = batch[\"image\"], batch[\"seg\"]\n",
    "        for slice_idx in range(image.size(4)): \n",
    "            output = self.forward(image[:,:,:,:,slice_idx])\n",
    "            loss = self.loss_function(output,seg[:,:,:,:,slice_idx])\n",
    "\n",
    "        pass\n",
    "\n",
    "    def validation_step(self, batch, batch_idx):\n",
    "        # image, seg = batch[\"image\"], batch[\"seg\"]\n",
    "        # output = sliding_window_inference(\n",
    "        #     inputs=image,\n",
    "        #     roi_size=(240, 240, 160),\n",
    "        #     sw_batch_size=1,\n",
    "        #     predictor=self.forward,\n",
    "        #     overlap=0.5,\n",
    "        # )\n",
    "        # loss = self.loss_function(output, seg)\n",
    "        # output = [self.post_pred_image(i) for i in decollate_batch(output)]\n",
    "        # self.dice_metric(y_pred=output, y=seg)\n",
    "        # return {\"val_loss\": loss, \"val_number\": len(output)}\n",
    "        pass\n",
    "\n",
    "    def validation_epoch_end(self):\n",
    "        # val_loss, num_items = 0, 0\n",
    "        # for output in outputs:\n",
    "        #     val_loss += output[\"val_loss\"].sum().item()\n",
    "        #     num_items += output[\"val_number\"]\n",
    "\n",
    "        # mean_val_dice = self.dice_metric.aggregate().item()\n",
    "        # self.dice_metric.reset()\n",
    "        # mean_val_loss = torch.tensor(val_loss / num_items)\n",
    "\n",
    "        # tensorboard_logs = {\n",
    "        #     'val_dice': mean_val_dice,\n",
    "        #     'val_loss': mean_val_loss\n",
    "        # }\n",
    "        # if mean_val_dice > self.best_val_dice:\n",
    "        #     self.best_val_dice = mean_val_dice\n",
    "        #     self.best_val_epoch = self.current_epoch\n",
    "        # print(\n",
    "        #     f\"current epoch: {self.current_epoch} \"\n",
    "        #     f\"current mean dice: {mean_val_dice:.4f}\"\n",
    "        #     f\"\\nbest mean dice: {self.best_val_dice:.4f} \"\n",
    "        #     f\"at epoch: {self.best_val_epoch}\"\n",
    "        # )\n",
    "        # return {\"log\": tensorboard_logs}\n",
    "        pass\n"
   ]
  },
  {
   "cell_type": "code",
   "execution_count": 9,
   "metadata": {},
   "outputs": [
    {
     "name": "stderr",
     "output_type": "stream",
     "text": [
      "c:\\Users\\ibrah\\miniconda3\\envs\\fyp\\lib\\site-packages\\monai\\transforms\\spatial\\array.py:571: UserWarning: `data_array` is not of type MetaTensor, assuming affine to be identity.\n",
      "  warnings.warn(\"`data_array` is not of type MetaTensor, assuming affine to be identity.\")\n"
     ]
    }
   ],
   "source": [
    "#! Learning DataLoader\n",
    "test_forward = SegResNet(\n",
    "            blocks_down=[1, 2, 2, 4],\n",
    "            blocks_up=[1, 1, 1],\n",
    "            init_filters=8,\n",
    "            in_channels=3,\n",
    "            out_channels=3,\n",
    "            dropout_prob=0.2,\n",
    "            spatial_dims=2\n",
    "        )\n",
    "\n",
    "test_loss = DiceLoss(smooth_nr=0, smooth_dr=1e-5, squared_pred=True, to_onehot_y=False, softmax=True)\n",
    "\n",
    "loss_values = []\n",
    "for batch in temp_data_loader:\n",
    "    image, seg = batch[\"image\"], batch[\"seg\"]\n",
    "    for slice_idx in range(image.size(4)): \n",
    "        output = test_forward(image[:,:,:,:,slice_idx])\n",
    "        loss = test_loss(output,seg[:,:,:,:,slice_idx])\n",
    "        loss_values.append(loss)\n",
    "        break\n",
    "    \n",
    "    break"
   ]
  },
  {
   "attachments": {},
   "cell_type": "markdown",
   "metadata": {},
   "source": [
    "# Training and Validation of Model"
   ]
  },
  {
   "cell_type": "code",
   "execution_count": 7,
   "metadata": {},
   "outputs": [],
   "source": [
    "# Libraries for pure pytorch testing\n",
    "import time\n",
    "from tqdm import tqdm"
   ]
  },
  {
   "cell_type": "code",
   "execution_count": 10,
   "metadata": {},
   "outputs": [],
   "source": [
    "train_data_loader = DataLoader(\n",
    "    Dataset(train_cases[:100], transform_training_dataset),\n",
    "    shuffle=True,\n",
    "    batch_size=5,\n",
    ")\n",
    "\n",
    "#! transformation in validation dataset\n",
    "val_data_loader = DataLoader(\n",
    "    Dataset(val_cases[:5], transform_training_dataset),\n",
    "    shuffle=True,\n",
    "    batch_size=2,\n",
    ")\n",
    "\n",
    "\n"
   ]
  },
  {
   "cell_type": "code",
   "execution_count": 11,
   "metadata": {},
   "outputs": [
    {
     "name": "stdout",
     "output_type": "stream",
     "text": [
      "----------\n",
      "Epoch 1/10\n"
     ]
    },
    {
     "name": "stderr",
     "output_type": "stream",
     "text": [
      " 30%|███       | 6/20 [01:51<04:20, 18.63s/it]\n"
     ]
    },
    {
     "ename": "KeyboardInterrupt",
     "evalue": "",
     "output_type": "error",
     "traceback": [
      "\u001b[1;31m---------------------------------------------------------------------------\u001b[0m",
      "\u001b[1;31mKeyboardInterrupt\u001b[0m                         Traceback (most recent call last)",
      "Cell \u001b[1;32mIn[11], line 78\u001b[0m\n\u001b[0;32m     75\u001b[0m     outputs \u001b[39m=\u001b[39m model(inputs[:, :, :, :, slice_idx])\n\u001b[0;32m     76\u001b[0m     loss \u001b[39m=\u001b[39m loss_function(outputs, labels[:, :, :, :, slice_idx])\n\u001b[1;32m---> 78\u001b[0m scaler\u001b[39m.\u001b[39;49mscale(loss)\u001b[39m.\u001b[39;49mbackward()\n\u001b[0;32m     79\u001b[0m scaler\u001b[39m.\u001b[39mstep(optimizer)\n\u001b[0;32m     80\u001b[0m scaler\u001b[39m.\u001b[39mupdate()\n",
      "File \u001b[1;32mc:\\Users\\ibrah\\miniconda3\\envs\\fyp\\lib\\site-packages\\torch\\_tensor.py:479\u001b[0m, in \u001b[0;36mTensor.backward\u001b[1;34m(self, gradient, retain_graph, create_graph, inputs)\u001b[0m\n\u001b[0;32m    432\u001b[0m \u001b[39mr\u001b[39m\u001b[39m\"\"\"Computes the gradient of current tensor w.r.t. graph leaves.\u001b[39;00m\n\u001b[0;32m    433\u001b[0m \n\u001b[0;32m    434\u001b[0m \u001b[39mThe graph is differentiated using the chain rule. If the tensor is\u001b[39;00m\n\u001b[1;32m   (...)\u001b[0m\n\u001b[0;32m    476\u001b[0m \u001b[39m        used to compute the attr::tensors.\u001b[39;00m\n\u001b[0;32m    477\u001b[0m \u001b[39m\"\"\"\u001b[39;00m\n\u001b[0;32m    478\u001b[0m \u001b[39mif\u001b[39;00m has_torch_function_unary(\u001b[39mself\u001b[39m):\n\u001b[1;32m--> 479\u001b[0m     \u001b[39mreturn\u001b[39;00m handle_torch_function(\n\u001b[0;32m    480\u001b[0m         Tensor\u001b[39m.\u001b[39;49mbackward,\n\u001b[0;32m    481\u001b[0m         (\u001b[39mself\u001b[39;49m,),\n\u001b[0;32m    482\u001b[0m         \u001b[39mself\u001b[39;49m,\n\u001b[0;32m    483\u001b[0m         gradient\u001b[39m=\u001b[39;49mgradient,\n\u001b[0;32m    484\u001b[0m         retain_graph\u001b[39m=\u001b[39;49mretain_graph,\n\u001b[0;32m    485\u001b[0m         create_graph\u001b[39m=\u001b[39;49mcreate_graph,\n\u001b[0;32m    486\u001b[0m         inputs\u001b[39m=\u001b[39;49minputs,\n\u001b[0;32m    487\u001b[0m     )\n\u001b[0;32m    488\u001b[0m torch\u001b[39m.\u001b[39mautograd\u001b[39m.\u001b[39mbackward(\n\u001b[0;32m    489\u001b[0m     \u001b[39mself\u001b[39m, gradient, retain_graph, create_graph, inputs\u001b[39m=\u001b[39minputs\n\u001b[0;32m    490\u001b[0m )\n",
      "File \u001b[1;32mc:\\Users\\ibrah\\miniconda3\\envs\\fyp\\lib\\site-packages\\torch\\overrides.py:1534\u001b[0m, in \u001b[0;36mhandle_torch_function\u001b[1;34m(public_api, relevant_args, *args, **kwargs)\u001b[0m\n\u001b[0;32m   1528\u001b[0m     warnings\u001b[39m.\u001b[39mwarn(\u001b[39m\"\u001b[39m\u001b[39mDefining your `__torch_function__ as a plain method is deprecated and \u001b[39m\u001b[39m\"\u001b[39m\n\u001b[0;32m   1529\u001b[0m                   \u001b[39m\"\u001b[39m\u001b[39mwill be an error in future, please define it as a classmethod.\u001b[39m\u001b[39m\"\u001b[39m,\n\u001b[0;32m   1530\u001b[0m                   \u001b[39mDeprecationWarning\u001b[39;00m)\n\u001b[0;32m   1532\u001b[0m \u001b[39m# Use `public_api` instead of `implementation` so __torch_function__\u001b[39;00m\n\u001b[0;32m   1533\u001b[0m \u001b[39m# implementations can do equality/identity comparisons.\u001b[39;00m\n\u001b[1;32m-> 1534\u001b[0m result \u001b[39m=\u001b[39m torch_func_method(public_api, types, args, kwargs)\n\u001b[0;32m   1536\u001b[0m \u001b[39mif\u001b[39;00m result \u001b[39mis\u001b[39;00m \u001b[39mnot\u001b[39;00m \u001b[39mNotImplemented\u001b[39m:\n\u001b[0;32m   1537\u001b[0m     \u001b[39mreturn\u001b[39;00m result\n",
      "File \u001b[1;32mc:\\Users\\ibrah\\miniconda3\\envs\\fyp\\lib\\site-packages\\monai\\data\\meta_tensor.py:268\u001b[0m, in \u001b[0;36mMetaTensor.__torch_function__\u001b[1;34m(cls, func, types, args, kwargs)\u001b[0m\n\u001b[0;32m    266\u001b[0m \u001b[39mif\u001b[39;00m kwargs \u001b[39mis\u001b[39;00m \u001b[39mNone\u001b[39;00m:\n\u001b[0;32m    267\u001b[0m     kwargs \u001b[39m=\u001b[39m {}\n\u001b[1;32m--> 268\u001b[0m ret \u001b[39m=\u001b[39m \u001b[39msuper\u001b[39;49m()\u001b[39m.\u001b[39;49m__torch_function__(func, types, args, kwargs)\n\u001b[0;32m    269\u001b[0m \u001b[39m# if `out` has been used as argument, metadata is not copied, nothing to do.\u001b[39;00m\n\u001b[0;32m    270\u001b[0m \u001b[39m# if \"out\" in kwargs:\u001b[39;00m\n\u001b[0;32m    271\u001b[0m \u001b[39m#     return ret\u001b[39;00m\n\u001b[0;32m    272\u001b[0m \u001b[39mif\u001b[39;00m _not_requiring_metadata(ret):\n",
      "File \u001b[1;32mc:\\Users\\ibrah\\miniconda3\\envs\\fyp\\lib\\site-packages\\torch\\_tensor.py:1279\u001b[0m, in \u001b[0;36mTensor.__torch_function__\u001b[1;34m(cls, func, types, args, kwargs)\u001b[0m\n\u001b[0;32m   1276\u001b[0m     \u001b[39mreturn\u001b[39;00m \u001b[39mNotImplemented\u001b[39m\n\u001b[0;32m   1278\u001b[0m \u001b[39mwith\u001b[39;00m _C\u001b[39m.\u001b[39mDisableTorchFunction():\n\u001b[1;32m-> 1279\u001b[0m     ret \u001b[39m=\u001b[39m func(\u001b[39m*\u001b[39margs, \u001b[39m*\u001b[39m\u001b[39m*\u001b[39mkwargs)\n\u001b[0;32m   1280\u001b[0m     \u001b[39mif\u001b[39;00m func \u001b[39min\u001b[39;00m get_default_nowrap_functions():\n\u001b[0;32m   1281\u001b[0m         \u001b[39mreturn\u001b[39;00m ret\n",
      "File \u001b[1;32mc:\\Users\\ibrah\\miniconda3\\envs\\fyp\\lib\\site-packages\\torch\\_tensor.py:488\u001b[0m, in \u001b[0;36mTensor.backward\u001b[1;34m(self, gradient, retain_graph, create_graph, inputs)\u001b[0m\n\u001b[0;32m    478\u001b[0m \u001b[39mif\u001b[39;00m has_torch_function_unary(\u001b[39mself\u001b[39m):\n\u001b[0;32m    479\u001b[0m     \u001b[39mreturn\u001b[39;00m handle_torch_function(\n\u001b[0;32m    480\u001b[0m         Tensor\u001b[39m.\u001b[39mbackward,\n\u001b[0;32m    481\u001b[0m         (\u001b[39mself\u001b[39m,),\n\u001b[1;32m   (...)\u001b[0m\n\u001b[0;32m    486\u001b[0m         inputs\u001b[39m=\u001b[39minputs,\n\u001b[0;32m    487\u001b[0m     )\n\u001b[1;32m--> 488\u001b[0m torch\u001b[39m.\u001b[39;49mautograd\u001b[39m.\u001b[39;49mbackward(\n\u001b[0;32m    489\u001b[0m     \u001b[39mself\u001b[39;49m, gradient, retain_graph, create_graph, inputs\u001b[39m=\u001b[39;49minputs\n\u001b[0;32m    490\u001b[0m )\n",
      "File \u001b[1;32mc:\\Users\\ibrah\\miniconda3\\envs\\fyp\\lib\\site-packages\\torch\\autograd\\__init__.py:197\u001b[0m, in \u001b[0;36mbackward\u001b[1;34m(tensors, grad_tensors, retain_graph, create_graph, grad_variables, inputs)\u001b[0m\n\u001b[0;32m    192\u001b[0m     retain_graph \u001b[39m=\u001b[39m create_graph\n\u001b[0;32m    194\u001b[0m \u001b[39m# The reason we repeat same the comment below is that\u001b[39;00m\n\u001b[0;32m    195\u001b[0m \u001b[39m# some Python versions print out the first line of a multi-line function\u001b[39;00m\n\u001b[0;32m    196\u001b[0m \u001b[39m# calls in the traceback and some print out the last line\u001b[39;00m\n\u001b[1;32m--> 197\u001b[0m Variable\u001b[39m.\u001b[39;49m_execution_engine\u001b[39m.\u001b[39;49mrun_backward(  \u001b[39m# Calls into the C++ engine to run the backward pass\u001b[39;49;00m\n\u001b[0;32m    198\u001b[0m     tensors, grad_tensors_, retain_graph, create_graph, inputs,\n\u001b[0;32m    199\u001b[0m     allow_unreachable\u001b[39m=\u001b[39;49m\u001b[39mTrue\u001b[39;49;00m, accumulate_grad\u001b[39m=\u001b[39;49m\u001b[39mTrue\u001b[39;49;00m)\n",
      "\u001b[1;31mKeyboardInterrupt\u001b[0m: "
     ]
    }
   ],
   "source": [
    "#! Pure Pytorch Training Loop:\n",
    "# Ref: https://github.com/Project-MONAI/tutorials/blob/main/3d_segmentation/brats_segmentation_3d.ipynb\n",
    "# Ref: https://github.com/Project-MONAI/tutorials/blob/main/2d_segmentation/torch/unet_training_dict.py\n",
    "\n",
    "\n",
    "device = torch.device(\"cuda:0\")\n",
    "\n",
    "#! Update with proper values\n",
    "max_epochs = 10\n",
    "val_interval = 2\n",
    "\n",
    "# model = SegResNet(\n",
    "#     blocks_down=[1, 2, 2, 4],\n",
    "#     blocks_up=[1, 1, 1],\n",
    "#     init_filters=8,\n",
    "#     in_channels=3,\n",
    "#     out_channels=3,\n",
    "#     dropout_prob=0.2,\n",
    "#     spatial_dims=2,\n",
    "# ).to(device)\n",
    "\n",
    "model = UNet(\n",
    "    spatial_dims=2,\n",
    "    in_channels=3,\n",
    "    out_channels=3,\n",
    "    channels=(15, 30, 60, 120, 240),\n",
    "    strides=(2, 2, 2, 2),\n",
    "    num_res_units=2,\n",
    ").to(device)\n",
    "\n",
    "initial_lr = 1e-3\n",
    "\n",
    "optimizer = torch.optim.Adam(model.parameters(), initial_lr, weight_decay=1e-5)\n",
    "\n",
    "scaler = torch.cuda.amp.GradScaler()\n",
    "\n",
    "lr_scheduler = torch.optim.lr_scheduler.CosineAnnealingLR(\n",
    "    optimizer, T_max=max_epochs, eta_min=1e-4\n",
    ")\n",
    "\n",
    "loss_function = DiceLoss(\n",
    "    smooth_nr=0, smooth_dr=1e-5, squared_pred=True, to_onehot_y=False, sigmoid=True\n",
    ")\n",
    "\n",
    "best_metric = -1\n",
    "best_metric_epoch = -1\n",
    "best_metrics_epochs_and_time = [[], [], []]\n",
    "epoch_loss_values = []\n",
    "metric_values = []\n",
    "metric_values_tc = []\n",
    "metric_values_wt = []\n",
    "metric_values_et = []\n",
    "\n",
    "\n",
    "total_start = time.time()\n",
    "for epoch in range(max_epochs):\n",
    "    epoch_start = time.time()\n",
    "    print(\"-\" * 10)\n",
    "    print(f\"Epoch {epoch + 1}/{max_epochs}\")\n",
    "    model.train()\n",
    "    epoch_loss = 0\n",
    "    step = 0\n",
    "\n",
    "    for batch_data in tqdm(train_data_loader):\n",
    "\n",
    "        inputs, labels = (\n",
    "            batch_data[\"image\"].to(device),\n",
    "            batch_data[\"seg\"].to(device),\n",
    "        )\n",
    "\n",
    "        for slice_idx in range(inputs.size(4)):\n",
    "            optimizer.zero_grad()\n",
    "\n",
    "            with torch.cuda.amp.autocast():\n",
    "                outputs = model(inputs[:, :, :, :, slice_idx])\n",
    "                loss = loss_function(outputs, labels[:, :, :, :, slice_idx])\n",
    "\n",
    "            scaler.scale(loss).backward()\n",
    "            scaler.step(optimizer)\n",
    "            scaler.update()\n",
    "            epoch_loss += loss.item()\n",
    "            step += 1\n",
    "\n",
    "    # lr_scheduler.step()\n",
    "    epoch_loss /= step  # average epoch loss\n",
    "    epoch_loss_values.append(epoch_loss)\n",
    "    print(\n",
    "        f\"epoch {epoch + 1} average loss: {epoch_loss:.4f}\\n\"\n",
    "    )\n",
    "\n",
    "    \"\"\"\n",
    "    if (epoch + 1) % val_interval == 0:\n",
    "        print(f\"Validating Training at {(epoch + 1)} Epochs\")\n",
    "        model.eval()\n",
    "        with torch.no_grad():\n",
    "            for val_data in val_data_loader:\n",
    "                val_inputs, val_labels = (\n",
    "                    val_data[\"image\"].to(device),\n",
    "                    val_data[\"seg\"].to(device),\n",
    "                )\n",
    "\n",
    "                for slice_idx in range(val_inputs.size(4)):\n",
    "\n",
    "                    val_outputs = inference(val_inputs)\n",
    "                    val_outputs = [post_trans(i) for i in decollate_batch(val_outputs)]\n",
    "                    dice_metric(y_pred=val_outputs, y=val_labels)\n",
    "                    dice_metric_batch(y_pred=val_outputs, y=val_labels)\n",
    "\n",
    "            metric = dice_metric.aggregate().item()\n",
    "            metric_values.append(metric)\n",
    "            metric_batch = dice_metric_batch.aggregate()\n",
    "            metric_tc = metric_batch[0].item()\n",
    "            metric_values_tc.append(metric_tc)\n",
    "            metric_wt = metric_batch[1].item()\n",
    "            metric_values_wt.append(metric_wt)\n",
    "            metric_et = metric_batch[2].item()\n",
    "            metric_values_et.append(metric_et)\n",
    "            dice_metric.reset()\n",
    "            dice_metric_batch.reset()\n",
    "\n",
    "            if metric > best_metric:\n",
    "                best_metric = metric\n",
    "                best_metric_epoch = epoch + 1\n",
    "                best_metrics_epochs_and_time[0].append(best_metric)\n",
    "                best_metrics_epochs_and_time[1].append(best_metric_epoch)\n",
    "                best_metrics_epochs_and_time[2].append(time.time() - total_start)\n",
    "                torch.save(\n",
    "                    model.state_dict(),\n",
    "                    os.path.join(root_dir, \"best_metric_model.pth\"),\n",
    "                )\n",
    "                print(\"saved new best metric model\")\n",
    "            print(\n",
    "                f\"current epoch: {epoch + 1} current mean dice: {metric:.4f}\"\n",
    "                f\" tc: {metric_tc:.4f} wt: {metric_wt:.4f} et: {metric_et:.4f}\"\n",
    "                f\"\\nbest mean dice: {best_metric:.4f}\"\n",
    "                f\" at epoch: {best_metric_epoch}\"\n",
    "            )\n",
    "            \"\"\"\n"
   ]
  },
  {
   "cell_type": "code",
   "execution_count": 41,
   "metadata": {},
   "outputs": [
    {
     "name": "stderr",
     "output_type": "stream",
     "text": [
      "c:\\Users\\ibrah\\miniconda3\\envs\\fyp\\lib\\site-packages\\monai\\transforms\\spatial\\array.py:571: UserWarning: `data_array` is not of type MetaTensor, assuming affine to be identity.\n",
      "  warnings.warn(\"`data_array` is not of type MetaTensor, assuming affine to be identity.\")\n"
     ]
    },
    {
     "name": "stdout",
     "output_type": "stream",
     "text": [
      "torch.Size([5, 3, 240, 240, 160]) torch.Size([5, 3, 240, 240, 160])\n"
     ]
    }
   ],
   "source": [
    "model = UNet(\n",
    "    spatial_dims=2,\n",
    "    in_channels=3,\n",
    "    out_channels=3,\n",
    "    channels=(15, 30, 60, 120, 240),\n",
    "    strides=(2, 2, 2, 2),\n",
    "    num_res_units=2,\n",
    ").to(device)\n",
    "\n",
    "testing_train_data_loader = first(train_data_loader)\n",
    "print(testing_train_data_loader[\"image\"].shape,testing_train_data_loader[\"seg\"].shape)"
   ]
  },
  {
   "cell_type": "code",
   "execution_count": null,
   "metadata": {},
   "outputs": [],
   "source": [
    "for i in tqdm(range(testing_train_data_loader[\"image\"].size(4))):\n",
    "    x = model(testing_train_data_loader[\"image\"][:,:,:,:,i])\n",
    "print(x.shape)"
   ]
  },
  {
   "cell_type": "code",
   "execution_count": null,
   "metadata": {},
   "outputs": [],
   "source": []
  }
 ],
 "metadata": {
  "kernelspec": {
   "display_name": "fyp",
   "language": "python",
   "name": "python3"
  },
  "language_info": {
   "codemirror_mode": {
    "name": "ipython",
    "version": 3
   },
   "file_extension": ".py",
   "mimetype": "text/x-python",
   "name": "python",
   "nbconvert_exporter": "python",
   "pygments_lexer": "ipython3",
   "version": "3.9.15"
  },
  "orig_nbformat": 4,
  "vscode": {
   "interpreter": {
    "hash": "37bd13aa3d924eb96db98b00aa626978b2fce1020e2653180f4604a647daf9d4"
   }
  }
 },
 "nbformat": 4,
 "nbformat_minor": 2
}
