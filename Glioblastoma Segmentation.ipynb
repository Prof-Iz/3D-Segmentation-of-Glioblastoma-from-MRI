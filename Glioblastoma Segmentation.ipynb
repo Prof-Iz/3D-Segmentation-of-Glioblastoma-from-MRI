{
 "cells": [
  {
   "attachments": {},
   "cell_type": "markdown",
   "metadata": {},
   "source": [
    "# 3D Segmentation of Brain Tumor\n",
    "\n",
    "This document is to propose a 2D methodology instead of treating it as a 3D input.\n",
    "\n",
    "\n",
    "## Loading the Dataset\n",
    "The dataset used is the BraTS 2020 Dataset.\n",
    "\n",
    "The Dataset Contains the Following Scans per case:\n",
    "\n",
    "T1: T1-weighted, native image, sagittal or axial 2D acquisitions, with 1–6 mm slice thickness.\n",
    "\n",
    "T1c: T1-weighted, contrast-enhanced (Gadolinium) image, with 3D acquisition and 1 mm isotropic voxel size for most patients.\n",
    "\n",
    "T2: T2-weighted image, axial 2D acquisition, with 2–6 mm slice thickness.\n",
    "\n",
    "FLAIR: T2-weighted FLAIR image, axial, coronal, or sagittal 2D acquisitions, 2–6 mm slice thickness.\n",
    "\n",
    "So for training T1ce, T2 and FLAIR will be used."
   ]
  },
  {
   "attachments": {},
   "cell_type": "markdown",
   "metadata": {},
   "source": [
    "### Importing all dependencies"
   ]
  },
  {
   "cell_type": "code",
   "execution_count": 19,
   "metadata": {},
   "outputs": [
    {
     "name": "stderr",
     "output_type": "stream",
     "text": [
      "c:\\Users\\ibrah\\miniconda3\\envs\\fyp\\lib\\site-packages\\tqdm\\auto.py:22: TqdmWarning: IProgress not found. Please update jupyter and ipywidgets. See https://ipywidgets.readthedocs.io/en/stable/user_install.html\n",
      "  from .autonotebook import tqdm as notebook_tqdm\n"
     ]
    }
   ],
   "source": [
    "# Previewing the MRI Data\n",
    "# TODO: Collect all imports later and add notes next to them\n",
    "import csv\n",
    "import numpy as np\n",
    "import pandas as pd\n",
    "from datetime import datetime\n",
    "import matplotlib.pyplot as plt\n",
    "from os import path, listdir\n",
    "import os\n",
    "from monai.data import Dataset, list_data_collate, DataLoader, decollate_batch\n",
    "from monai.transforms import (\n",
    "    LoadImaged,\n",
    "    Compose,\n",
    "    MapTransform,\n",
    "    Orientationd,\n",
    "    EnsureTyped,\n",
    "    ToMetaTensord,  # ? same as ensuretyped?\n",
    "    EnsureChannelFirstd,\n",
    "    NormalizeIntensityd,\n",
    "    Spacingd,\n",
    "    DivisiblePadd,  # ? For UNet needs to be divisible by?\n",
    "    RandCropByPosNegLabeld,\n",
    "    RandFlipd,\n",
    "    RandScaleIntensityd,\n",
    "    RandShiftIntensityd,\n",
    "    Activations,\n",
    "    AsDiscrete,\n",
    ")\n",
    "\n",
    "from monai.networks.nets import SegResNet, UNet, UNETR\n",
    "from monai.losses import DiceLoss, DiceCELoss, DiceFocalLoss\n",
    "from monai.metrics import DiceMetric, MeanIoU, compute_meaniou\n",
    "from monai.inferers import sliding_window_inference\n",
    "\n",
    "from pytorch_lightning import seed_everything\n",
    "import torch\n",
    "from utilities.split_data import train_val_test_dataset\n",
    "\n",
    "from monai.utils.misc import first\n",
    "\n",
    "from tqdm import tqdm\n"
   ]
  },
  {
   "cell_type": "code",
   "execution_count": 20,
   "metadata": {},
   "outputs": [
    {
     "name": "stdout",
     "output_type": "stream",
     "text": [
      "2023-01-19 22:11:40,824 - Global seed set to 1607\n"
     ]
    },
    {
     "data": {
      "text/plain": [
       "1607"
      ]
     },
     "execution_count": 20,
     "metadata": {},
     "output_type": "execute_result"
    }
   ],
   "source": [
    "seed_everything(1607)"
   ]
  },
  {
   "cell_type": "code",
   "execution_count": 21,
   "metadata": {},
   "outputs": [],
   "source": [
    "import gc\n",
    "\n",
    "def clear_gpu_cache():\n",
    "    \"\"\"Clear the PyTorch GPU Allocation if an OOM error occurs.\n",
    "    \"\"\"\n",
    "\n",
    "    try:\n",
    "        print(\"Deleting Model\")\n",
    "        global model\n",
    "        del model\n",
    "    except NameError as e:\n",
    "        print(f\"Model Already Cleared\")\n",
    "\n",
    "    print(\"Collecting Garbage\")\n",
    "    gc.collect()\n",
    "    print(\"Clearing CUDA Cache\")\n",
    "    torch.cuda.empty_cache()\n",
    "    print(\"Done\")\n"
   ]
  },
  {
   "attachments": {},
   "cell_type": "markdown",
   "metadata": {},
   "source": [
    "## Preparing the Dataset\n",
    "\n",
    "As per [University of Pennsylvania](https://www.med.upenn.edu/cbica/brats2020/data.html):\n",
    "\n",
    "All BraTS multimodal scans are available as NIfTI files (.nii.gz) and describe a) native (T1) and b) post-contrast T1-weighted (T1Gd), c) T2-weighted (T2), and d) T2 Fluid Attenuated Inversion Recovery (T2-FLAIR) volumes, and were acquired with different clinical protocols and various scanners from multiple (n=19) institutions, mentioned as data contributors here.\n",
    "\n",
    "All the imaging datasets have been segmented manually, by one to four raters, following the same annotation protocol, and their annotations were approved by experienced neuro-radiologists. Annotations comprise the GD-enhancing tumor (ET — label 4), the peritumoral edema (ED — label 2), and the necrotic and non-enhancing tumor core (NCR/NET — label 1), as described both in the BraTS 2012-2013 TMI paper(opens in a new window) and in the latest BraTS summarizing paper. The provided data are distributed after their pre-processing, i.e., *co-registered to the same anatomical template*, interpolated to the *same resolution (1 mm^3)* and *skull-stripped*."
   ]
  },
  {
   "cell_type": "code",
   "execution_count": 22,
   "metadata": {},
   "outputs": [
    {
     "name": "stdout",
     "output_type": "stream",
     "text": [
      "\n",
      "    Total Samples = 369\n",
      "\n",
      "    Ratio of LGG:HGG in 295 Training Samples:\n",
      "    \t Ratio = 0.26\n",
      "\n",
      "\n",
      "    Ratio of LGG:HGG in 74 Validation Samples:\n",
      "    \t Ratio = 0.25\n",
      "\n",
      "    \n",
      "    \n"
     ]
    }
   ],
   "source": [
    "# Prepare list of All training Cases\n",
    "TRAINING_DATASET_PATH = r\"./MICCAI_BraTS2020_TrainingData\"\n",
    "NAME_MAPPING = r\"./MICCAI_BraTS2020_TrainingData/name_mapping.csv\"\n",
    "\n",
    "# Function returns names of cases to be used\n",
    "train_cases, val_cases = train_val_test_dataset(NAME_MAPPING)\n",
    "\n"
   ]
  },
  {
   "cell_type": "code",
   "execution_count": 23,
   "metadata": {},
   "outputs": [],
   "source": [
    "# prepare mapping to convert into PyTorch Dataset\n",
    "train_cases = [\n",
    "    {\n",
    "        \"image\": [\n",
    "            path.join(TRAINING_DATASET_PATH, case, f\"{case}_t1.nii.gz\"),\n",
    "            path.join(TRAINING_DATASET_PATH, case, f\"{case}_t1ce.nii.gz\"),\n",
    "            path.join(TRAINING_DATASET_PATH, case, f\"{case}_t2.nii.gz\"),\n",
    "            path.join(TRAINING_DATASET_PATH, case, f\"{case}_flair.nii.gz\"),\n",
    "        ],\n",
    "        \"seg\": path.join(\n",
    "            TRAINING_DATASET_PATH, case, f\"{case}_seg.nii.gz\"\n",
    "        ),\n",
    "    }\n",
    "    for case in train_cases\n",
    "]\n",
    "\n",
    "val_cases = [\n",
    "    {\n",
    "        \"image\": [\n",
    "            path.join(TRAINING_DATASET_PATH, case, f\"{case}_t1.nii.gz\"),\n",
    "            path.join(TRAINING_DATASET_PATH, case, f\"{case}_t1ce.nii.gz\"),\n",
    "            path.join(TRAINING_DATASET_PATH, case, f\"{case}_t2.nii.gz\"),\n",
    "            path.join(TRAINING_DATASET_PATH, case, f\"{case}_flair.nii.gz\"),\n",
    "        ],\n",
    "        \"seg\": path.join(\n",
    "            TRAINING_DATASET_PATH, case, f\"{case}_seg.nii.gz\"\n",
    "        ),\n",
    "    }\n",
    "    for case in val_cases\n",
    "]\n"
   ]
  },
  {
   "cell_type": "code",
   "execution_count": 24,
   "metadata": {},
   "outputs": [],
   "source": [
    "class ConvertLabelsIntoOneHotd(MapTransform):\n",
    "    \"\"\"Takes input tensor of segmentation which contains\n",
    "    values in set (0,1,2,4) where\\n\n",
    "    0 -> Background/Normal\\n\n",
    "    1 -> Non- Enhancing Tumor Core\\n\n",
    "    2 -> Edema\\n\n",
    "    4 -> Enhancing tumor core\\n\n",
    "\n",
    "    and returns a one hot encoded 3 channel tensor where\n",
    "    1st Channel -> Whole tumor (1,2 and 4)\n",
    "    2nd Channel -> Tumor Core (1 and 4)\n",
    "    3rd Channel -> Enhancing Tumor core (4)\n",
    "    \"\"\"\n",
    "    def __call__(self, data):\n",
    "        data_dict = dict(data)\n",
    "        for key in self.keys:\n",
    "            one_hot_encode_array = [\n",
    "                torch.logical_or(\n",
    "                    torch.logical_or(data_dict[key] == 1, data_dict[key] == 2),\n",
    "                    data_dict[key] == 4,\n",
    "                ), # Whole Tumor\n",
    "                torch.logical_or(data_dict[key] == 1, data_dict[key] == 4), # Tumor Core\n",
    "                data_dict[key] == 4, # Enhancing Core\n",
    "            ]\n",
    "            data_dict[key] = torch.stack(one_hot_encode_array, axis=0).astype(torch.float32)\n",
    "        return data_dict\n"
   ]
  },
  {
   "cell_type": "code",
   "execution_count": 25,
   "metadata": {},
   "outputs": [],
   "source": [
    "# Transform data such as from niftii into Tensors\n",
    "transform_training_dataset = Compose(\n",
    "    [\n",
    "        LoadImaged(keys=[\"image\", \"seg\"]),\n",
    "        EnsureChannelFirstd(keys=[\"image\"]),\n",
    "        ConvertLabelsIntoOneHotd(keys=\"seg\"),\n",
    "        ToMetaTensord(keys=[\"image\", \"seg\"]),\n",
    "        Orientationd(keys=[\"image\", \"seg\"], axcodes=\"RAS\"),\n",
    "        # Spacingd(\n",
    "        #     keys=[\"image\", \"seg\"],\n",
    "        #     pixdim=(1.0, 1.0, 1.0),\n",
    "        #     mode=(\"bilinear\", \"nearest\"),\n",
    "        # ),\n",
    "        #! Training Dataset Already set to Pixel Dimension of 1mm^3\n",
    "        NormalizeIntensityd(keys=\"image\", nonzero=True, channel_wise=True),\n",
    "        RandCropByPosNegLabeld(\n",
    "            keys=[\"image\", \"seg\"],\n",
    "            spatial_size=(96, 96, 96),\n",
    "            label_key=\"seg\",\n",
    "            neg=0,\n",
    "            num_samples=3,\n",
    "        ),\n",
    "        RandFlipd(keys=[\"image\", \"seg\"], prob=0.5, spatial_axis=0),\n",
    "        RandFlipd(keys=[\"image\", \"seg\"], prob=0.5, spatial_axis=1),\n",
    "        RandFlipd(keys=[\"image\", \"seg\"], prob=0.5, spatial_axis=2),\n",
    "        RandScaleIntensityd(keys=\"image\", factors=0.1, prob=1.0),\n",
    "        RandShiftIntensityd(keys=\"image\", offsets=0.1, prob=1.0),\n",
    "    ]\n",
    ")\n",
    "\n",
    "transform_validation_dataset = Compose(\n",
    "    [\n",
    "        LoadImaged(keys=[\"image\", \"seg\"]),\n",
    "        EnsureChannelFirstd(keys=[\"image\"]),\n",
    "        ConvertLabelsIntoOneHotd(keys=\"seg\"),\n",
    "        ToMetaTensord(keys=[\"image\", \"seg\"]),\n",
    "        Orientationd(keys=[\"image\", \"seg\"], axcodes=\"RAS\"),\n",
    "        # Spacingd(\n",
    "        #     keys=[\"image\", \"seg\"],\n",
    "        #     pixdim=(1.0, 1.0, 1.0),\n",
    "        #     mode=(\"bilinear\", \"nearest\"),\n",
    "        # ),\n",
    "        #! Training Dataset Already set to Pixel Dimension of 1mm^3\n",
    "        NormalizeIntensityd(keys=\"image\", nonzero=True, channel_wise=True),\n",
    "    ]\n",
    ")\n"
   ]
  },
  {
   "cell_type": "code",
   "execution_count": 19,
   "metadata": {},
   "outputs": [],
   "source": [
    "# Prepare the training Dataset with all transformations\n",
    "#? Optional: Can replace Dataset Class with Cache Dataset\n",
    "dataset_training = Dataset(train_cases, transform_training_dataset)\n"
   ]
  },
  {
   "attachments": {},
   "cell_type": "markdown",
   "metadata": {},
   "source": [
    "Dataset Produced in the following format\n",
    "```\n",
    "[list of patient][list of dictionary: samples from a patient] -> [0][0] for first patient first sample\n",
    "    - mri scan [\"image\"] -> [4,96,96,96] [Torch.Tensor]\n",
    "    - seg mask [\"seg] -> [4,96,96,96] [Torch.Tensor]\n",
    "    For T1-CE, FLAIR and T2\n",
    "```\n",
    "\n",
    "Where `[4,96,96,96]` refers to `[Channel,Dims..]`\n"
   ]
  },
  {
   "attachments": {},
   "cell_type": "markdown",
   "metadata": {},
   "source": [
    "## Visualising the Training Dataset"
   ]
  },
  {
   "cell_type": "code",
   "execution_count": 20,
   "metadata": {},
   "outputs": [
    {
     "data": {
      "text/plain": [
       "Text(0.5, 1.0, 'GD-enhancing tumor')"
      ]
     },
     "execution_count": 20,
     "metadata": {},
     "output_type": "execute_result"
    },
    {
     "data": {
      "image/png": "[encoded data removed]",
      "text/plain": [
       "<Figure size 640x480 with 6 Axes>"
      ]
     },
     "metadata": {},
     "output_type": "display_data"
    }
   ],
   "source": [
    "# Visualising the Training Dataset per case\n",
    "\n",
    "#! Misalignment of Seg and Image Tensors when using Orientationd\n",
    "\n",
    "patient = 45 # Refers to a folder in the training dataset such as \"./MICCAI_BraTS2020_TrainingData/BraTS20_Training_001/\"\n",
    "\n",
    "slice = 40 # Refers to a slice in the 3D Tensor. For visualisation one of the 3 axis must be limited\n",
    "\n",
    "sample = 0 # multiple random samples are taken per patient\n",
    "\n",
    "to_plot_case = dataset_training[patient][sample]\n",
    "\n",
    "\n",
    "fig, ax = plt.subplots(2, 3, sharey=True, sharex=True)\n",
    "\n",
    "ax[0, 0].imshow(to_plot_case[\"image\"][3][:, :, slice], cmap=\"gray\",interpolation = 'antialiased')\n",
    "ax[0, 0].set_title(\"FLAIR\")\n",
    "\n",
    "ax[0, 1].imshow(to_plot_case[\"image\"][1][:, :, slice], cmap=\"gray\",interpolation = 'antialiased')\n",
    "ax[0, 1].set_title(\"T1-CE\")\n",
    "\n",
    "ax[0, 2].imshow(to_plot_case[\"image\"][2][:, :, slice], cmap=\"gray\",interpolation = 'antialiased')\n",
    "ax[0, 2].set_title(\"T2\")\n",
    "\n",
    "\n",
    "ax[1, 0].imshow(to_plot_case[\"seg\"][0][:, :, slice])\n",
    "ax[1, 0].set_title(\"Whole Tumor\")\n",
    "\n",
    "ax[1, 1].imshow(to_plot_case[\"seg\"][1][:, :, slice])\n",
    "ax[1, 1].set_title(\"Tumor Core\")\n",
    "\n",
    "ax[1, 2].imshow(to_plot_case[\"seg\"][2][:, :, slice])\n",
    "ax[1, 2].set_title(\"GD-enhancing tumor\")\n"
   ]
  },
  {
   "cell_type": "code",
   "execution_count": 21,
   "metadata": {},
   "outputs": [],
   "source": [
    "del(dataset_training)"
   ]
  },
  {
   "attachments": {},
   "cell_type": "markdown",
   "metadata": {},
   "source": [
    "# Training and Validation of Model"
   ]
  },
  {
   "attachments": {},
   "cell_type": "markdown",
   "metadata": {},
   "source": [
    "### Preparing the Data Loaders"
   ]
  },
  {
   "cell_type": "code",
   "execution_count": 26,
   "metadata": {},
   "outputs": [],
   "source": [
    "train_data_loader = DataLoader(\n",
    "    Dataset(train_cases, transform_training_dataset),\n",
    "    shuffle=True,\n",
    "    batch_size=3,\n",
    "    \n",
    ")\n",
    "\n",
    "#! transformation in validation dataset\n",
    "val_data_loader = DataLoader(\n",
    "    Dataset(val_cases, transform_validation_dataset),\n",
    "    shuffle=False,\n",
    "    batch_size=1,\n",
    ")\n"
   ]
  },
  {
   "attachments": {},
   "cell_type": "markdown",
   "metadata": {},
   "source": [
    "### Initialising the Model and Other Parameters"
   ]
  },
  {
   "cell_type": "code",
   "execution_count": 27,
   "metadata": {},
   "outputs": [
    {
     "name": "stdout",
     "output_type": "stream",
     "text": [
      "Deleting Model\n",
      "Model Already Cleared\n",
      "Collecting Garbage\n",
      "Clearing CUDA Cache\n",
      "Done\n",
      "Training will be done on cuda:0\n"
     ]
    }
   ],
   "source": [
    "#! Pure Pytorch Training Loop:\n",
    "# Ref: https://github.com/Project-MONAI/tutorials/blob/main/3d_segmentation/brats_segmentation_3d.ipynb\n",
    "# Ref: https://github.com/Project-MONAI/tutorials/blob/main/2d_segmentation/torch/unet_training_dict.py\n",
    "\n",
    "clear_gpu_cache()\n",
    "\n",
    "device = torch.device(\"cuda:0\") if torch.cuda.is_available() else \"cpu\"\n",
    "print(f\"Training will be done on {device}\")\n",
    "\n",
    "#! Update with proper values\n",
    "max_epochs = 100\n",
    "val_interval = 2\n",
    "\n",
    "model = UNet(\n",
    "    spatial_dims=3,\n",
    "    in_channels=4,\n",
    "    out_channels=3,\n",
    "    strides=(2, 2, 2),\n",
    "    channels=(12, 24, 48, 96),\n",
    "    num_res_units=0\n",
    ").to(device)\n",
    "\n",
    "\n",
    "\n",
    "\n",
    "initial_lr = 1e-7\n",
    "\n",
    "optimizer = torch.optim.Adam(model.parameters(), initial_lr, weight_decay=1e-5)\n",
    "# optimizer = torch.optim.SGD(model.parameters(), initial_lr)\n",
    "\n",
    "scaler = torch.cuda.amp.GradScaler()\n",
    "\n",
    "# lr_scheduler = torch.optim.lr_scheduler.CosineAnnealingLR(\n",
    "#     optimizer, T_max=max_epochs, eta_min=1e-8, verbose=True\n",
    "# )\n",
    "\n",
    "lr_scheduler = torch.optim.lr_scheduler.CyclicLR(\n",
    "    optimizer=optimizer, base_lr=1e-7, mode=\"triangular2\", max_lr=1e-3, cycle_momentum=False, step_size_up=10, gamma=0.1\n",
    ")\n",
    "# lr_scheduler = torch.optim.lr_scheduler.ReduceLROnPlateau(\n",
    "#     optimizer=optimizer,\n",
    "#     mode='max',\n",
    "#     patience=5,\n",
    "#     verbose=True,\n",
    "#     threshold=0.01\n",
    "# )\n",
    "\n",
    "\n",
    "\n",
    "loss_function = DiceCELoss(sigmoid=True, squared_pred=True)\n",
    "\n",
    "# loss_function = DiceFocalLoss(sigmoid=True,squared_pred=True,gamma=2)\n",
    "\n",
    "# ? Check inferer parameters and tweak\n",
    "def inference(input):\n",
    "    \"\"\"Do Sliding Window Inference on input tensor\n",
    "    To avoid OOM Error, Input Model done on CPU.\n",
    "    Patch taken from input and its inference done on GPU\n",
    "    to speed up inference time.\n",
    "\n",
    "    Args:\n",
    "        input: Full input to pass in the model. For the case\n",
    "        of this project size => (3,240,240,155)\n",
    "    \"\"\"\n",
    "\n",
    "    def _compute(input):\n",
    "        return sliding_window_inference(\n",
    "            inputs=input.to(\"cpu\"),\n",
    "            roi_size=(96, 96, 96),\n",
    "            sw_batch_size=1,\n",
    "            predictor=model,\n",
    "            overlap=0.5,\n",
    "            padding_mode=\"constant\",\n",
    "            sw_device=\"cuda:0\",\n",
    "            device=\"cpu\",\n",
    "        )\n",
    "\n",
    "    with torch.cuda.amp.autocast():\n",
    "        return _compute(input)\n",
    "\n",
    "\n",
    "post_processing_validation = Compose(\n",
    "    [Activations(sigmoid=True), AsDiscrete(threshold=0.5)]\n",
    ")\n",
    "\n",
    "dice_metric = DiceMetric(include_background=True, reduction=\"mean\")\n"
   ]
  },
  {
   "attachments": {},
   "cell_type": "markdown",
   "metadata": {},
   "source": [
    "### Prepare Folders to Store Model / Load from saved Checkpoint"
   ]
  },
  {
   "cell_type": "code",
   "execution_count": 28,
   "metadata": {},
   "outputs": [
    {
     "name": "stdout",
     "output_type": "stream",
     "text": [
      "[Errno 2] No such file or directory: './checkpoint/UNET-DICE-NO_RES-CYCLIC_2023-01-19/model_check_point.pth'\n",
      "[Errno 2] No such file or directory: './checkpoint/UNET-DICE-NO_RES-CYCLIC_2023-01-19/training_log.pth'\n"
     ]
    }
   ],
   "source": [
    "# ! Set name to False if not loading\n",
    "NAME_EXPERIMENT = \"UNET-DICE-NO_RES-CYCLIC\"\n",
    "# example UNET-2RES-FOCAL_LOSS\n",
    "\n",
    "\n",
    "training_time = datetime.date(datetime.now()).__str__()\n",
    "\n",
    "TRAINING_LOG_FILE = f\"./checkpoint/{NAME_EXPERIMENT}_{training_time}/training_log.pth\"\n",
    "TRAINING_WEIGHTS_FILE = f\"./checkpoint/{NAME_EXPERIMENT}_{training_time}/model_check_point.pth\"\n",
    "\n",
    "try:\n",
    "    if not os.path.exists(f\"./checkpoint/{NAME_EXPERIMENT}_{training_time}\"):\n",
    "        os.makedirs(f\"./checkpoint/{NAME_EXPERIMENT}_{training_time}\")\n",
    "except Exception as e:\n",
    "    pass\n",
    "\n",
    "\n",
    "try:\n",
    "    checkpoint = torch.load(TRAINING_WEIGHTS_FILE)\n",
    "\n",
    "    # load the weights into the model, if the architecture has changed this will not work\n",
    "    model.load_state_dict(checkpoint[\"model_state_dict\"])\n",
    "\n",
    "    # load the state of the optimiser, if the optimiser has changed this will not work\n",
    "    optimizer.load_state_dict(checkpoint[\"optimiser_state_dict\"])\n",
    "\n",
    "    # load the state of the loss_function class if exists\n",
    "    loss_function.load_state_dict(checkpoint[\"loss_function_state_dict\"])\n",
    "except Exception as e:\n",
    "    checkpoint = {}\n",
    "    print(e)\n",
    "\n",
    "\n",
    "try:\n",
    "    log = torch.load(TRAINING_LOG_FILE)\n",
    "\n",
    "except Exception as e:\n",
    "    log = {}\n",
    "    print(e)\n",
    "\n",
    "\n",
    "epoch_continue = log.get(\"epoch\", 0)\n",
    "epoch_loss_values = log.get(\"loss_per_epoch\", [])\n",
    "metric_values = log.get(\"dice_metric_per_epoch\", [])\n",
    "best_metric = checkpoint.get(\"best_metric\", -1)\n",
    "best_metric_epoch = checkpoint.get(\"best_metric_epoch\", 0)\n"
   ]
  },
  {
   "cell_type": "code",
   "execution_count": 29,
   "metadata": {},
   "outputs": [
    {
     "name": "stdout",
     "output_type": "stream",
     "text": [
      "Beginning in Training in Folder UNET-DICE-NO_RES-CYCLIC_2023-01-19\n",
      "Log Stored in UNET-DICE-NO_RES-CYCLIC_2023-01-19/training_log.pth\n",
      "Model with best Metric stored in UNET-DICE-NO_RES-CYCLIC_2023-01-19/model_check_point.pth\n",
      "----------\n",
      "Epoch 1/100\n"
     ]
    },
    {
     "name": "stderr",
     "output_type": "stream",
     "text": [
      "100%|██████████| 99/99 [05:39<00:00,  3.43s/it]\n"
     ]
    },
    {
     "name": "stdout",
     "output_type": "stream",
     "text": [
      "epoch 1 average loss: 1.0479\n",
      "\n",
      "----------\n",
      "Epoch 2/100\n"
     ]
    },
    {
     "name": "stderr",
     "output_type": "stream",
     "text": [
      "100%|██████████| 99/99 [05:12<00:00,  3.16s/it]\n"
     ]
    },
    {
     "name": "stdout",
     "output_type": "stream",
     "text": [
      "epoch 2 average loss: 0.9841\n",
      "\n",
      "Validating Training at 2 Epochs\n"
     ]
    },
    {
     "name": "stderr",
     "output_type": "stream",
     "text": [
      "100%|██████████| 74/74 [07:01<00:00,  5.69s/it]\n"
     ]
    },
    {
     "name": "stdout",
     "output_type": "stream",
     "text": [
      "Learning Rate = 0.00020008000000000019\n",
      "saved new best metric model\n",
      "current epoch: 2 current mean dice: 0.0377\n",
      "best mean dice: 0.0377 at epoch: 2\n",
      "----------\n",
      "Epoch 3/100\n"
     ]
    },
    {
     "name": "stderr",
     "output_type": "stream",
     "text": [
      "100%|██████████| 99/99 [05:13<00:00,  3.17s/it]\n"
     ]
    },
    {
     "name": "stdout",
     "output_type": "stream",
     "text": [
      "epoch 3 average loss: 0.8938\n",
      "\n",
      "----------\n",
      "Epoch 4/100\n"
     ]
    },
    {
     "name": "stderr",
     "output_type": "stream",
     "text": [
      "100%|██████████| 99/99 [05:04<00:00,  3.08s/it]\n"
     ]
    },
    {
     "name": "stdout",
     "output_type": "stream",
     "text": [
      "epoch 4 average loss: 0.8257\n",
      "\n",
      "Validating Training at 4 Epochs\n"
     ]
    },
    {
     "name": "stderr",
     "output_type": "stream",
     "text": [
      "100%|██████████| 74/74 [06:48<00:00,  5.52s/it]\n"
     ]
    },
    {
     "name": "stdout",
     "output_type": "stream",
     "text": [
      "Learning Rate = 0.0004000599999999999\n",
      "saved new best metric model\n",
      "current epoch: 4 current mean dice: 0.1454\n",
      "best mean dice: 0.1454 at epoch: 4\n",
      "----------\n",
      "Epoch 5/100\n"
     ]
    },
    {
     "name": "stderr",
     "output_type": "stream",
     "text": [
      "100%|██████████| 99/99 [05:07<00:00,  3.10s/it]\n"
     ]
    },
    {
     "name": "stdout",
     "output_type": "stream",
     "text": [
      "epoch 5 average loss: 0.7515\n",
      "\n",
      "----------\n",
      "Epoch 6/100\n"
     ]
    },
    {
     "name": "stderr",
     "output_type": "stream",
     "text": [
      "100%|██████████| 99/99 [05:12<00:00,  3.15s/it]\n"
     ]
    },
    {
     "name": "stdout",
     "output_type": "stream",
     "text": [
      "epoch 6 average loss: 0.6560\n",
      "\n",
      "Validating Training at 6 Epochs\n"
     ]
    },
    {
     "name": "stderr",
     "output_type": "stream",
     "text": [
      "100%|██████████| 74/74 [06:55<00:00,  5.61s/it]\n"
     ]
    },
    {
     "name": "stdout",
     "output_type": "stream",
     "text": [
      "Learning Rate = 0.00060004\n",
      "saved new best metric model\n",
      "current epoch: 6 current mean dice: 0.3700\n",
      "best mean dice: 0.3700 at epoch: 6\n",
      "----------\n",
      "Epoch 7/100\n"
     ]
    },
    {
     "name": "stderr",
     "output_type": "stream",
     "text": [
      "100%|██████████| 99/99 [05:05<00:00,  3.09s/it]\n"
     ]
    },
    {
     "name": "stdout",
     "output_type": "stream",
     "text": [
      "epoch 7 average loss: 0.5441\n",
      "\n",
      "----------\n",
      "Epoch 8/100\n"
     ]
    },
    {
     "name": "stderr",
     "output_type": "stream",
     "text": [
      "100%|██████████| 99/99 [05:05<00:00,  3.09s/it]\n"
     ]
    },
    {
     "name": "stdout",
     "output_type": "stream",
     "text": [
      "epoch 8 average loss: 0.4619\n",
      "\n",
      "Validating Training at 8 Epochs\n"
     ]
    },
    {
     "name": "stderr",
     "output_type": "stream",
     "text": [
      "100%|██████████| 74/74 [06:47<00:00,  5.51s/it]\n"
     ]
    },
    {
     "name": "stdout",
     "output_type": "stream",
     "text": [
      "Learning Rate = 0.0008000199999999997\n",
      "saved new best metric model\n",
      "current epoch: 8 current mean dice: 0.5936\n",
      "best mean dice: 0.5936 at epoch: 8\n",
      "----------\n",
      "Epoch 9/100\n"
     ]
    },
    {
     "name": "stderr",
     "output_type": "stream",
     "text": [
      "100%|██████████| 99/99 [05:12<00:00,  3.15s/it]\n"
     ]
    },
    {
     "name": "stdout",
     "output_type": "stream",
     "text": [
      "epoch 9 average loss: 0.4226\n",
      "\n",
      "----------\n",
      "Epoch 10/100\n"
     ]
    },
    {
     "name": "stderr",
     "output_type": "stream",
     "text": [
      "100%|██████████| 99/99 [05:06<00:00,  3.09s/it]\n"
     ]
    },
    {
     "name": "stdout",
     "output_type": "stream",
     "text": [
      "epoch 10 average loss: 0.3917\n",
      "\n",
      "Validating Training at 10 Epochs\n"
     ]
    },
    {
     "name": "stderr",
     "output_type": "stream",
     "text": [
      "100%|██████████| 74/74 [06:47<00:00,  5.51s/it]\n"
     ]
    },
    {
     "name": "stdout",
     "output_type": "stream",
     "text": [
      "Learning Rate = 0.001\n",
      "saved new best metric model\n",
      "current epoch: 10 current mean dice: 0.6331\n",
      "best mean dice: 0.6331 at epoch: 10\n",
      "----------\n",
      "Epoch 11/100\n"
     ]
    },
    {
     "name": "stderr",
     "output_type": "stream",
     "text": [
      "100%|██████████| 99/99 [05:05<00:00,  3.09s/it]\n"
     ]
    },
    {
     "name": "stdout",
     "output_type": "stream",
     "text": [
      "epoch 11 average loss: 0.3749\n",
      "\n",
      "----------\n",
      "Epoch 12/100\n"
     ]
    },
    {
     "name": "stderr",
     "output_type": "stream",
     "text": [
      "100%|██████████| 99/99 [05:03<00:00,  3.07s/it]\n"
     ]
    },
    {
     "name": "stdout",
     "output_type": "stream",
     "text": [
      "epoch 12 average loss: 0.3634\n",
      "\n",
      "Validating Training at 12 Epochs\n"
     ]
    },
    {
     "name": "stderr",
     "output_type": "stream",
     "text": [
      "100%|██████████| 74/74 [06:47<00:00,  5.50s/it]\n"
     ]
    },
    {
     "name": "stdout",
     "output_type": "stream",
     "text": [
      "Learning Rate = 0.0008000199999999997\n",
      "saved new best metric model\n",
      "current epoch: 12 current mean dice: 0.6901\n",
      "best mean dice: 0.6901 at epoch: 12\n",
      "----------\n",
      "Epoch 13/100\n"
     ]
    },
    {
     "name": "stderr",
     "output_type": "stream",
     "text": [
      "100%|██████████| 99/99 [05:06<00:00,  3.09s/it]\n"
     ]
    },
    {
     "name": "stdout",
     "output_type": "stream",
     "text": [
      "epoch 13 average loss: 0.3467\n",
      "\n",
      "----------\n",
      "Epoch 14/100\n"
     ]
    },
    {
     "name": "stderr",
     "output_type": "stream",
     "text": [
      "100%|██████████| 99/99 [05:12<00:00,  3.15s/it]\n"
     ]
    },
    {
     "name": "stdout",
     "output_type": "stream",
     "text": [
      "epoch 14 average loss: 0.3397\n",
      "\n",
      "Validating Training at 14 Epochs\n"
     ]
    },
    {
     "name": "stderr",
     "output_type": "stream",
     "text": [
      "100%|██████████| 74/74 [06:56<00:00,  5.63s/it]\n"
     ]
    },
    {
     "name": "stdout",
     "output_type": "stream",
     "text": [
      "Learning Rate = 0.00060004\n",
      "saved new best metric model\n",
      "current epoch: 14 current mean dice: 0.6944\n",
      "best mean dice: 0.6944 at epoch: 14\n",
      "----------\n",
      "Epoch 15/100\n"
     ]
    },
    {
     "name": "stderr",
     "output_type": "stream",
     "text": [
      "100%|██████████| 99/99 [05:02<00:00,  3.06s/it]\n"
     ]
    },
    {
     "name": "stdout",
     "output_type": "stream",
     "text": [
      "epoch 15 average loss: 0.3327\n",
      "\n",
      "----------\n",
      "Epoch 16/100\n"
     ]
    },
    {
     "name": "stderr",
     "output_type": "stream",
     "text": [
      "100%|██████████| 99/99 [05:04<00:00,  3.07s/it]\n"
     ]
    },
    {
     "name": "stdout",
     "output_type": "stream",
     "text": [
      "epoch 16 average loss: 0.3274\n",
      "\n",
      "Validating Training at 16 Epochs\n"
     ]
    },
    {
     "name": "stderr",
     "output_type": "stream",
     "text": [
      "100%|██████████| 74/74 [06:48<00:00,  5.52s/it]\n"
     ]
    },
    {
     "name": "stdout",
     "output_type": "stream",
     "text": [
      "Learning Rate = 0.0004000599999999999\n",
      "saved new best metric model\n",
      "current epoch: 16 current mean dice: 0.7507\n",
      "best mean dice: 0.7507 at epoch: 16\n",
      "----------\n",
      "Epoch 17/100\n"
     ]
    },
    {
     "name": "stderr",
     "output_type": "stream",
     "text": [
      "100%|██████████| 99/99 [05:11<00:00,  3.15s/it]\n"
     ]
    },
    {
     "name": "stdout",
     "output_type": "stream",
     "text": [
      "epoch 17 average loss: 0.3189\n",
      "\n",
      "----------\n",
      "Epoch 18/100\n"
     ]
    },
    {
     "name": "stderr",
     "output_type": "stream",
     "text": [
      "100%|██████████| 99/99 [05:13<00:00,  3.16s/it]\n"
     ]
    },
    {
     "name": "stdout",
     "output_type": "stream",
     "text": [
      "epoch 18 average loss: 0.3160\n",
      "\n",
      "Validating Training at 18 Epochs\n"
     ]
    },
    {
     "name": "stderr",
     "output_type": "stream",
     "text": [
      "100%|██████████| 74/74 [06:48<00:00,  5.52s/it]\n"
     ]
    },
    {
     "name": "stdout",
     "output_type": "stream",
     "text": [
      "Learning Rate = 0.00020008000000000019\n",
      "saved new best metric model\n",
      "current epoch: 18 current mean dice: 0.7676\n",
      "best mean dice: 0.7676 at epoch: 18\n",
      "----------\n",
      "Epoch 19/100\n"
     ]
    },
    {
     "name": "stderr",
     "output_type": "stream",
     "text": [
      "100%|██████████| 99/99 [05:05<00:00,  3.08s/it]\n"
     ]
    },
    {
     "name": "stdout",
     "output_type": "stream",
     "text": [
      "epoch 19 average loss: 0.3075\n",
      "\n",
      "----------\n",
      "Epoch 20/100\n"
     ]
    },
    {
     "name": "stderr",
     "output_type": "stream",
     "text": [
      "100%|██████████| 99/99 [05:04<00:00,  3.08s/it]\n"
     ]
    },
    {
     "name": "stdout",
     "output_type": "stream",
     "text": [
      "epoch 20 average loss: 0.3033\n",
      "\n",
      "Validating Training at 20 Epochs\n"
     ]
    },
    {
     "name": "stderr",
     "output_type": "stream",
     "text": [
      "100%|██████████| 74/74 [06:52<00:00,  5.57s/it]\n"
     ]
    },
    {
     "name": "stdout",
     "output_type": "stream",
     "text": [
      "Learning Rate = 1e-07\n",
      "current epoch: 20 current mean dice: 0.7533\n",
      "best mean dice: 0.7676 at epoch: 18\n",
      "----------\n",
      "Epoch 21/100\n"
     ]
    },
    {
     "name": "stderr",
     "output_type": "stream",
     "text": [
      "100%|██████████| 99/99 [05:12<00:00,  3.16s/it]\n"
     ]
    },
    {
     "name": "stdout",
     "output_type": "stream",
     "text": [
      "epoch 21 average loss: 0.3003\n",
      "\n",
      "----------\n",
      "Epoch 22/100\n"
     ]
    },
    {
     "name": "stderr",
     "output_type": "stream",
     "text": [
      "100%|██████████| 99/99 [05:12<00:00,  3.16s/it]\n"
     ]
    },
    {
     "name": "stdout",
     "output_type": "stream",
     "text": [
      "epoch 22 average loss: 0.3001\n",
      "\n",
      "Validating Training at 22 Epochs\n"
     ]
    },
    {
     "name": "stderr",
     "output_type": "stream",
     "text": [
      "100%|██████████| 74/74 [06:48<00:00,  5.52s/it]\n"
     ]
    },
    {
     "name": "stdout",
     "output_type": "stream",
     "text": [
      "Learning Rate = 0.0001000900000000001\n",
      "current epoch: 22 current mean dice: 0.7513\n",
      "best mean dice: 0.7676 at epoch: 18\n",
      "----------\n",
      "Epoch 23/100\n"
     ]
    },
    {
     "name": "stderr",
     "output_type": "stream",
     "text": [
      "100%|██████████| 99/99 [05:13<00:00,  3.16s/it]\n"
     ]
    },
    {
     "name": "stdout",
     "output_type": "stream",
     "text": [
      "epoch 23 average loss: 0.3018\n",
      "\n",
      "----------\n",
      "Epoch 24/100\n"
     ]
    },
    {
     "name": "stderr",
     "output_type": "stream",
     "text": [
      "100%|██████████| 99/99 [05:12<00:00,  3.15s/it]\n"
     ]
    },
    {
     "name": "stdout",
     "output_type": "stream",
     "text": [
      "epoch 24 average loss: 0.3008\n",
      "\n",
      "Validating Training at 24 Epochs\n"
     ]
    },
    {
     "name": "stderr",
     "output_type": "stream",
     "text": [
      "100%|██████████| 74/74 [06:48<00:00,  5.52s/it]\n"
     ]
    },
    {
     "name": "stdout",
     "output_type": "stream",
     "text": [
      "Learning Rate = 0.00020008000000000019\n",
      "current epoch: 24 current mean dice: 0.7565\n",
      "best mean dice: 0.7676 at epoch: 18\n",
      "----------\n",
      "Epoch 25/100\n"
     ]
    },
    {
     "name": "stderr",
     "output_type": "stream",
     "text": [
      "100%|██████████| 99/99 [05:14<00:00,  3.18s/it]\n"
     ]
    },
    {
     "name": "stdout",
     "output_type": "stream",
     "text": [
      "epoch 25 average loss: 0.3009\n",
      "\n",
      "----------\n",
      "Epoch 26/100\n"
     ]
    },
    {
     "name": "stderr",
     "output_type": "stream",
     "text": [
      "100%|██████████| 99/99 [05:16<00:00,  3.20s/it]\n"
     ]
    },
    {
     "name": "stdout",
     "output_type": "stream",
     "text": [
      "epoch 26 average loss: 0.3010\n",
      "\n",
      "Validating Training at 26 Epochs\n"
     ]
    },
    {
     "name": "stderr",
     "output_type": "stream",
     "text": [
      "100%|██████████| 74/74 [06:56<00:00,  5.63s/it]\n"
     ]
    },
    {
     "name": "stdout",
     "output_type": "stream",
     "text": [
      "Learning Rate = 0.00030006999999999983\n",
      "current epoch: 26 current mean dice: 0.7388\n",
      "best mean dice: 0.7676 at epoch: 18\n",
      "----------\n",
      "Epoch 27/100\n"
     ]
    },
    {
     "name": "stderr",
     "output_type": "stream",
     "text": [
      "100%|██████████| 99/99 [05:15<00:00,  3.18s/it]\n"
     ]
    },
    {
     "name": "stdout",
     "output_type": "stream",
     "text": [
      "epoch 27 average loss: 0.3029\n",
      "\n",
      "----------\n",
      "Epoch 28/100\n"
     ]
    },
    {
     "name": "stderr",
     "output_type": "stream",
     "text": [
      "100%|██████████| 99/99 [05:05<00:00,  3.09s/it]\n"
     ]
    },
    {
     "name": "stdout",
     "output_type": "stream",
     "text": [
      "epoch 28 average loss: 0.2998\n",
      "\n",
      "Validating Training at 28 Epochs\n"
     ]
    },
    {
     "name": "stderr",
     "output_type": "stream",
     "text": [
      "100%|██████████| 74/74 [06:49<00:00,  5.53s/it]\n"
     ]
    },
    {
     "name": "stdout",
     "output_type": "stream",
     "text": [
      "Learning Rate = 0.0004000599999999999\n",
      "current epoch: 28 current mean dice: 0.7629\n",
      "best mean dice: 0.7676 at epoch: 18\n",
      "----------\n",
      "Epoch 29/100\n"
     ]
    },
    {
     "name": "stderr",
     "output_type": "stream",
     "text": [
      "100%|██████████| 99/99 [05:05<00:00,  3.09s/it]\n"
     ]
    },
    {
     "name": "stdout",
     "output_type": "stream",
     "text": [
      "epoch 29 average loss: 0.2981\n",
      "\n",
      "----------\n",
      "Epoch 30/100\n"
     ]
    },
    {
     "name": "stderr",
     "output_type": "stream",
     "text": [
      "100%|██████████| 99/99 [05:05<00:00,  3.09s/it]\n"
     ]
    },
    {
     "name": "stdout",
     "output_type": "stream",
     "text": [
      "epoch 30 average loss: 0.2990\n",
      "\n",
      "Validating Training at 30 Epochs\n"
     ]
    },
    {
     "name": "stderr",
     "output_type": "stream",
     "text": [
      "100%|██████████| 74/74 [06:55<00:00,  5.62s/it]\n"
     ]
    },
    {
     "name": "stdout",
     "output_type": "stream",
     "text": [
      "Learning Rate = 0.0005000499999999999\n",
      "saved new best metric model\n",
      "current epoch: 30 current mean dice: 0.7727\n",
      "best mean dice: 0.7727 at epoch: 30\n",
      "----------\n",
      "Epoch 31/100\n"
     ]
    },
    {
     "name": "stderr",
     "output_type": "stream",
     "text": [
      "100%|██████████| 99/99 [05:07<00:00,  3.11s/it]\n"
     ]
    },
    {
     "name": "stdout",
     "output_type": "stream",
     "text": [
      "epoch 31 average loss: 0.3028\n",
      "\n",
      "----------\n",
      "Epoch 32/100\n"
     ]
    },
    {
     "name": "stderr",
     "output_type": "stream",
     "text": [
      "100%|██████████| 99/99 [05:04<00:00,  3.08s/it]\n"
     ]
    },
    {
     "name": "stdout",
     "output_type": "stream",
     "text": [
      "epoch 32 average loss: 0.2927\n",
      "\n",
      "Validating Training at 32 Epochs\n"
     ]
    },
    {
     "name": "stderr",
     "output_type": "stream",
     "text": [
      "100%|██████████| 74/74 [06:49<00:00,  5.54s/it]\n"
     ]
    },
    {
     "name": "stdout",
     "output_type": "stream",
     "text": [
      "Learning Rate = 0.0004000599999999999\n",
      "current epoch: 32 current mean dice: 0.7504\n",
      "best mean dice: 0.7727 at epoch: 30\n",
      "----------\n",
      "Epoch 33/100\n"
     ]
    },
    {
     "name": "stderr",
     "output_type": "stream",
     "text": [
      "100%|██████████| 99/99 [05:04<00:00,  3.08s/it]\n"
     ]
    },
    {
     "name": "stdout",
     "output_type": "stream",
     "text": [
      "epoch 33 average loss: 0.2914\n",
      "\n",
      "----------\n",
      "Epoch 34/100\n"
     ]
    },
    {
     "name": "stderr",
     "output_type": "stream",
     "text": [
      "100%|██████████| 99/99 [05:04<00:00,  3.08s/it]\n"
     ]
    },
    {
     "name": "stdout",
     "output_type": "stream",
     "text": [
      "epoch 34 average loss: 0.2893\n",
      "\n",
      "Validating Training at 34 Epochs\n"
     ]
    },
    {
     "name": "stderr",
     "output_type": "stream",
     "text": [
      "100%|██████████| 74/74 [06:48<00:00,  5.52s/it]\n"
     ]
    },
    {
     "name": "stdout",
     "output_type": "stream",
     "text": [
      "Learning Rate = 0.00030006999999999983\n",
      "saved new best metric model\n",
      "current epoch: 34 current mean dice: 0.7815\n",
      "best mean dice: 0.7815 at epoch: 34\n",
      "----------\n",
      "Epoch 35/100\n"
     ]
    },
    {
     "name": "stderr",
     "output_type": "stream",
     "text": [
      "100%|██████████| 99/99 [05:03<00:00,  3.07s/it]\n"
     ]
    },
    {
     "name": "stdout",
     "output_type": "stream",
     "text": [
      "epoch 35 average loss: 0.2876\n",
      "\n",
      "----------\n",
      "Epoch 36/100\n"
     ]
    },
    {
     "name": "stderr",
     "output_type": "stream",
     "text": [
      "100%|██████████| 99/99 [05:04<00:00,  3.08s/it]\n"
     ]
    },
    {
     "name": "stdout",
     "output_type": "stream",
     "text": [
      "epoch 36 average loss: 0.2857\n",
      "\n",
      "Validating Training at 36 Epochs\n"
     ]
    },
    {
     "name": "stderr",
     "output_type": "stream",
     "text": [
      "100%|██████████| 74/74 [06:48<00:00,  5.53s/it]\n"
     ]
    },
    {
     "name": "stdout",
     "output_type": "stream",
     "text": [
      "Learning Rate = 0.00020008000000000019\n",
      "current epoch: 36 current mean dice: 0.7550\n",
      "best mean dice: 0.7815 at epoch: 34\n",
      "----------\n",
      "Epoch 37/100\n"
     ]
    },
    {
     "name": "stderr",
     "output_type": "stream",
     "text": [
      "100%|██████████| 99/99 [05:05<00:00,  3.08s/it]\n"
     ]
    },
    {
     "name": "stdout",
     "output_type": "stream",
     "text": [
      "epoch 37 average loss: 0.2802\n",
      "\n",
      "----------\n",
      "Epoch 38/100\n"
     ]
    },
    {
     "name": "stderr",
     "output_type": "stream",
     "text": [
      "100%|██████████| 99/99 [05:04<00:00,  3.08s/it]\n"
     ]
    },
    {
     "name": "stdout",
     "output_type": "stream",
     "text": [
      "epoch 38 average loss: 0.2784\n",
      "\n",
      "Validating Training at 38 Epochs\n"
     ]
    },
    {
     "name": "stderr",
     "output_type": "stream",
     "text": [
      "100%|██████████| 74/74 [06:50<00:00,  5.55s/it]\n"
     ]
    },
    {
     "name": "stdout",
     "output_type": "stream",
     "text": [
      "Learning Rate = 0.0001000900000000001\n",
      "current epoch: 38 current mean dice: 0.7728\n",
      "best mean dice: 0.7815 at epoch: 34\n",
      "----------\n",
      "Epoch 39/100\n"
     ]
    },
    {
     "name": "stderr",
     "output_type": "stream",
     "text": [
      "100%|██████████| 99/99 [05:17<00:00,  3.20s/it]\n"
     ]
    },
    {
     "name": "stdout",
     "output_type": "stream",
     "text": [
      "epoch 39 average loss: 0.2786\n",
      "\n",
      "----------\n",
      "Epoch 40/100\n"
     ]
    },
    {
     "name": "stderr",
     "output_type": "stream",
     "text": [
      "100%|██████████| 99/99 [05:05<00:00,  3.09s/it]\n"
     ]
    },
    {
     "name": "stdout",
     "output_type": "stream",
     "text": [
      "epoch 40 average loss: 0.2755\n",
      "\n",
      "Validating Training at 40 Epochs\n"
     ]
    },
    {
     "name": "stderr",
     "output_type": "stream",
     "text": [
      "100%|██████████| 74/74 [06:50<00:00,  5.55s/it]\n"
     ]
    },
    {
     "name": "stdout",
     "output_type": "stream",
     "text": [
      "Learning Rate = 1e-07\n",
      "current epoch: 40 current mean dice: 0.7779\n",
      "best mean dice: 0.7815 at epoch: 34\n",
      "----------\n",
      "Epoch 41/100\n"
     ]
    },
    {
     "name": "stderr",
     "output_type": "stream",
     "text": [
      "100%|██████████| 99/99 [05:06<00:00,  3.10s/it]\n"
     ]
    },
    {
     "name": "stdout",
     "output_type": "stream",
     "text": [
      "epoch 41 average loss: 0.2743\n",
      "\n",
      "----------\n",
      "Epoch 42/100\n"
     ]
    },
    {
     "name": "stderr",
     "output_type": "stream",
     "text": [
      "100%|██████████| 99/99 [05:04<00:00,  3.08s/it]\n"
     ]
    },
    {
     "name": "stdout",
     "output_type": "stream",
     "text": [
      "epoch 42 average loss: 0.2751\n",
      "\n",
      "Validating Training at 42 Epochs\n"
     ]
    },
    {
     "name": "stderr",
     "output_type": "stream",
     "text": [
      "100%|██████████| 74/74 [06:49<00:00,  5.53s/it]\n"
     ]
    },
    {
     "name": "stdout",
     "output_type": "stream",
     "text": [
      "Learning Rate = 5.009500000000005e-05\n",
      "current epoch: 42 current mean dice: 0.7798\n",
      "best mean dice: 0.7815 at epoch: 34\n",
      "----------\n",
      "Epoch 43/100\n"
     ]
    },
    {
     "name": "stderr",
     "output_type": "stream",
     "text": [
      "100%|██████████| 99/99 [05:05<00:00,  3.09s/it]\n"
     ]
    },
    {
     "name": "stdout",
     "output_type": "stream",
     "text": [
      "epoch 43 average loss: 0.2786\n",
      "\n",
      "----------\n",
      "Epoch 44/100\n"
     ]
    },
    {
     "name": "stderr",
     "output_type": "stream",
     "text": [
      "100%|██████████| 99/99 [05:06<00:00,  3.09s/it]\n"
     ]
    },
    {
     "name": "stdout",
     "output_type": "stream",
     "text": [
      "epoch 44 average loss: 0.2750\n",
      "\n",
      "Validating Training at 44 Epochs\n"
     ]
    },
    {
     "name": "stderr",
     "output_type": "stream",
     "text": [
      "100%|██████████| 74/74 [06:49<00:00,  5.54s/it]\n"
     ]
    },
    {
     "name": "stdout",
     "output_type": "stream",
     "text": [
      "Learning Rate = 0.0001000900000000001\n",
      "current epoch: 44 current mean dice: 0.7783\n",
      "best mean dice: 0.7815 at epoch: 34\n",
      "----------\n",
      "Epoch 45/100\n"
     ]
    },
    {
     "name": "stderr",
     "output_type": "stream",
     "text": [
      "100%|██████████| 99/99 [05:04<00:00,  3.08s/it]\n"
     ]
    },
    {
     "name": "stdout",
     "output_type": "stream",
     "text": [
      "epoch 45 average loss: 0.2745\n",
      "\n",
      "----------\n",
      "Epoch 46/100\n"
     ]
    },
    {
     "name": "stderr",
     "output_type": "stream",
     "text": [
      "100%|██████████| 99/99 [05:05<00:00,  3.09s/it]\n"
     ]
    },
    {
     "name": "stdout",
     "output_type": "stream",
     "text": [
      "epoch 46 average loss: 0.2759\n",
      "\n",
      "Validating Training at 46 Epochs\n"
     ]
    },
    {
     "name": "stderr",
     "output_type": "stream",
     "text": [
      "100%|██████████| 74/74 [06:49<00:00,  5.53s/it]\n"
     ]
    },
    {
     "name": "stdout",
     "output_type": "stream",
     "text": [
      "Learning Rate = 0.00015008499999999992\n",
      "current epoch: 46 current mean dice: 0.7702\n",
      "best mean dice: 0.7815 at epoch: 34\n",
      "----------\n",
      "Epoch 47/100\n"
     ]
    },
    {
     "name": "stderr",
     "output_type": "stream",
     "text": [
      "100%|██████████| 99/99 [05:04<00:00,  3.08s/it]\n"
     ]
    },
    {
     "name": "stdout",
     "output_type": "stream",
     "text": [
      "epoch 47 average loss: 0.2765\n",
      "\n",
      "----------\n",
      "Epoch 48/100\n"
     ]
    },
    {
     "name": "stderr",
     "output_type": "stream",
     "text": [
      "100%|██████████| 99/99 [05:04<00:00,  3.08s/it]\n"
     ]
    },
    {
     "name": "stdout",
     "output_type": "stream",
     "text": [
      "epoch 48 average loss: 0.2763\n",
      "\n",
      "Validating Training at 48 Epochs\n"
     ]
    },
    {
     "name": "stderr",
     "output_type": "stream",
     "text": [
      "100%|██████████| 74/74 [06:49<00:00,  5.53s/it]\n"
     ]
    },
    {
     "name": "stdout",
     "output_type": "stream",
     "text": [
      "Learning Rate = 0.00020007999999999994\n",
      "current epoch: 48 current mean dice: 0.7799\n",
      "best mean dice: 0.7815 at epoch: 34\n",
      "----------\n",
      "Epoch 49/100\n"
     ]
    },
    {
     "name": "stderr",
     "output_type": "stream",
     "text": [
      "100%|██████████| 99/99 [05:05<00:00,  3.09s/it]\n"
     ]
    },
    {
     "name": "stdout",
     "output_type": "stream",
     "text": [
      "epoch 49 average loss: 0.2744\n",
      "\n",
      "----------\n",
      "Epoch 50/100\n"
     ]
    },
    {
     "name": "stderr",
     "output_type": "stream",
     "text": [
      "100%|██████████| 99/99 [05:05<00:00,  3.08s/it]\n"
     ]
    },
    {
     "name": "stdout",
     "output_type": "stream",
     "text": [
      "epoch 50 average loss: 0.2777\n",
      "\n",
      "Validating Training at 50 Epochs\n"
     ]
    },
    {
     "name": "stderr",
     "output_type": "stream",
     "text": [
      "100%|██████████| 74/74 [06:49<00:00,  5.53s/it]\n"
     ]
    },
    {
     "name": "stdout",
     "output_type": "stream",
     "text": [
      "Learning Rate = 0.000250075\n",
      "current epoch: 50 current mean dice: 0.7708\n",
      "best mean dice: 0.7815 at epoch: 34\n",
      "----------\n",
      "Epoch 51/100\n"
     ]
    },
    {
     "name": "stderr",
     "output_type": "stream",
     "text": [
      "100%|██████████| 99/99 [05:04<00:00,  3.07s/it]\n"
     ]
    },
    {
     "name": "stdout",
     "output_type": "stream",
     "text": [
      "epoch 51 average loss: 0.2748\n",
      "\n",
      "----------\n",
      "Epoch 52/100\n"
     ]
    },
    {
     "name": "stderr",
     "output_type": "stream",
     "text": [
      "100%|██████████| 99/99 [05:04<00:00,  3.08s/it]\n"
     ]
    },
    {
     "name": "stdout",
     "output_type": "stream",
     "text": [
      "epoch 52 average loss: 0.2751\n",
      "\n",
      "Validating Training at 52 Epochs\n"
     ]
    },
    {
     "name": "stderr",
     "output_type": "stream",
     "text": [
      "100%|██████████| 74/74 [06:49<00:00,  5.53s/it]\n"
     ]
    },
    {
     "name": "stdout",
     "output_type": "stream",
     "text": [
      "Learning Rate = 0.00020007999999999994\n",
      "current epoch: 52 current mean dice: 0.7626\n",
      "best mean dice: 0.7815 at epoch: 34\n",
      "----------\n",
      "Epoch 53/100\n"
     ]
    },
    {
     "name": "stderr",
     "output_type": "stream",
     "text": [
      "100%|██████████| 99/99 [05:05<00:00,  3.09s/it]\n"
     ]
    },
    {
     "name": "stdout",
     "output_type": "stream",
     "text": [
      "epoch 53 average loss: 0.2740\n",
      "\n",
      "----------\n",
      "Epoch 54/100\n"
     ]
    },
    {
     "name": "stderr",
     "output_type": "stream",
     "text": [
      "100%|██████████| 99/99 [05:04<00:00,  3.08s/it]\n"
     ]
    },
    {
     "name": "stdout",
     "output_type": "stream",
     "text": [
      "epoch 54 average loss: 0.2721\n",
      "\n",
      "Validating Training at 54 Epochs\n"
     ]
    },
    {
     "name": "stderr",
     "output_type": "stream",
     "text": [
      "100%|██████████| 74/74 [06:49<00:00,  5.53s/it]\n"
     ]
    },
    {
     "name": "stdout",
     "output_type": "stream",
     "text": [
      "Learning Rate = 0.00015008499999999992\n",
      "saved new best metric model\n",
      "current epoch: 54 current mean dice: 0.7844\n",
      "best mean dice: 0.7844 at epoch: 54\n",
      "----------\n",
      "Epoch 55/100\n"
     ]
    },
    {
     "name": "stderr",
     "output_type": "stream",
     "text": [
      "100%|██████████| 99/99 [05:05<00:00,  3.08s/it]\n"
     ]
    },
    {
     "name": "stdout",
     "output_type": "stream",
     "text": [
      "epoch 55 average loss: 0.2717\n",
      "\n",
      "----------\n",
      "Epoch 56/100\n"
     ]
    },
    {
     "name": "stderr",
     "output_type": "stream",
     "text": [
      "100%|██████████| 99/99 [05:04<00:00,  3.08s/it]\n"
     ]
    },
    {
     "name": "stdout",
     "output_type": "stream",
     "text": [
      "epoch 56 average loss: 0.2692\n",
      "\n",
      "Validating Training at 56 Epochs\n"
     ]
    },
    {
     "name": "stderr",
     "output_type": "stream",
     "text": [
      "100%|██████████| 74/74 [06:49<00:00,  5.54s/it]\n"
     ]
    },
    {
     "name": "stdout",
     "output_type": "stream",
     "text": [
      "Learning Rate = 0.0001000900000000001\n",
      "current epoch: 56 current mean dice: 0.7800\n",
      "best mean dice: 0.7844 at epoch: 54\n",
      "----------\n",
      "Epoch 57/100\n"
     ]
    },
    {
     "name": "stderr",
     "output_type": "stream",
     "text": [
      "100%|██████████| 99/99 [05:05<00:00,  3.08s/it]\n"
     ]
    },
    {
     "name": "stdout",
     "output_type": "stream",
     "text": [
      "epoch 57 average loss: 0.2669\n",
      "\n",
      "----------\n",
      "Epoch 58/100\n"
     ]
    },
    {
     "name": "stderr",
     "output_type": "stream",
     "text": [
      "100%|██████████| 99/99 [05:04<00:00,  3.08s/it]\n"
     ]
    },
    {
     "name": "stdout",
     "output_type": "stream",
     "text": [
      "epoch 58 average loss: 0.2673\n",
      "\n",
      "Validating Training at 58 Epochs\n"
     ]
    },
    {
     "name": "stderr",
     "output_type": "stream",
     "text": [
      "100%|██████████| 74/74 [06:49<00:00,  5.53s/it]\n"
     ]
    },
    {
     "name": "stdout",
     "output_type": "stream",
     "text": [
      "Learning Rate = 5.009500000000005e-05\n",
      "saved new best metric model\n",
      "current epoch: 58 current mean dice: 0.7848\n",
      "best mean dice: 0.7848 at epoch: 58\n",
      "----------\n",
      "Epoch 59/100\n"
     ]
    },
    {
     "name": "stderr",
     "output_type": "stream",
     "text": [
      "100%|██████████| 99/99 [05:05<00:00,  3.09s/it]\n"
     ]
    },
    {
     "name": "stdout",
     "output_type": "stream",
     "text": [
      "epoch 59 average loss: 0.2679\n",
      "\n",
      "----------\n",
      "Epoch 60/100\n"
     ]
    },
    {
     "name": "stderr",
     "output_type": "stream",
     "text": [
      "100%|██████████| 99/99 [05:04<00:00,  3.07s/it]\n"
     ]
    },
    {
     "name": "stdout",
     "output_type": "stream",
     "text": [
      "epoch 60 average loss: 0.2652\n",
      "\n",
      "Validating Training at 60 Epochs\n"
     ]
    },
    {
     "name": "stderr",
     "output_type": "stream",
     "text": [
      "100%|██████████| 74/74 [06:49<00:00,  5.54s/it]\n"
     ]
    },
    {
     "name": "stdout",
     "output_type": "stream",
     "text": [
      "Learning Rate = 1e-07\n",
      "current epoch: 60 current mean dice: 0.7791\n",
      "best mean dice: 0.7848 at epoch: 58\n",
      "----------\n",
      "Epoch 61/100\n"
     ]
    },
    {
     "name": "stderr",
     "output_type": "stream",
     "text": [
      "100%|██████████| 99/99 [05:05<00:00,  3.09s/it]\n"
     ]
    },
    {
     "name": "stdout",
     "output_type": "stream",
     "text": [
      "epoch 61 average loss: 0.2644\n",
      "\n",
      "----------\n",
      "Epoch 62/100\n"
     ]
    },
    {
     "name": "stderr",
     "output_type": "stream",
     "text": [
      "100%|██████████| 99/99 [05:04<00:00,  3.08s/it]\n"
     ]
    },
    {
     "name": "stdout",
     "output_type": "stream",
     "text": [
      "epoch 62 average loss: 0.2654\n",
      "\n",
      "Validating Training at 62 Epochs\n"
     ]
    },
    {
     "name": "stderr",
     "output_type": "stream",
     "text": [
      "100%|██████████| 74/74 [06:49<00:00,  5.54s/it]\n"
     ]
    },
    {
     "name": "stdout",
     "output_type": "stream",
     "text": [
      "Learning Rate = 2.509749999999991e-05\n",
      "current epoch: 62 current mean dice: 0.7817\n",
      "best mean dice: 0.7848 at epoch: 58\n",
      "----------\n",
      "Epoch 63/100\n"
     ]
    },
    {
     "name": "stderr",
     "output_type": "stream",
     "text": [
      "100%|██████████| 99/99 [05:03<00:00,  3.07s/it]\n"
     ]
    },
    {
     "name": "stdout",
     "output_type": "stream",
     "text": [
      "epoch 63 average loss: 0.2645\n",
      "\n",
      "----------\n",
      "Epoch 64/100\n"
     ]
    },
    {
     "name": "stderr",
     "output_type": "stream",
     "text": [
      "100%|██████████| 99/99 [05:04<00:00,  3.08s/it]\n"
     ]
    },
    {
     "name": "stdout",
     "output_type": "stream",
     "text": [
      "epoch 64 average loss: 0.2655\n",
      "\n",
      "Validating Training at 64 Epochs\n"
     ]
    },
    {
     "name": "stderr",
     "output_type": "stream",
     "text": [
      "100%|██████████| 74/74 [06:49<00:00,  5.54s/it]\n"
     ]
    },
    {
     "name": "stdout",
     "output_type": "stream",
     "text": [
      "Learning Rate = 5.009500000000005e-05\n",
      "current epoch: 64 current mean dice: 0.7826\n",
      "best mean dice: 0.7848 at epoch: 58\n",
      "----------\n",
      "Epoch 65/100\n"
     ]
    },
    {
     "name": "stderr",
     "output_type": "stream",
     "text": [
      "100%|██████████| 99/99 [05:06<00:00,  3.09s/it]\n"
     ]
    },
    {
     "name": "stdout",
     "output_type": "stream",
     "text": [
      "epoch 65 average loss: 0.2650\n",
      "\n",
      "----------\n",
      "Epoch 66/100\n"
     ]
    },
    {
     "name": "stderr",
     "output_type": "stream",
     "text": [
      "100%|██████████| 99/99 [05:06<00:00,  3.10s/it]\n"
     ]
    },
    {
     "name": "stdout",
     "output_type": "stream",
     "text": [
      "epoch 66 average loss: 0.2661\n",
      "\n",
      "Validating Training at 66 Epochs\n"
     ]
    },
    {
     "name": "stderr",
     "output_type": "stream",
     "text": [
      "100%|██████████| 74/74 [06:49<00:00,  5.53s/it]\n"
     ]
    },
    {
     "name": "stdout",
     "output_type": "stream",
     "text": [
      "Learning Rate = 7.509249999999996e-05\n",
      "saved new best metric model\n",
      "current epoch: 66 current mean dice: 0.7872\n",
      "best mean dice: 0.7872 at epoch: 66\n",
      "----------\n",
      "Epoch 67/100\n"
     ]
    },
    {
     "name": "stderr",
     "output_type": "stream",
     "text": [
      "100%|██████████| 99/99 [05:05<00:00,  3.08s/it]\n"
     ]
    },
    {
     "name": "stdout",
     "output_type": "stream",
     "text": [
      "epoch 67 average loss: 0.2669\n",
      "\n",
      "----------\n",
      "Epoch 68/100\n"
     ]
    },
    {
     "name": "stderr",
     "output_type": "stream",
     "text": [
      "100%|██████████| 99/99 [05:06<00:00,  3.09s/it]\n"
     ]
    },
    {
     "name": "stdout",
     "output_type": "stream",
     "text": [
      "epoch 68 average loss: 0.2680\n",
      "\n",
      "Validating Training at 68 Epochs\n"
     ]
    },
    {
     "name": "stderr",
     "output_type": "stream",
     "text": [
      "100%|██████████| 74/74 [06:49<00:00,  5.53s/it]\n"
     ]
    },
    {
     "name": "stdout",
     "output_type": "stream",
     "text": [
      "Learning Rate = 0.0001000900000000001\n",
      "current epoch: 68 current mean dice: 0.7812\n",
      "best mean dice: 0.7872 at epoch: 66\n",
      "----------\n",
      "Epoch 69/100\n"
     ]
    },
    {
     "name": "stderr",
     "output_type": "stream",
     "text": [
      "100%|██████████| 99/99 [05:05<00:00,  3.09s/it]\n"
     ]
    },
    {
     "name": "stdout",
     "output_type": "stream",
     "text": [
      "epoch 69 average loss: 0.2683\n",
      "\n",
      "----------\n",
      "Epoch 70/100\n"
     ]
    },
    {
     "name": "stderr",
     "output_type": "stream",
     "text": [
      "100%|██████████| 99/99 [05:06<00:00,  3.10s/it]\n"
     ]
    },
    {
     "name": "stdout",
     "output_type": "stream",
     "text": [
      "epoch 70 average loss: 0.2663\n",
      "\n",
      "Validating Training at 70 Epochs\n"
     ]
    },
    {
     "name": "stderr",
     "output_type": "stream",
     "text": [
      "100%|██████████| 74/74 [06:49<00:00,  5.54s/it]\n"
     ]
    },
    {
     "name": "stdout",
     "output_type": "stream",
     "text": [
      "Learning Rate = 0.0001250875\n",
      "current epoch: 70 current mean dice: 0.7764\n",
      "best mean dice: 0.7872 at epoch: 66\n",
      "----------\n",
      "Epoch 71/100\n"
     ]
    },
    {
     "name": "stderr",
     "output_type": "stream",
     "text": [
      "100%|██████████| 99/99 [05:05<00:00,  3.08s/it]\n"
     ]
    },
    {
     "name": "stdout",
     "output_type": "stream",
     "text": [
      "epoch 71 average loss: 0.2664\n",
      "\n",
      "----------\n",
      "Epoch 72/100\n"
     ]
    },
    {
     "name": "stderr",
     "output_type": "stream",
     "text": [
      "100%|██████████| 99/99 [05:07<00:00,  3.10s/it]\n"
     ]
    },
    {
     "name": "stdout",
     "output_type": "stream",
     "text": [
      "epoch 72 average loss: 0.2674\n",
      "\n",
      "Validating Training at 72 Epochs\n"
     ]
    },
    {
     "name": "stderr",
     "output_type": "stream",
     "text": [
      "100%|██████████| 74/74 [06:51<00:00,  5.55s/it]\n"
     ]
    },
    {
     "name": "stdout",
     "output_type": "stream",
     "text": [
      "Learning Rate = 0.0001000900000000001\n",
      "current epoch: 72 current mean dice: 0.7822\n",
      "best mean dice: 0.7872 at epoch: 66\n",
      "----------\n",
      "Epoch 73/100\n"
     ]
    },
    {
     "name": "stderr",
     "output_type": "stream",
     "text": [
      "100%|██████████| 99/99 [05:07<00:00,  3.10s/it]\n"
     ]
    },
    {
     "name": "stdout",
     "output_type": "stream",
     "text": [
      "epoch 73 average loss: 0.2662\n",
      "\n",
      "----------\n",
      "Epoch 74/100\n"
     ]
    },
    {
     "name": "stderr",
     "output_type": "stream",
     "text": [
      "100%|██████████| 99/99 [05:12<00:00,  3.15s/it]\n"
     ]
    },
    {
     "name": "stdout",
     "output_type": "stream",
     "text": [
      "epoch 74 average loss: 0.2639\n",
      "\n",
      "Validating Training at 74 Epochs\n"
     ]
    },
    {
     "name": "stderr",
     "output_type": "stream",
     "text": [
      "100%|██████████| 74/74 [06:51<00:00,  5.56s/it]\n"
     ]
    },
    {
     "name": "stdout",
     "output_type": "stream",
     "text": [
      "Learning Rate = 7.509249999999996e-05\n",
      "saved new best metric model\n",
      "current epoch: 74 current mean dice: 0.7875\n",
      "best mean dice: 0.7875 at epoch: 74\n",
      "----------\n",
      "Epoch 75/100\n"
     ]
    },
    {
     "name": "stderr",
     "output_type": "stream",
     "text": [
      "100%|██████████| 99/99 [05:05<00:00,  3.08s/it]\n"
     ]
    },
    {
     "name": "stdout",
     "output_type": "stream",
     "text": [
      "epoch 75 average loss: 0.2622\n",
      "\n",
      "----------\n",
      "Epoch 76/100\n"
     ]
    },
    {
     "name": "stderr",
     "output_type": "stream",
     "text": [
      "100%|██████████| 99/99 [05:04<00:00,  3.08s/it]\n"
     ]
    },
    {
     "name": "stdout",
     "output_type": "stream",
     "text": [
      "epoch 76 average loss: 0.2649\n",
      "\n",
      "Validating Training at 76 Epochs\n"
     ]
    },
    {
     "name": "stderr",
     "output_type": "stream",
     "text": [
      "100%|██████████| 74/74 [06:50<00:00,  5.54s/it]\n"
     ]
    },
    {
     "name": "stdout",
     "output_type": "stream",
     "text": [
      "Learning Rate = 5.009500000000005e-05\n",
      "current epoch: 76 current mean dice: 0.7808\n",
      "best mean dice: 0.7875 at epoch: 74\n",
      "----------\n",
      "Epoch 77/100\n"
     ]
    },
    {
     "name": "stderr",
     "output_type": "stream",
     "text": [
      "100%|██████████| 99/99 [05:04<00:00,  3.08s/it]\n"
     ]
    },
    {
     "name": "stdout",
     "output_type": "stream",
     "text": [
      "epoch 77 average loss: 0.2622\n",
      "\n",
      "----------\n",
      "Epoch 78/100\n"
     ]
    },
    {
     "name": "stderr",
     "output_type": "stream",
     "text": [
      "100%|██████████| 99/99 [05:05<00:00,  3.09s/it]\n"
     ]
    },
    {
     "name": "stdout",
     "output_type": "stream",
     "text": [
      "epoch 78 average loss: 0.2615\n",
      "\n",
      "Validating Training at 78 Epochs\n"
     ]
    },
    {
     "name": "stderr",
     "output_type": "stream",
     "text": [
      "100%|██████████| 74/74 [06:49<00:00,  5.53s/it]\n"
     ]
    },
    {
     "name": "stdout",
     "output_type": "stream",
     "text": [
      "Learning Rate = 2.509749999999991e-05\n",
      "current epoch: 78 current mean dice: 0.7793\n",
      "best mean dice: 0.7875 at epoch: 74\n",
      "----------\n",
      "Epoch 79/100\n"
     ]
    },
    {
     "name": "stderr",
     "output_type": "stream",
     "text": [
      "100%|██████████| 99/99 [05:06<00:00,  3.09s/it]\n"
     ]
    },
    {
     "name": "stdout",
     "output_type": "stream",
     "text": [
      "epoch 79 average loss: 0.2608\n",
      "\n",
      "----------\n",
      "Epoch 80/100\n"
     ]
    },
    {
     "name": "stderr",
     "output_type": "stream",
     "text": [
      "100%|██████████| 99/99 [05:05<00:00,  3.08s/it]\n"
     ]
    },
    {
     "name": "stdout",
     "output_type": "stream",
     "text": [
      "epoch 80 average loss: 0.2599\n",
      "\n",
      "Validating Training at 80 Epochs\n"
     ]
    },
    {
     "name": "stderr",
     "output_type": "stream",
     "text": [
      "100%|██████████| 74/74 [06:49<00:00,  5.53s/it]\n"
     ]
    },
    {
     "name": "stdout",
     "output_type": "stream",
     "text": [
      "Learning Rate = 1e-07\n",
      "current epoch: 80 current mean dice: 0.7840\n",
      "best mean dice: 0.7875 at epoch: 74\n",
      "----------\n",
      "Epoch 81/100\n"
     ]
    },
    {
     "name": "stderr",
     "output_type": "stream",
     "text": [
      "100%|██████████| 99/99 [05:04<00:00,  3.08s/it]\n"
     ]
    },
    {
     "name": "stdout",
     "output_type": "stream",
     "text": [
      "epoch 81 average loss: 0.2597\n",
      "\n",
      "----------\n",
      "Epoch 82/100\n"
     ]
    },
    {
     "name": "stderr",
     "output_type": "stream",
     "text": [
      "100%|██████████| 99/99 [05:05<00:00,  3.08s/it]\n"
     ]
    },
    {
     "name": "stdout",
     "output_type": "stream",
     "text": [
      "epoch 82 average loss: 0.2589\n",
      "\n",
      "Validating Training at 82 Epochs\n"
     ]
    },
    {
     "name": "stderr",
     "output_type": "stream",
     "text": [
      "100%|██████████| 74/74 [06:49<00:00,  5.53s/it]\n"
     ]
    },
    {
     "name": "stdout",
     "output_type": "stream",
     "text": [
      "Learning Rate = 1.2598749999999956e-05\n",
      "current epoch: 82 current mean dice: 0.7838\n",
      "best mean dice: 0.7875 at epoch: 74\n",
      "----------\n",
      "Epoch 83/100\n"
     ]
    },
    {
     "name": "stderr",
     "output_type": "stream",
     "text": [
      "100%|██████████| 99/99 [05:03<00:00,  3.06s/it]\n"
     ]
    },
    {
     "name": "stdout",
     "output_type": "stream",
     "text": [
      "epoch 83 average loss: 0.2595\n",
      "\n",
      "----------\n",
      "Epoch 84/100\n"
     ]
    },
    {
     "name": "stderr",
     "output_type": "stream",
     "text": [
      "100%|██████████| 99/99 [05:04<00:00,  3.08s/it]\n"
     ]
    },
    {
     "name": "stdout",
     "output_type": "stream",
     "text": [
      "epoch 84 average loss: 0.2610\n",
      "\n",
      "Validating Training at 84 Epochs\n"
     ]
    },
    {
     "name": "stderr",
     "output_type": "stream",
     "text": [
      "100%|██████████| 74/74 [06:49<00:00,  5.53s/it]\n"
     ]
    },
    {
     "name": "stdout",
     "output_type": "stream",
     "text": [
      "Learning Rate = 2.5097500000000022e-05\n",
      "current epoch: 84 current mean dice: 0.7836\n",
      "best mean dice: 0.7875 at epoch: 74\n",
      "----------\n",
      "Epoch 85/100\n"
     ]
    },
    {
     "name": "stderr",
     "output_type": "stream",
     "text": [
      "100%|██████████| 99/99 [05:04<00:00,  3.08s/it]\n"
     ]
    },
    {
     "name": "stdout",
     "output_type": "stream",
     "text": [
      "epoch 85 average loss: 0.2616\n",
      "\n",
      "----------\n",
      "Epoch 86/100\n"
     ]
    },
    {
     "name": "stderr",
     "output_type": "stream",
     "text": [
      "100%|██████████| 99/99 [05:03<00:00,  3.07s/it]\n"
     ]
    },
    {
     "name": "stdout",
     "output_type": "stream",
     "text": [
      "epoch 86 average loss: 0.2607\n",
      "\n",
      "Validating Training at 86 Epochs\n"
     ]
    },
    {
     "name": "stderr",
     "output_type": "stream",
     "text": [
      "100%|██████████| 74/74 [06:48<00:00,  5.52s/it]\n"
     ]
    },
    {
     "name": "stdout",
     "output_type": "stream",
     "text": [
      "Learning Rate = 3.759624999999998e-05\n",
      "current epoch: 86 current mean dice: 0.7737\n",
      "best mean dice: 0.7875 at epoch: 74\n",
      "----------\n",
      "Epoch 87/100\n"
     ]
    },
    {
     "name": "stderr",
     "output_type": "stream",
     "text": [
      "100%|██████████| 99/99 [05:05<00:00,  3.09s/it]\n"
     ]
    },
    {
     "name": "stdout",
     "output_type": "stream",
     "text": [
      "epoch 87 average loss: 0.2603\n",
      "\n",
      "----------\n",
      "Epoch 88/100\n"
     ]
    },
    {
     "name": "stderr",
     "output_type": "stream",
     "text": [
      "100%|██████████| 99/99 [05:05<00:00,  3.09s/it]\n"
     ]
    },
    {
     "name": "stdout",
     "output_type": "stream",
     "text": [
      "epoch 88 average loss: 0.2602\n",
      "\n",
      "Validating Training at 88 Epochs\n"
     ]
    },
    {
     "name": "stderr",
     "output_type": "stream",
     "text": [
      "100%|██████████| 74/74 [06:48<00:00,  5.53s/it]\n"
     ]
    },
    {
     "name": "stdout",
     "output_type": "stream",
     "text": [
      "Learning Rate = 5.009500000000005e-05\n",
      "current epoch: 88 current mean dice: 0.7844\n",
      "best mean dice: 0.7875 at epoch: 74\n",
      "----------\n",
      "Epoch 89/100\n"
     ]
    },
    {
     "name": "stderr",
     "output_type": "stream",
     "text": [
      "100%|██████████| 99/99 [05:06<00:00,  3.10s/it]\n"
     ]
    },
    {
     "name": "stdout",
     "output_type": "stream",
     "text": [
      "epoch 89 average loss: 0.2613\n",
      "\n",
      "----------\n",
      "Epoch 90/100\n"
     ]
    },
    {
     "name": "stderr",
     "output_type": "stream",
     "text": [
      "100%|██████████| 99/99 [05:04<00:00,  3.07s/it]\n"
     ]
    },
    {
     "name": "stdout",
     "output_type": "stream",
     "text": [
      "epoch 90 average loss: 0.2596\n",
      "\n",
      "Validating Training at 90 Epochs\n"
     ]
    },
    {
     "name": "stderr",
     "output_type": "stream",
     "text": [
      "100%|██████████| 74/74 [06:49<00:00,  5.53s/it]\n"
     ]
    },
    {
     "name": "stdout",
     "output_type": "stream",
     "text": [
      "Learning Rate = 6.259375e-05\n",
      "current epoch: 90 current mean dice: 0.7869\n",
      "best mean dice: 0.7875 at epoch: 74\n",
      "----------\n",
      "Epoch 91/100\n"
     ]
    },
    {
     "name": "stderr",
     "output_type": "stream",
     "text": [
      "100%|██████████| 99/99 [05:05<00:00,  3.08s/it]\n"
     ]
    },
    {
     "name": "stdout",
     "output_type": "stream",
     "text": [
      "epoch 91 average loss: 0.2601\n",
      "\n",
      "----------\n",
      "Epoch 92/100\n"
     ]
    },
    {
     "name": "stderr",
     "output_type": "stream",
     "text": [
      "100%|██████████| 99/99 [05:04<00:00,  3.07s/it]\n"
     ]
    },
    {
     "name": "stdout",
     "output_type": "stream",
     "text": [
      "epoch 92 average loss: 0.2603\n",
      "\n",
      "Validating Training at 92 Epochs\n"
     ]
    },
    {
     "name": "stderr",
     "output_type": "stream",
     "text": [
      "100%|██████████| 74/74 [06:49<00:00,  5.53s/it]\n"
     ]
    },
    {
     "name": "stdout",
     "output_type": "stream",
     "text": [
      "Learning Rate = 5.009500000000005e-05\n",
      "saved new best metric model\n",
      "current epoch: 92 current mean dice: 0.7898\n",
      "best mean dice: 0.7898 at epoch: 92\n",
      "----------\n",
      "Epoch 93/100\n"
     ]
    },
    {
     "name": "stderr",
     "output_type": "stream",
     "text": [
      "100%|██████████| 99/99 [05:05<00:00,  3.08s/it]\n"
     ]
    },
    {
     "name": "stdout",
     "output_type": "stream",
     "text": [
      "epoch 93 average loss: 0.2604\n",
      "\n",
      "----------\n",
      "Epoch 94/100\n"
     ]
    },
    {
     "name": "stderr",
     "output_type": "stream",
     "text": [
      "100%|██████████| 99/99 [05:05<00:00,  3.08s/it]\n"
     ]
    },
    {
     "name": "stdout",
     "output_type": "stream",
     "text": [
      "epoch 94 average loss: 0.2589\n",
      "\n",
      "Validating Training at 94 Epochs\n"
     ]
    },
    {
     "name": "stderr",
     "output_type": "stream",
     "text": [
      "100%|██████████| 74/74 [06:49<00:00,  5.53s/it]\n"
     ]
    },
    {
     "name": "stdout",
     "output_type": "stream",
     "text": [
      "Learning Rate = 3.759624999999998e-05\n",
      "current epoch: 94 current mean dice: 0.7802\n",
      "best mean dice: 0.7898 at epoch: 92\n",
      "----------\n",
      "Epoch 95/100\n"
     ]
    },
    {
     "name": "stderr",
     "output_type": "stream",
     "text": [
      "100%|██████████| 99/99 [05:04<00:00,  3.07s/it]\n"
     ]
    },
    {
     "name": "stdout",
     "output_type": "stream",
     "text": [
      "epoch 95 average loss: 0.2614\n",
      "\n",
      "----------\n",
      "Epoch 96/100\n"
     ]
    },
    {
     "name": "stderr",
     "output_type": "stream",
     "text": [
      "100%|██████████| 99/99 [05:05<00:00,  3.08s/it]\n"
     ]
    },
    {
     "name": "stdout",
     "output_type": "stream",
     "text": [
      "epoch 96 average loss: 0.2597\n",
      "\n",
      "Validating Training at 96 Epochs\n"
     ]
    },
    {
     "name": "stderr",
     "output_type": "stream",
     "text": [
      "100%|██████████| 74/74 [06:49<00:00,  5.53s/it]\n"
     ]
    },
    {
     "name": "stdout",
     "output_type": "stream",
     "text": [
      "Learning Rate = 2.5097500000000022e-05\n",
      "current epoch: 96 current mean dice: 0.7830\n",
      "best mean dice: 0.7898 at epoch: 92\n",
      "----------\n",
      "Epoch 97/100\n"
     ]
    },
    {
     "name": "stderr",
     "output_type": "stream",
     "text": [
      "100%|██████████| 99/99 [05:04<00:00,  3.07s/it]\n"
     ]
    },
    {
     "name": "stdout",
     "output_type": "stream",
     "text": [
      "epoch 97 average loss: 0.2583\n",
      "\n",
      "----------\n",
      "Epoch 98/100\n"
     ]
    },
    {
     "name": "stderr",
     "output_type": "stream",
     "text": [
      "100%|██████████| 99/99 [05:05<00:00,  3.08s/it]\n"
     ]
    },
    {
     "name": "stdout",
     "output_type": "stream",
     "text": [
      "epoch 98 average loss: 0.2592\n",
      "\n",
      "Validating Training at 98 Epochs\n"
     ]
    },
    {
     "name": "stderr",
     "output_type": "stream",
     "text": [
      "100%|██████████| 74/74 [06:49<00:00,  5.53s/it]\n"
     ]
    },
    {
     "name": "stdout",
     "output_type": "stream",
     "text": [
      "Learning Rate = 1.2598749999999956e-05\n",
      "current epoch: 98 current mean dice: 0.7805\n",
      "best mean dice: 0.7898 at epoch: 92\n",
      "----------\n",
      "Epoch 99/100\n"
     ]
    },
    {
     "name": "stderr",
     "output_type": "stream",
     "text": [
      "100%|██████████| 99/99 [05:05<00:00,  3.08s/it]\n"
     ]
    },
    {
     "name": "stdout",
     "output_type": "stream",
     "text": [
      "epoch 99 average loss: 0.2575\n",
      "\n",
      "----------\n",
      "Epoch 100/100\n"
     ]
    },
    {
     "name": "stderr",
     "output_type": "stream",
     "text": [
      "100%|██████████| 99/99 [05:05<00:00,  3.09s/it]\n"
     ]
    },
    {
     "name": "stdout",
     "output_type": "stream",
     "text": [
      "epoch 100 average loss: 0.2578\n",
      "\n",
      "Validating Training at 100 Epochs\n"
     ]
    },
    {
     "name": "stderr",
     "output_type": "stream",
     "text": [
      "100%|██████████| 74/74 [06:49<00:00,  5.53s/it]"
     ]
    },
    {
     "name": "stdout",
     "output_type": "stream",
     "text": [
      "Learning Rate = 1e-07\n",
      "current epoch: 100 current mean dice: 0.7845\n",
      "best mean dice: 0.7898 at epoch: 92\n"
     ]
    },
    {
     "name": "stderr",
     "output_type": "stream",
     "text": [
      "\n"
     ]
    }
   ],
   "source": [
    "print(\n",
    "    f\"Beginning in Training in Folder {NAME_EXPERIMENT}_{training_time}\\n\\\n",
    "Log Stored in {NAME_EXPERIMENT}_{training_time}/training_log.pth\\n\\\n",
    "Model with best Metric stored in {NAME_EXPERIMENT}_{training_time}/model_check_point.pth\"\n",
    ")\n",
    "\n",
    "\n",
    "\n",
    "\n",
    "\n",
    "\n",
    "for epoch in range(epoch_continue, max_epochs):\n",
    "    print(\"-\" * 10)\n",
    "    print(f\"Epoch {epoch + 1}/{max_epochs}\")\n",
    "    model.train()\n",
    "    epoch_loss = 0\n",
    "    step = 0\n",
    "\n",
    "    for batch_data in tqdm(train_data_loader):\n",
    "\n",
    "        inputs, labels = (\n",
    "            batch_data[\"image\"].to(device),\n",
    "            batch_data[\"seg\"].to(device),\n",
    "        )\n",
    "        optimizer.zero_grad()\n",
    "        with torch.cuda.amp.autocast():\n",
    "            outputs = model(inputs)\n",
    "            loss = loss_function(outputs, labels)\n",
    "\n",
    "        scaler.scale(loss).backward()\n",
    "        scaler.step(optimizer)\n",
    "        scaler.update()\n",
    "        epoch_loss += loss.item()\n",
    "        step += 1\n",
    "\n",
    "    epoch_loss /= step  # average epoch loss\n",
    "\n",
    "    epoch_loss_values.append(epoch_loss)\n",
    "    lr_scheduler.step()\n",
    "    print(f\"epoch {epoch + 1} average loss: {epoch_loss:.4f}\\n\")\n",
    "\n",
    "    torch.save(\n",
    "            {\n",
    "                \"epoch\": epoch,\n",
    "                \"loss_per_epoch\": epoch_loss_values,\n",
    "                \"dice_metric_per_epoch\": metric_values,\n",
    "            },\n",
    "            TRAINING_LOG_FILE,\n",
    "        )\n",
    "\n",
    "    if (epoch + 1) % val_interval == 0:\n",
    "        print(f\"Validating Training at {(epoch + 1)} Epochs\")\n",
    "        model.eval()\n",
    "        with torch.no_grad():\n",
    "            for val_data in tqdm(val_data_loader):\n",
    "                val_inputs, val_labels = (\n",
    "                    val_data[\"image\"],\n",
    "                    val_data[\"seg\"].to(device),\n",
    "                )\n",
    "\n",
    "                val_outputs = inference(val_inputs)\n",
    "\n",
    "                val_outputs = [\n",
    "                    post_processing_validation(i)\n",
    "                    for i in decollate_batch(val_outputs.to(device))\n",
    "                ]\n",
    "                dice_metric(y_pred=val_outputs, y=val_labels)\n",
    "\n",
    "            metric = dice_metric.aggregate().item()\n",
    "            metric_values.append(metric)\n",
    "            #! Update lr based on metric value\n",
    "           \n",
    "            print(f\"Learning Rate = {optimizer.param_groups[0]['lr']}\")\n",
    "            # metric_batch = dice_metric_batch.aggregate()\n",
    "            # metric_tc = metric_batch[0].item()\n",
    "            # metric_values_tc.append(metric_tc)\n",
    "            # metric_wt = metric_batch[1].item()\n",
    "            # metric_values_wt.append(metric_wt)\n",
    "            # metric_et = metric_batch[2].item()\n",
    "            # metric_values_et.append(metric_et)\n",
    "            dice_metric.reset()\n",
    "            # dice_metric_batch.reset()\n",
    "\n",
    "            if metric > best_metric:\n",
    "                best_metric = metric\n",
    "                best_metric_epoch = epoch\n",
    "                torch.save(\n",
    "                    {\n",
    "\n",
    "                        \"model_state_dict\": model.state_dict(),\n",
    "                        \"optimiser_state_dict\": optimizer.state_dict(),\n",
    "                        \"loss_function_state_dict\":loss_function.state_dict(),\n",
    "                        \"best_metric\": best_metric,\n",
    "                        \"best_metric_epoch\": best_metric_epoch,\n",
    "                    },\n",
    "                    TRAINING_WEIGHTS_FILE,\n",
    "                )\n",
    "                print(\"saved new best metric model\")\n",
    "\n",
    "\n",
    "            print(\n",
    "                f\"current epoch: {epoch + 1} current mean dice: {metric:.4f}\"\n",
    "                # f\" tc: {metric_tc:.4f} wt: {metric_wt:.4f} et: {metric_et:.4f}\"\n",
    "                f\"\\nbest mean dice: {best_metric:.4f}\"\n",
    "                f\" at epoch: {best_metric_epoch + 1}\"\n",
    "            )\n",
    "\n",
    "        "
   ]
  },
  {
   "cell_type": "code",
   "execution_count": 34,
   "metadata": {},
   "outputs": [
    {
     "data": {
      "text/plain": [
       "<matplotlib.legend.Legend at 0x22190fecdf0>"
      ]
     },
     "execution_count": 34,
     "metadata": {},
     "output_type": "execute_result"
    },
    {
     "data": {
      "image/png": "[encoded data removed]",
      "text/plain": [
       "<Figure size 640x480 with 1 Axes>"
      ]
     },
     "metadata": {},
     "output_type": "display_data"
    }
   ],
   "source": [
    "fig = plt.axes()\n",
    "fig.plot(epoch_loss_values,label=\"Loss\")\n",
    "fig.plot([x*2 for x in range(len(metric_values))],metric_values,label=\"Dice Score\")\n",
    "fig.set_xlabel(\"Epoch\")\n",
    "fig.legend()"
   ]
  },
  {
   "cell_type": "code",
   "execution_count": null,
   "metadata": {},
   "outputs": [
    {
     "data": {
      "text/plain": [
       "[0.000107837788809226]"
      ]
     },
     "execution_count": 14,
     "metadata": {},
     "output_type": "execute_result"
    }
   ],
   "source": [
    "lr_scheduler.get_last_lr()"
   ]
  },
  {
   "cell_type": "code",
   "execution_count": null,
   "metadata": {},
   "outputs": [
    {
     "name": "stdout",
     "output_type": "stream",
     "text": [
      "Deleting Model\n",
      "Collecting Garbage\n",
      "Clearing CUDA Cache\n",
      "Done\n"
     ]
    }
   ],
   "source": [
    "clear_gpu_cache()"
   ]
  },
  {
   "cell_type": "code",
   "execution_count": null,
   "metadata": {},
   "outputs": [],
   "source": []
  }
 ],
 "metadata": {
  "kernelspec": {
   "display_name": "fyp",
   "language": "python",
   "name": "python3"
  },
  "language_info": {
   "codemirror_mode": {
    "name": "ipython",
    "version": 3
   },
   "file_extension": ".py",
   "mimetype": "text/x-python",
   "name": "python",
   "nbconvert_exporter": "python",
   "pygments_lexer": "ipython3",
   "version": "3.9.15 (main, Nov 24 2022, 14:39:17) [MSC v.1916 64 bit (AMD64)]"
  },
  "orig_nbformat": 4,
  "vscode": {
   "interpreter": {
    "hash": "37bd13aa3d924eb96db98b00aa626978b2fce1020e2653180f4604a647daf9d4"
   }
  }
 },
 "nbformat": 4,
 "nbformat_minor": 2
}
