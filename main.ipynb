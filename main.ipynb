{
 "cells": [
  {
   "cell_type": "markdown",
   "metadata": {},
   "source": [
    "# 3D Segmentation of Brain Tumor\n",
    "\n",
    "This document is to test the methodology and refine it for execution in FYP B.\n",
    "\n",
    "\n",
    "## Loading the Dataset\n",
    "The dataset used is the BraTS 2020 Dataset"
   ]
  },
  {
   "cell_type": "code",
   "execution_count": 12,
   "metadata": {},
   "outputs": [],
   "source": [
    "from monai.data import Dataset, CacheDataset,PersistentDataset\n",
    "from glob import glob\n",
    "from os import path, listdir\n",
    "import albumentations as A\n",
    "from itkwidgets import view\n",
    "\n",
    "from monai.transforms import (\n",
    "    LoadImaged,\n",
    "    SpatialPadd,\n",
    "    EnsureChannelFirstd,\n",
    "    Compose,\n",
    "    NormalizeIntensityd,\n",
    "    Orientationd,\n",
    "    Spacingd,\n",
    "    RandSpatialCropd,\n",
    "    RandFlipd,\n",
    "    MapTransform\n",
    ")\n",
    "\n",
    "import monai\n",
    "import matplotlib.pyplot as plt\n",
    "import numpy as np\n",
    "\n",
    "%matplotlib inline"
   ]
  },
  {
   "cell_type": "code",
   "execution_count": 39,
   "metadata": {},
   "outputs": [
    {
     "name": "stdout",
     "output_type": "stream",
     "text": [
      "Collecting monai==0.9.0\n",
      "  Using cached monai-0.9.0-202206131636-py3-none-any.whl (939 kB)\n",
      "Requirement already satisfied: numpy>=1.17 in c:\\users\\user\\anaconda3\\envs\\mri\\lib\\site-packages (from monai==0.9.0) (1.22.3)\n",
      "Requirement already satisfied: torch>=1.7 in c:\\users\\user\\anaconda3\\envs\\mri\\lib\\site-packages (from monai==0.9.0) (1.11.0)\n",
      "Requirement already satisfied: typing_extensions in c:\\users\\user\\anaconda3\\envs\\mri\\lib\\site-packages (from torch>=1.7->monai==0.9.0) (4.1.1)\n",
      "Installing collected packages: monai\n",
      "  Attempting uninstall: monai\n",
      "    Found existing installation: monai 0.4.0\n",
      "    Uninstalling monai-0.4.0:\n",
      "      Successfully uninstalled monai-0.4.0\n",
      "Successfully installed monai-0.9.0\n",
      "Note: you may need to restart the kernel to use updated packages.\n"
     ]
    }
   ],
   "source": [
    "%pip install monai==0.9.0"
   ]
  },
  {
   "cell_type": "code",
   "execution_count": 2,
   "metadata": {},
   "outputs": [],
   "source": [
    "base_path = r\"Datasets\\2020\\MICCAI_BraTS2020_TrainingData\"\n",
    "# Base Path to the training Dataset"
   ]
  },
  {
   "cell_type": "code",
   "execution_count": 18,
   "metadata": {},
   "outputs": [],
   "source": [
    "# One Hot Encoding for Tumor as 3 is skipped in the segmentation masks. Moving 4 to 3.\n",
    "class ConvertLabelsIntoOneHotd(MapTransform):\n",
    "    def __call__(self, data):\n",
    "        data_dict = dict(data)\n",
    "        for key in self.keys:\n",
    "            one_hot_encode_array = [\n",
    "                data_dict[key] == 1,  # Non Enhancing Tumor Core\n",
    "                data_dict[key] == 2,  # Edema Core\n",
    "                data_dict[key] == 4,  # Enhancing Tumor Core\n",
    "            ]\n",
    "            data_dict[key] = np.stack(one_hot_encode_array, axis=0).astype(np.float32)\n",
    "        return data_dict\n"
   ]
  },
  {
   "cell_type": "code",
   "execution_count": 25,
   "metadata": {},
   "outputs": [],
   "source": [
    "cases = [path.join(base_path, x) for x in listdir(base_path)]\n",
    "# Appends all cases to a list\n",
    "\n",
    "mri_training_images = [\n",
    "    {\n",
    "        \"image\": [\n",
    "            path.join(case, f\"{path.split(case)[-1]}_t1ce.nii.gz\"),\n",
    "            path.join(case, f\"{path.split(case)[-1]}_t2.nii.gz\"),\n",
    "            path.join(case, f\"{path.split(case)[-1]}_flair.nii.gz\"),\n",
    "        ],\n",
    "        \"seg\": path.join(case, f\"{path.split(case)[-1]}_seg.nii.gz\"),\n",
    "    }\n",
    "    for case in cases[:100]  #! Only 100 cases taken as test slice\n",
    "]\n",
    "# Extract the path to the training nifti files of each case. Chosen are t1ce, t2 and flair. Segmentation is also extracted.\n",
    "\n",
    "# TODO: Research more about the following transforms as well as importance of transforms for MRI data.\n",
    "transform_images = Compose(\n",
    "    [\n",
    "        LoadImaged(keys=[\"image\", \"seg\"]),  # Loads the images and segmentation\n",
    "        EnsureChannelFirstd(\n",
    "            keys=[\"image\", \"seg\"]\n",
    "        ),  # Ensures that the images are in the correct format, ie channel is first dimension.\n",
    "        ConvertLabelsIntoOneHotd(\n",
    "            keys=[\"seg\"]\n",
    "        ),  # Converts the segmentation into one hot encoding\n",
    "        # SpatialPadd(\n",
    "        #     keys=[\"image\", \"seg\"], spatial_size=(256, 256, 155)\n",
    "        # ),  # Ensures that image dimensions are divisible by 32 for U-Net\n",
    "        # NormalizeIntensityd(\n",
    "        #     keys=\"image\", nonzero=True, channel_wise=True\n",
    "        # ),  # Normalise Intensity of the images\n",
    "        # Orientationd(keys=[\"image\", \"seg\"], axcodes=\"RAS\"),\n",
    "        # Spacingd(\n",
    "        #     keys=[\"image\", \"seg\"],\n",
    "        #     pixdim=(1.0, 1.0, 1.0),\n",
    "        #     mode=(\"bilinear\", \"nearest\"),\n",
    "        # ),  # Ensure spacing of voxels are uniform among scans\n",
    "        # RandFlipd(keys=[\"image\", \"seg\"], prob=0.5, spatial_axis=0),\n",
    "        # RandFlipd(keys=[\"image\", \"seg\"], prob=0.5, spatial_axis=1),\n",
    "        # RandFlipd(\n",
    "        #     keys=[\"image\", \"seg\"], prob=0.5, spatial_axis=2\n",
    "        # ),  # Three Random flips along the three axes\n",
    "    ]\n",
    ")\n",
    "# Defines the transformations to be applied to the training data.\n",
    "\n",
    "persistent_dataset_path = (\n",
    "    r\"./cache\"  # Path of the persistent dataset cache, to speed up training process\n",
    ")\n",
    "\n",
    "dataset_training = PersistentDataset(\n",
    "    mri_training_images, transform=transform_images, cache_dir=persistent_dataset_path\n",
    ")  # Preparation of the training dataset\n"
   ]
  },
  {
   "cell_type": "code",
   "execution_count": 26,
   "metadata": {},
   "outputs": [
    {
     "ename": "RuntimeError",
     "evalue": "applying transform <monai.transforms.spatial.dictionary.Orientationd object at 0x00000180CC3B37C0>",
     "output_type": "error",
     "traceback": [
      "\u001b[1;31m---------------------------------------------------------------------------\u001b[0m",
      "\u001b[1;31mValueError\u001b[0m                                Traceback (most recent call last)",
      "File \u001b[1;32mc:\\Users\\User\\anaconda3\\envs\\mri\\lib\\site-packages\\monai\\transforms\\transform.py:89\u001b[0m, in \u001b[0;36mapply_transform\u001b[1;34m(transform, data, map_items, unpack_items, log_stats)\u001b[0m\n\u001b[0;32m     88\u001b[0m         \u001b[39mreturn\u001b[39;00m [_apply_transform(transform, item, unpack_items) \u001b[39mfor\u001b[39;00m item \u001b[39min\u001b[39;00m data]\n\u001b[1;32m---> 89\u001b[0m     \u001b[39mreturn\u001b[39;00m _apply_transform(transform, data, unpack_items)\n\u001b[0;32m     90\u001b[0m \u001b[39mexcept\u001b[39;00m \u001b[39mException\u001b[39;00m \u001b[39mas\u001b[39;00m e:\n",
      "File \u001b[1;32mc:\\Users\\User\\anaconda3\\envs\\mri\\lib\\site-packages\\monai\\transforms\\transform.py:53\u001b[0m, in \u001b[0;36m_apply_transform\u001b[1;34m(transform, parameters, unpack_parameters)\u001b[0m\n\u001b[0;32m     51\u001b[0m     \u001b[39mreturn\u001b[39;00m transform(\u001b[39m*\u001b[39mparameters)\n\u001b[1;32m---> 53\u001b[0m \u001b[39mreturn\u001b[39;00m transform(parameters)\n",
      "File \u001b[1;32mc:\\Users\\User\\anaconda3\\envs\\mri\\lib\\site-packages\\monai\\transforms\\spatial\\dictionary.py:662\u001b[0m, in \u001b[0;36mOrientationd.__call__\u001b[1;34m(self, data)\u001b[0m\n\u001b[0;32m    661\u001b[0m meta_data \u001b[39m=\u001b[39m d[meta_key]\n\u001b[1;32m--> 662\u001b[0m d[key], old_affine, new_affine \u001b[39m=\u001b[39m \u001b[39mself\u001b[39;49m\u001b[39m.\u001b[39;49mornt_transform(d[key], affine\u001b[39m=\u001b[39;49mmeta_data[\u001b[39m\"\u001b[39;49m\u001b[39maffine\u001b[39;49m\u001b[39m\"\u001b[39;49m])\n\u001b[0;32m    663\u001b[0m \u001b[39mself\u001b[39m\u001b[39m.\u001b[39mpush_transform(d, key, extra_info\u001b[39m=\u001b[39m{\u001b[39m\"\u001b[39m\u001b[39mmeta_key\u001b[39m\u001b[39m\"\u001b[39m: meta_key, \u001b[39m\"\u001b[39m\u001b[39mold_affine\u001b[39m\u001b[39m\"\u001b[39m: old_affine})\n",
      "File \u001b[1;32mc:\\Users\\User\\anaconda3\\envs\\mri\\lib\\site-packages\\monai\\transforms\\spatial\\array.py:557\u001b[0m, in \u001b[0;36mOrientation.__call__\u001b[1;34m(self, data_array, affine)\u001b[0m\n\u001b[0;32m    556\u001b[0m \u001b[39mif\u001b[39;00m \u001b[39mlen\u001b[39m(dst) \u001b[39m<\u001b[39m sr:\n\u001b[1;32m--> 557\u001b[0m     \u001b[39mraise\u001b[39;00m \u001b[39mValueError\u001b[39;00m(\n\u001b[0;32m    558\u001b[0m         \u001b[39mf\u001b[39m\u001b[39m\"\u001b[39m\u001b[39maxcodes must match data_array spatially, got axcodes=\u001b[39m\u001b[39m{\u001b[39;00m\u001b[39mlen\u001b[39m(\u001b[39mself\u001b[39m\u001b[39m.\u001b[39maxcodes)\u001b[39m}\u001b[39;00m\u001b[39mD data_array=\u001b[39m\u001b[39m{\u001b[39;00msr\u001b[39m}\u001b[39;00m\u001b[39mD\u001b[39m\u001b[39m\"\u001b[39m\n\u001b[0;32m    559\u001b[0m     )\n\u001b[0;32m    560\u001b[0m spatial_ornt \u001b[39m=\u001b[39m nib\u001b[39m.\u001b[39morientations\u001b[39m.\u001b[39mornt_transform(src, dst)\n",
      "\u001b[1;31mValueError\u001b[0m: axcodes must match data_array spatially, got axcodes=3D data_array=4D",
      "\nThe above exception was the direct cause of the following exception:\n",
      "\u001b[1;31mRuntimeError\u001b[0m                              Traceback (most recent call last)",
      "\u001b[1;32md:\\University\\OneDrive - UCSI University\\FYP 2022\\Code\\3D-Segmentation-of-Glioblastoma-from-MRI\\main.ipynb Cell 7'\u001b[0m in \u001b[0;36m<cell line: 1>\u001b[1;34m()\u001b[0m\n\u001b[1;32m----> <a href='vscode-notebook-cell:/d%3A/University/OneDrive%20-%20UCSI%20University/FYP%202022/Code/3D-Segmentation-of-Glioblastoma-from-MRI/main.ipynb#ch0000005?line=0'>1</a>\u001b[0m dataset_training[\u001b[39m0\u001b[39;49m]\n",
      "File \u001b[1;32mc:\\Users\\User\\anaconda3\\envs\\mri\\lib\\site-packages\\monai\\data\\dataset.py:97\u001b[0m, in \u001b[0;36mDataset.__getitem__\u001b[1;34m(self, index)\u001b[0m\n\u001b[0;32m     94\u001b[0m \u001b[39mif\u001b[39;00m \u001b[39misinstance\u001b[39m(index, collections\u001b[39m.\u001b[39mabc\u001b[39m.\u001b[39mSequence):\n\u001b[0;32m     95\u001b[0m     \u001b[39m# dataset[[1, 3, 4]]\u001b[39;00m\n\u001b[0;32m     96\u001b[0m     \u001b[39mreturn\u001b[39;00m Subset(dataset\u001b[39m=\u001b[39m\u001b[39mself\u001b[39m, indices\u001b[39m=\u001b[39mindex)\n\u001b[1;32m---> 97\u001b[0m \u001b[39mreturn\u001b[39;00m \u001b[39mself\u001b[39;49m\u001b[39m.\u001b[39;49m_transform(index)\n",
      "File \u001b[1;32mc:\\Users\\User\\anaconda3\\envs\\mri\\lib\\site-packages\\monai\\data\\dataset.py:364\u001b[0m, in \u001b[0;36mPersistentDataset._transform\u001b[1;34m(self, index)\u001b[0m\n\u001b[0;32m    363\u001b[0m \u001b[39mdef\u001b[39;00m \u001b[39m_transform\u001b[39m(\u001b[39mself\u001b[39m, index: \u001b[39mint\u001b[39m):\n\u001b[1;32m--> 364\u001b[0m     pre_random_item \u001b[39m=\u001b[39m \u001b[39mself\u001b[39;49m\u001b[39m.\u001b[39;49m_cachecheck(\u001b[39mself\u001b[39;49m\u001b[39m.\u001b[39;49mdata[index])\n\u001b[0;32m    365\u001b[0m     \u001b[39mreturn\u001b[39;00m \u001b[39mself\u001b[39m\u001b[39m.\u001b[39m_post_transform(pre_random_item)\n",
      "File \u001b[1;32mc:\\Users\\User\\anaconda3\\envs\\mri\\lib\\site-packages\\monai\\data\\dataset.py:337\u001b[0m, in \u001b[0;36mPersistentDataset._cachecheck\u001b[1;34m(self, item_transformed)\u001b[0m\n\u001b[0;32m    334\u001b[0m         \u001b[39mif\u001b[39;00m sys\u001b[39m.\u001b[39mplatform \u001b[39m!=\u001b[39m \u001b[39m\"\u001b[39m\u001b[39mwin32\u001b[39m\u001b[39m\"\u001b[39m:\n\u001b[0;32m    335\u001b[0m             \u001b[39mraise\u001b[39;00m e\n\u001b[1;32m--> 337\u001b[0m _item_transformed \u001b[39m=\u001b[39m \u001b[39mself\u001b[39;49m\u001b[39m.\u001b[39;49m_pre_transform(deepcopy(item_transformed))  \u001b[39m# keep the original hashed\u001b[39;00m\n\u001b[0;32m    338\u001b[0m \u001b[39mif\u001b[39;00m hashfile \u001b[39mis\u001b[39;00m \u001b[39mNone\u001b[39;00m:\n\u001b[0;32m    339\u001b[0m     \u001b[39mreturn\u001b[39;00m _item_transformed\n",
      "File \u001b[1;32mc:\\Users\\User\\anaconda3\\envs\\mri\\lib\\site-packages\\monai\\data\\dataset.py:278\u001b[0m, in \u001b[0;36mPersistentDataset._pre_transform\u001b[1;34m(self, item_transformed)\u001b[0m\n\u001b[0;32m    276\u001b[0m     \u001b[39m# this is to be consistent with CacheDataset even though it's not in a multi-thread situation.\u001b[39;00m\n\u001b[0;32m    277\u001b[0m     _xform \u001b[39m=\u001b[39m deepcopy(_transform) \u001b[39mif\u001b[39;00m \u001b[39misinstance\u001b[39m(_transform, ThreadUnsafe) \u001b[39melse\u001b[39;00m _transform\n\u001b[1;32m--> 278\u001b[0m     item_transformed \u001b[39m=\u001b[39m apply_transform(_xform, item_transformed)\n\u001b[0;32m    279\u001b[0m \u001b[39mreturn\u001b[39;00m item_transformed\n",
      "File \u001b[1;32mc:\\Users\\User\\anaconda3\\envs\\mri\\lib\\site-packages\\monai\\transforms\\transform.py:113\u001b[0m, in \u001b[0;36mapply_transform\u001b[1;34m(transform, data, map_items, unpack_items, log_stats)\u001b[0m\n\u001b[0;32m    111\u001b[0m     \u001b[39melse\u001b[39;00m:\n\u001b[0;32m    112\u001b[0m         _log_stats(data\u001b[39m=\u001b[39mdata)\n\u001b[1;32m--> 113\u001b[0m \u001b[39mraise\u001b[39;00m \u001b[39mRuntimeError\u001b[39;00m(\u001b[39mf\u001b[39m\u001b[39m\"\u001b[39m\u001b[39mapplying transform \u001b[39m\u001b[39m{\u001b[39;00mtransform\u001b[39m}\u001b[39;00m\u001b[39m\"\u001b[39m) \u001b[39mfrom\u001b[39;00m \u001b[39me\u001b[39;00m\n",
      "\u001b[1;31mRuntimeError\u001b[0m: applying transform <monai.transforms.spatial.dictionary.Orientationd object at 0x00000180CC3B37C0>"
     ]
    }
   ],
   "source": [
    "dataset_training[0]"
   ]
  },
  {
   "cell_type": "code",
   "execution_count": 9,
   "metadata": {},
   "outputs": [],
   "source": [
    "slice[slice==4]=3"
   ]
  },
  {
   "cell_type": "code",
   "execution_count": 21,
   "metadata": {},
   "outputs": [
    {
     "data": {
      "text/plain": [
       "array([0., 1., 2., 4.], dtype=float32)"
      ]
     },
     "execution_count": 21,
     "metadata": {},
     "output_type": "execute_result"
    }
   ],
   "source": [
    "np.unique(slice)"
   ]
  },
  {
   "cell_type": "code",
   "execution_count": 14,
   "metadata": {},
   "outputs": [
    {
     "data": {
      "text/plain": [
       "100"
      ]
     },
     "execution_count": 14,
     "metadata": {},
     "output_type": "execute_result"
    }
   ],
   "source": [
    "dataset_training.__len__()"
   ]
  },
  {
   "cell_type": "code",
   "execution_count": 15,
   "metadata": {},
   "outputs": [
    {
     "data": {
      "text/plain": [
       "True"
      ]
     },
     "execution_count": 15,
     "metadata": {},
     "output_type": "execute_result"
    }
   ],
   "source": [
    "np.logical_or(5==5,4==2)"
   ]
  },
  {
   "cell_type": "markdown",
   "metadata": {},
   "source": [
    "T1: T1-weighted, native image, sagittal or axial 2D acquisitions, with 1–6 mm slice thickness.\n",
    "\n",
    "T1c: T1-weighted, contrast-enhanced (Gadolinium) image, with 3D acquisition and 1 mm isotropic voxel size for most patients.\n",
    "\n",
    "T2: T2-weighted image, axial 2D acquisition, with 2–6 mm slice thickness.\n",
    "\n",
    "FLAIR: T2-weighted FLAIR image, axial, coronal, or sagittal 2D acquisitions, 2–6 mm slice thickness.\n",
    "\n",
    "So for training T1c and FLAIR will be used."
   ]
  },
  {
   "cell_type": "markdown",
   "metadata": {},
   "source": [
    "1. Non-Enhancing\n",
    "2. Edema\n",
    "3. Skipped\n",
    "4. Enhancing"
   ]
  }
 ],
 "metadata": {
  "kernelspec": {
   "display_name": "Python 3.9.12 ('mri')",
   "language": "python",
   "name": "python3"
  },
  "language_info": {
   "codemirror_mode": {
    "name": "ipython",
    "version": 3
   },
   "file_extension": ".py",
   "mimetype": "text/x-python",
   "name": "python",
   "nbconvert_exporter": "python",
   "pygments_lexer": "ipython3",
   "version": "3.9.12"
  },
  "orig_nbformat": 4,
  "vscode": {
   "interpreter": {
    "hash": "ae52af71424788817ac7931c57470275392053099e15f5f167044ac7f80a887f"
   }
  }
 },
 "nbformat": 4,
 "nbformat_minor": 2
}
